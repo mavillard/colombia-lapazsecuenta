{
 "cells": [
  {
   "cell_type": "markdown",
   "metadata": {},
   "source": [
    "# Tomo 5B"
   ]
  },
  {
   "cell_type": "code",
   "execution_count": 1,
   "metadata": {},
   "outputs": [],
   "source": [
    "from collections import Counter\n",
    "from string import punctuation\n",
    "\n",
    "import nltk\n",
    "from nltk.corpus import stopwords"
   ]
  },
  {
   "cell_type": "markdown",
   "metadata": {},
   "source": [
    "## Loading data"
   ]
  },
  {
   "cell_type": "code",
   "execution_count": 2,
   "metadata": {},
   "outputs": [],
   "source": [
    "with open('data/aux/biblioteca/tomos/5b.txt') as f:\n",
    "    text = f.read()"
   ]
  },
  {
   "cell_type": "markdown",
   "metadata": {},
   "source": [
    "## Cleaning data"
   ]
  },
  {
   "cell_type": "code",
   "execution_count": 3,
   "metadata": {},
   "outputs": [],
   "source": [
    "chars = []\n",
    "for c in text:\n",
    "    if not c.isalnum():\n",
    "        chars.append(c)"
   ]
  },
  {
   "cell_type": "code",
   "execution_count": 4,
   "metadata": {},
   "outputs": [],
   "source": [
    "characters = set(chars)"
   ]
  },
  {
   "cell_type": "code",
   "execution_count": 5,
   "metadata": {},
   "outputs": [],
   "source": [
    "with open('data/stopwords/spanish_stopwords.txt') as f:\n",
    "    sp_stopwords = list(set(map(str.strip, f.readlines())))\n",
    "\n",
    "with open('data/stopwords/my_stopwords.txt') as f:\n",
    "    my_stopwords = list(set(map(str.strip, f.readlines())))\n",
    "\n",
    "stop = stopwords.words('spanish') + sp_stopwords + my_stopwords + list(punctuation) + list(characters)"
   ]
  },
  {
   "cell_type": "code",
   "execution_count": 6,
   "metadata": {},
   "outputs": [],
   "source": [
    "def clean1(s):\n",
    "    r = s.lower().strip()\n",
    "    rs = [w for w in nltk.word_tokenize(r) if w not in stop and len(w) > 2]\n",
    "    r = ' '.join(rs)\n",
    "    return r"
   ]
  },
  {
   "cell_type": "code",
   "execution_count": 7,
   "metadata": {},
   "outputs": [],
   "source": [
    "cleaned_text = clean1(text)"
   ]
  },
  {
   "cell_type": "code",
   "execution_count": 8,
   "metadata": {},
   "outputs": [
    {
     "name": "stdout",
     "output_type": "stream",
     "text": [
      "‑ 11\n",
      "¡ 38\n",
      ": 1\n",
      "| 1\n",
      "… 1\n",
      "— 354\n",
      "* 3\n",
      "  67418\n",
      "́ 6\n",
      "¿ 205\n",
      "/ 64\n",
      "° 3\n",
      ", 9\n",
      "- 1535\n",
      ". 132\n"
     ]
    }
   ],
   "source": [
    "for c in characters:\n",
    "    if c in cleaned_text:\n",
    "        print(c, cleaned_text.count(c))"
   ]
  },
  {
   "cell_type": "code",
   "execution_count": 9,
   "metadata": {},
   "outputs": [],
   "source": [
    "def clean2(s):\n",
    "    r = s\n",
    "    r = r.replace('¿', '')\n",
    "    r = r.replace('‑', '-')\n",
    "    r = r.replace('¡', '')\n",
    "    r = r.replace('—', '')\n",
    "    r = r.replace('-', '-')\n",
    "    return r"
   ]
  },
  {
   "cell_type": "code",
   "execution_count": 10,
   "metadata": {},
   "outputs": [],
   "source": [
    "cleaned_text = clean2(cleaned_text)"
   ]
  },
  {
   "cell_type": "markdown",
   "metadata": {},
   "source": [
    "## Processing data"
   ]
  },
  {
   "cell_type": "code",
   "execution_count": 11,
   "metadata": {},
   "outputs": [],
   "source": [
    "counter = Counter(cleaned_text.split())"
   ]
  },
  {
   "cell_type": "code",
   "execution_count": 12,
   "metadata": {},
   "outputs": [
    {
     "data": {
      "text/plain": [
       "[('paz', 1055),\n",
       " ('conflicto', 776),\n",
       " ('víctimas', 732),\n",
       " ('gobierno', 576),\n",
       " ('farc-ep', 567),\n",
       " ('acuerdo', 485),\n",
       " ('verdad', 424),\n",
       " ('ciclo', 396),\n",
       " ('proceso', 386),\n",
       " ('justicia', 377),\n",
       " ('comisión', 353),\n",
       " ('colombia', 350),\n",
       " ('delegación', 342),\n",
       " ('reparación', 336),\n",
       " ('nacional', 299),\n",
       " ('conversaciones', 290),\n",
       " ('derechos', 286),\n",
       " ('mesa', 275),\n",
       " ('especial', 271),\n",
       " ('fin', 260),\n",
       " ('repetición', 251),\n",
       " ('habana', 242),\n",
       " ('medidas', 227),\n",
       " ('personas', 212),\n",
       " ('país', 202),\n",
       " ('presidente', 198),\n",
       " ('guerra', 198),\n",
       " ('parte', 196),\n",
       " ('armado', 192),\n",
       " ('colombianos', 189),\n",
       " ('general', 186),\n",
       " ('cese', 182),\n",
       " ('manera', 176),\n",
       " ('años', 169),\n",
       " ('sistema', 168),\n",
       " ('integral', 166),\n",
       " ('declaración', 155),\n",
       " ('fuego', 151),\n",
       " ('acuerdos', 150),\n",
       " ('trabajo', 149),\n",
       " ('final', 143),\n",
       " ('construcción', 138),\n",
       " ('jurisdicción', 135),\n",
       " ('hoy', 135),\n",
       " ('calle', 134),\n",
       " ('subcomisión', 131),\n",
       " ('responsabilidad', 131),\n",
       " ('reconocimiento', 130),\n",
       " ('humberto', 126),\n",
       " ('derecho', 126),\n",
       " ('santos', 126),\n",
       " ('humanos', 126),\n",
       " ('república', 125),\n",
       " ('fuerzas', 125),\n",
       " ('violencia', 122),\n",
       " ('comunicado', 122),\n",
       " ('sociedad', 122),\n",
       " ('búsqueda', 119),\n",
       " ('juan', 119),\n",
       " ('internacional', 118),\n",
       " ('seguridad', 117),\n",
       " ('debe', 115),\n",
       " ('esclarecimiento', 115),\n",
       " ('implementación', 113),\n",
       " ('participación', 111),\n",
       " ('convivencia', 110),\n",
       " ('desaparecidas', 110),\n",
       " ('compromiso', 109),\n",
       " ('manuel', 108),\n",
       " ('medida', 107),\n",
       " ('posible', 106),\n",
       " ('puntos', 106),\n",
       " ('mecanismos', 105),\n",
       " ('cuba', 104),\n",
       " ('frente', 103),\n",
       " ('proyecto', 101),\n",
       " ('lugar', 101),\n",
       " ('tres', 101),\n",
       " ('desarrollo', 100),\n",
       " ('miembros', 99),\n",
       " ('contribuir', 99),\n",
       " ('marcha', 96),\n",
       " ('política', 95),\n",
       " ('desminado', 95),\n",
       " ('vez', 94),\n",
       " ('colombiano', 93),\n",
       " ('tema', 93),\n",
       " ('conjunto', 93),\n",
       " ('propósito', 92),\n",
       " ('graves', 92),\n",
       " ('militares', 91),\n",
       " ('razón', 91),\n",
       " ('confianza', 91),\n",
       " ('vida', 91),\n",
       " ('grupo', 91),\n",
       " ('procesos', 90),\n",
       " ('información', 89),\n",
       " ('importante', 89),\n",
       " ('condiciones', 88),\n",
       " ('marco', 87)]"
      ]
     },
     "execution_count": 12,
     "metadata": {},
     "output_type": "execute_result"
    }
   ],
   "source": [
    "counter.most_common(100)"
   ]
  },
  {
   "cell_type": "markdown",
   "metadata": {},
   "source": [
    "## Saving data"
   ]
  },
  {
   "cell_type": "code",
   "execution_count": 13,
   "metadata": {},
   "outputs": [],
   "source": [
    "with open('data/out/cleaned_tomo_5b.txt', 'w') as f:\n",
    "    f.write(cleaned_text)"
   ]
  },
  {
   "cell_type": "code",
   "execution_count": null,
   "metadata": {},
   "outputs": [],
   "source": []
  }
 ],
 "metadata": {
  "kernelspec": {
   "display_name": "Python 3",
   "language": "python",
   "name": "python3"
  },
  "language_info": {
   "codemirror_mode": {
    "name": "ipython",
    "version": 3
   },
   "file_extension": ".py",
   "mimetype": "text/x-python",
   "name": "python",
   "nbconvert_exporter": "python",
   "pygments_lexer": "ipython3",
   "version": "3.5.2"
  }
 },
 "nbformat": 4,
 "nbformat_minor": 2
}
