{
 "cells": [
  {
   "cell_type": "markdown",
   "metadata": {},
   "source": [
    "# Histogramas"
   ]
  },
  {
   "cell_type": "code",
   "execution_count": 1,
   "metadata": {},
   "outputs": [],
   "source": [
    "from collections import Counter\n",
    "\n",
    "import pandas as pd\n",
    "import seaborn as sns"
   ]
  },
  {
   "cell_type": "code",
   "execution_count": 2,
   "metadata": {},
   "outputs": [],
   "source": [
    "%matplotlib inline"
   ]
  },
  {
   "cell_type": "code",
   "execution_count": 3,
   "metadata": {},
   "outputs": [],
   "source": [
    "sns.set()"
   ]
  },
  {
   "cell_type": "markdown",
   "metadata": {},
   "source": [
    "## Loading data"
   ]
  },
  {
   "cell_type": "code",
   "execution_count": 4,
   "metadata": {},
   "outputs": [],
   "source": [
    "with open('data/out/cleaned_tomo_1.txt') as f:\n",
    "    text1 = f.read()\n",
    "\n",
    "with open('data/out/cleaned_tomo_5a.txt') as f:\n",
    "    text5a = f.read()\n",
    "\n",
    "with open('data/out/cleaned_tomo_5b.txt') as f:\n",
    "    text5b = f.read()\n",
    "\n",
    "with open('data/out/cleaned_tomo_7.txt') as f:\n",
    "    text7 = f.read()"
   ]
  },
  {
   "cell_type": "markdown",
   "metadata": {},
   "source": [
    "## Processing data"
   ]
  },
  {
   "cell_type": "code",
   "execution_count": 5,
   "metadata": {},
   "outputs": [],
   "source": [
    "counter1 = Counter(text1.split())\n",
    "counter5a = Counter(text5a.split())\n",
    "counter5b = Counter(text5b.split())\n",
    "counter7 = Counter(text7.split())"
   ]
  },
  {
   "cell_type": "code",
   "execution_count": 6,
   "metadata": {},
   "outputs": [],
   "source": [
    "N = 5"
   ]
  },
  {
   "cell_type": "code",
   "execution_count": 7,
   "metadata": {},
   "outputs": [],
   "source": [
    "kws1 = [k for k, v in counter1.most_common(N)]\n",
    "kws5a = [k for k, v in counter5a.most_common(N)]\n",
    "kws5b = [k for k, v in counter5b.most_common(N)]\n",
    "kws7 = [k for k, v in counter7.most_common(N)]"
   ]
  },
  {
   "cell_type": "code",
   "execution_count": 8,
   "metadata": {},
   "outputs": [],
   "source": [
    "kws = set(kws1 + kws5a + kws5b + kws7)"
   ]
  },
  {
   "cell_type": "code",
   "execution_count": 9,
   "metadata": {},
   "outputs": [
    {
     "data": {
      "text/plain": [
       "{'acuerdo',\n",
       " 'conflicto',\n",
       " 'farc-ep',\n",
       " 'gobierno',\n",
       " 'mesa',\n",
       " 'mujeres',\n",
       " 'nacional',\n",
       " 'participación',\n",
       " 'paz',\n",
       " 'víctimas'}"
      ]
     },
     "execution_count": 9,
     "metadata": {},
     "output_type": "execute_result"
    }
   ],
   "source": [
    "kws"
   ]
  },
  {
   "cell_type": "code",
   "execution_count": 10,
   "metadata": {},
   "outputs": [],
   "source": [
    "df = pd.DataFrame({\n",
    "    'Tomo 1': pd.Series([counter1[k] for k in kws], index=kws),\n",
    "    'Tomo 5A': pd.Series([counter5a[k] for k in kws], index=kws),\n",
    "    'Tomo 5B': pd.Series([counter5b[k] for k in kws], index=kws),\n",
    "    'Tomo 7': pd.Series([counter7[k] for k in kws], index=kws),\n",
    "}).sort_index()"
   ]
  },
  {
   "cell_type": "code",
   "execution_count": 11,
   "metadata": {},
   "outputs": [
    {
     "data": {
      "text/html": [
       "<div>\n",
       "<style scoped>\n",
       "    .dataframe tbody tr th:only-of-type {\n",
       "        vertical-align: middle;\n",
       "    }\n",
       "\n",
       "    .dataframe tbody tr th {\n",
       "        vertical-align: top;\n",
       "    }\n",
       "\n",
       "    .dataframe thead th {\n",
       "        text-align: right;\n",
       "    }\n",
       "</style>\n",
       "<table border=\"1\" class=\"dataframe\">\n",
       "  <thead>\n",
       "    <tr style=\"text-align: right;\">\n",
       "      <th></th>\n",
       "      <th>Tomo 1</th>\n",
       "      <th>Tomo 5A</th>\n",
       "      <th>Tomo 5B</th>\n",
       "      <th>Tomo 7</th>\n",
       "    </tr>\n",
       "  </thead>\n",
       "  <tbody>\n",
       "    <tr>\n",
       "      <th>acuerdo</th>\n",
       "      <td>265</td>\n",
       "      <td>237</td>\n",
       "      <td>485</td>\n",
       "      <td>368</td>\n",
       "    </tr>\n",
       "    <tr>\n",
       "      <th>conflicto</th>\n",
       "      <td>254</td>\n",
       "      <td>602</td>\n",
       "      <td>776</td>\n",
       "      <td>305</td>\n",
       "    </tr>\n",
       "    <tr>\n",
       "      <th>farc-ep</th>\n",
       "      <td>385</td>\n",
       "      <td>400</td>\n",
       "      <td>567</td>\n",
       "      <td>217</td>\n",
       "    </tr>\n",
       "    <tr>\n",
       "      <th>gobierno</th>\n",
       "      <td>397</td>\n",
       "      <td>367</td>\n",
       "      <td>576</td>\n",
       "      <td>338</td>\n",
       "    </tr>\n",
       "    <tr>\n",
       "      <th>mesa</th>\n",
       "      <td>100</td>\n",
       "      <td>309</td>\n",
       "      <td>275</td>\n",
       "      <td>510</td>\n",
       "    </tr>\n",
       "    <tr>\n",
       "      <th>mujeres</th>\n",
       "      <td>13</td>\n",
       "      <td>123</td>\n",
       "      <td>58</td>\n",
       "      <td>852</td>\n",
       "    </tr>\n",
       "    <tr>\n",
       "      <th>nacional</th>\n",
       "      <td>155</td>\n",
       "      <td>277</td>\n",
       "      <td>299</td>\n",
       "      <td>675</td>\n",
       "    </tr>\n",
       "    <tr>\n",
       "      <th>participación</th>\n",
       "      <td>82</td>\n",
       "      <td>140</td>\n",
       "      <td>111</td>\n",
       "      <td>602</td>\n",
       "    </tr>\n",
       "    <tr>\n",
       "      <th>paz</th>\n",
       "      <td>390</td>\n",
       "      <td>683</td>\n",
       "      <td>1055</td>\n",
       "      <td>1014</td>\n",
       "    </tr>\n",
       "    <tr>\n",
       "      <th>víctimas</th>\n",
       "      <td>133</td>\n",
       "      <td>930</td>\n",
       "      <td>732</td>\n",
       "      <td>358</td>\n",
       "    </tr>\n",
       "  </tbody>\n",
       "</table>\n",
       "</div>"
      ],
      "text/plain": [
       "               Tomo 1  Tomo 5A  Tomo 5B  Tomo 7\n",
       "acuerdo           265      237      485     368\n",
       "conflicto         254      602      776     305\n",
       "farc-ep           385      400      567     217\n",
       "gobierno          397      367      576     338\n",
       "mesa              100      309      275     510\n",
       "mujeres            13      123       58     852\n",
       "nacional          155      277      299     675\n",
       "participación      82      140      111     602\n",
       "paz               390      683     1055    1014\n",
       "víctimas          133      930      732     358"
      ]
     },
     "execution_count": 11,
     "metadata": {},
     "output_type": "execute_result"
    }
   ],
   "source": [
    "df"
   ]
  },
  {
   "cell_type": "code",
   "execution_count": 13,
   "metadata": {},
   "outputs": [
    {
     "data": {
      "image/png": "[encoded data removed]",
      "text/plain": [
       "<Figure size 864x432 with 1 Axes>"
      ]
     },
     "metadata": {},
     "output_type": "display_data"
    }
   ],
   "source": [
    "ax = df.T.plot(\n",
    "    figsize=(12, 6),\n",
    "    kind='bar',\n",
    "    title='Frecuencias de las 10 palabras más utilizadas por tomo',\n",
    "    rot=0,\n",
    ")\n",
    "ax.set_xlabel('Tomo')\n",
    "ax.set_ylabel('Frecuencia');"
   ]
  },
  {
   "cell_type": "code",
   "execution_count": null,
   "metadata": {},
   "outputs": [],
   "source": []
  }
 ],
 "metadata": {
  "kernelspec": {
   "display_name": "Python 3",
   "language": "python",
   "name": "python3"
  },
  "language_info": {
   "codemirror_mode": {
    "name": "ipython",
    "version": 3
   },
   "file_extension": ".py",
   "mimetype": "text/x-python",
   "name": "python",
   "nbconvert_exporter": "python",
   "pygments_lexer": "ipython3",
   "version": "3.5.2"
  }
 },
 "nbformat": 4,
 "nbformat_minor": 2
}
