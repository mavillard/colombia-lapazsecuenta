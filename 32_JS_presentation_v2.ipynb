{
 "cells": [
  {
   "cell_type": "markdown",
   "metadata": {},
   "source": [
    "# Union and exclusive intersection"
   ]
  },
  {
   "cell_type": "code",
   "execution_count": 1,
   "metadata": {},
   "outputs": [],
   "source": [
    "import networkx as nx\n",
    "import pandas as pd"
   ]
  },
  {
   "cell_type": "markdown",
   "metadata": {},
   "source": [
    "## Loading data"
   ]
  },
  {
   "cell_type": "code",
   "execution_count": 2,
   "metadata": {},
   "outputs": [],
   "source": [
    "pazsecuenta_df = pd.read_csv('data/JS_presentation/lapazsecuenta.csv')\n",
    "acuerdopaz_df = pd.read_csv('data/JS_presentation/acuerdo.csv')\n",
    "hechospaz_df = pd.read_csv('data/JS_presentation/hechosdepaz.csv')\n",
    "ninospaz_df = pd.read_csv('data/JS_presentation/ninospaz.csv')\n",
    "twitter_df = pd.read_csv('data/JS_presentation/twitterpaz.csv')"
   ]
  },
  {
   "cell_type": "markdown",
   "metadata": {},
   "source": [
    "## Pre-processing data"
   ]
  },
  {
   "cell_type": "markdown",
   "metadata": {},
   "source": [
    "### Cleaning data"
   ]
  },
  {
   "cell_type": "code",
   "execution_count": 3,
   "metadata": {},
   "outputs": [],
   "source": [
    "my_stopwords = ['alguien', 'decide', 'decir', 'demás', 'dice', 'dirías', 'si', 'sí', 'vez', 'veces', 'video', 'ya']"
   ]
  },
  {
   "cell_type": "code",
   "execution_count": 4,
   "metadata": {},
   "outputs": [],
   "source": [
    "pazsecuenta_df.id = pazsecuenta_df.id.str.lower()\n",
    "pazsecuenta_df = pazsecuenta_df[~pazsecuenta_df.id.isin(my_stopwords)]\n",
    "\n",
    "acuerdopaz_df.id = acuerdopaz_df.id.str.lower()\n",
    "acuerdopaz_df = acuerdopaz_df[~acuerdopaz_df.id.isin(my_stopwords)]\n",
    "\n",
    "hechospaz_df.id = hechospaz_df.id.str.lower()\n",
    "hechospaz_df = hechospaz_df[~hechospaz_df.id.isin(my_stopwords)]\n",
    "\n",
    "ninospaz_df.id = ninospaz_df.id.str.lower()\n",
    "ninospaz_df = ninospaz_df[~ninospaz_df.id.isin(my_stopwords)]\n",
    "\n",
    "twitter_df.id = twitter_df.id.str.lower()\n",
    "twitter_df = twitter_df[~twitter_df.id.isin(my_stopwords)]"
   ]
  },
  {
   "cell_type": "markdown",
   "metadata": {},
   "source": [
    "### Normalizing data"
   ]
  },
  {
   "cell_type": "code",
   "execution_count": 5,
   "metadata": {},
   "outputs": [],
   "source": [
    "N = pazsecuenta_df.freq.max()\n",
    "pazsecuenta_df['norm'] = pazsecuenta_df.freq.apply(lambda x: x * 100 // N)\n",
    "N = acuerdopaz_df.freq.max()\n",
    "acuerdopaz_df['norm'] = acuerdopaz_df.freq.apply(lambda x: x * 100 // N)\n",
    "N = hechospaz_df.freq.max()\n",
    "hechospaz_df['norm'] = hechospaz_df.freq.apply(lambda x: x * 100 // N)\n",
    "N = ninospaz_df.freq.max()\n",
    "ninospaz_df['norm'] = ninospaz_df.freq.apply(lambda x: x * 100 // N)\n",
    "N = twitter_df.freq.max()\n",
    "twitter_df['norm'] = twitter_df.freq.apply(lambda x: x * 100 // N)"
   ]
  },
  {
   "cell_type": "markdown",
   "metadata": {},
   "source": [
    "## Processing data"
   ]
  },
  {
   "cell_type": "code",
   "execution_count": 10,
   "metadata": {},
   "outputs": [],
   "source": [
    "all_df = pd.concat([pazsecuenta_df, acuerdopaz_df, hechospaz_df, ninospaz_df, twitter_df]).groupby('id').sum()"
   ]
  },
  {
   "cell_type": "code",
   "execution_count": 11,
   "metadata": {},
   "outputs": [],
   "source": [
    "all_sr = all_df.reset_index().set_index('id').norm\n",
    "all_sr.index.name = None"
   ]
  },
  {
   "cell_type": "code",
   "execution_count": 20,
   "metadata": {},
   "outputs": [
    {
     "data": {
      "text/plain": [
       "['años',\n",
       " 'bueno',\n",
       " 'colombia',\n",
       " 'gente',\n",
       " 'hablar',\n",
       " 'historia',\n",
       " 'literatura',\n",
       " 'momento',\n",
       " 'mundo',\n",
       " 'niño',\n",
       " 'niños',\n",
       " 'palabra',\n",
       " 'palabras',\n",
       " 'paz',\n",
       " 'personas',\n",
       " 'siempre',\n",
       " 'vida',\n",
       " 'violencia']"
      ]
     },
     "execution_count": 20,
     "metadata": {},
     "output_type": "execute_result"
    }
   ],
   "source": [
    "list(pazsecuenta_df.id)"
   ]
  },
  {
   "cell_type": "code",
   "execution_count": 27,
   "metadata": {},
   "outputs": [],
   "source": [
    "g = nx.DiGraph()\n",
    "\n",
    "g.add_node('La paz se cuenta', type='group')\n",
    "g.add_node('Acuerdo de paz', type='group')\n",
    "g.add_node('Hechos de paz', type='group')\n",
    "g.add_node('Los niños piensan la paz', type='group')\n",
    "g.add_node('Conversación en Twitter', type='group')\n",
    "\n",
    "pazsecuenta = list(pazsecuenta_df.id)\n",
    "acuerdopaz = list(acuerdopaz_df.id)\n",
    "hechospaz = list(hechospaz_df.id)\n",
    "ninospaz = list(ninospaz_df.id)\n",
    "twitter = list(twitter_df.id)\n",
    "\n",
    "for w in all_sr.index:\n",
    "    g.add_node(w, type='word', weight=int(all_sr[w]))\n",
    "    if w in pazsecuenta:\n",
    "        g.add_edge('La paz se cuenta', w)\n",
    "    if w in acuerdopaz:\n",
    "        g.add_edge('Acuerdo de paz', w)\n",
    "    if w in hechospaz:\n",
    "        g.add_edge('Hechos de paz', w)\n",
    "    if w in ninospaz:\n",
    "        g.add_edge('Los niños piensan la paz', w)\n",
    "    if w in twitter:\n",
    "        g.add_edge('Conversación en Twitter', w)"
   ]
  },
  {
   "cell_type": "code",
   "execution_count": 28,
   "metadata": {},
   "outputs": [],
   "source": [
    "nx.write_gexf(g, 'data/words.gexf')"
   ]
  },
  {
   "cell_type": "code",
   "execution_count": null,
   "metadata": {},
   "outputs": [],
   "source": []
  },
  {
   "cell_type": "code",
   "execution_count": null,
   "metadata": {},
   "outputs": [],
   "source": []
  },
  {
   "cell_type": "code",
   "execution_count": null,
   "metadata": {},
   "outputs": [],
   "source": []
  },
  {
   "cell_type": "code",
   "execution_count": 71,
   "metadata": {},
   "outputs": [],
   "source": [
    "intersection_lst = set(pazsecuenta_df.id).intersection(acuerdopaz_df.id, hechospaz_df.id, ninospaz_df.id, twitter_df.id)"
   ]
  },
  {
   "cell_type": "code",
   "execution_count": null,
   "metadata": {},
   "outputs": [],
   "source": []
  },
  {
   "cell_type": "code",
   "execution_count": 72,
   "metadata": {},
   "outputs": [
    {
     "data": {
      "text/plain": [
       "set()"
      ]
     },
     "execution_count": 72,
     "metadata": {},
     "output_type": "execute_result"
    }
   ],
   "source": [
    "set(acuerdopaz_df.id).intersection(hechospaz_df.id, ninospaz_df.id, twitter_df.id)"
   ]
  },
  {
   "cell_type": "code",
   "execution_count": 73,
   "metadata": {},
   "outputs": [
    {
     "data": {
      "text/plain": [
       "{'mundo'}"
      ]
     },
     "execution_count": 73,
     "metadata": {},
     "output_type": "execute_result"
    }
   ],
   "source": [
    "set(pazsecuenta_df.id).intersection(hechospaz_df.id, ninospaz_df.id, twitter_df.id)"
   ]
  },
  {
   "cell_type": "code",
   "execution_count": 74,
   "metadata": {},
   "outputs": [
    {
     "data": {
      "text/plain": [
       "set()"
      ]
     },
     "execution_count": 74,
     "metadata": {},
     "output_type": "execute_result"
    }
   ],
   "source": [
    "set(pazsecuenta_df.id).intersection(acuerdopaz_df.id, ninospaz_df.id, twitter_df.id)"
   ]
  },
  {
   "cell_type": "code",
   "execution_count": 75,
   "metadata": {},
   "outputs": [
    {
     "data": {
      "text/plain": [
       "set()"
      ]
     },
     "execution_count": 75,
     "metadata": {},
     "output_type": "execute_result"
    }
   ],
   "source": [
    "set(pazsecuenta_df.id).intersection(acuerdopaz_df.id, hechospaz_df.id, twitter_df.id)"
   ]
  },
  {
   "cell_type": "code",
   "execution_count": 76,
   "metadata": {},
   "outputs": [
    {
     "data": {
      "text/plain": [
       "set()"
      ]
     },
     "execution_count": 76,
     "metadata": {},
     "output_type": "execute_result"
    }
   ],
   "source": [
    "set(pazsecuenta_df.id).intersection(acuerdopaz_df.id, hechospaz_df.id, ninospaz_df.id)"
   ]
  },
  {
   "cell_type": "code",
   "execution_count": null,
   "metadata": {},
   "outputs": [],
   "source": []
  },
  {
   "cell_type": "code",
   "execution_count": 78,
   "metadata": {},
   "outputs": [],
   "source": [
    "pazsecuenta = list(pazsecuenta_df.id)\n",
    "acuerdopaz = list(acuerdopaz_df.id)\n",
    "hechospaz = list(hechospaz_df.id)\n",
    "ninospaz = list(ninospaz_df.id)\n",
    "twitter = list(twitter_df.id)"
   ]
  },
  {
   "cell_type": "code",
   "execution_count": null,
   "metadata": {},
   "outputs": [],
   "source": []
  },
  {
   "cell_type": "code",
   "execution_count": 80,
   "metadata": {},
   "outputs": [
    {
     "name": "stdout",
     "output_type": "stream",
     "text": [
      "0 1 {'paz', 'colombia'}\n",
      "0 2 {'mundo', 'personas', 'gente'}\n",
      "0 3 {'niños', 'violencia', 'palabra', 'personas', 'gente', 'mundo', 'hablar'}\n",
      "0 4 {'mundo', 'paz', 'colombia'}\n",
      "1 4 {'paz', 'acuerdo', 'colombia'}\n",
      "2 3 {'persona', 'calle', 'personas', 'gente', 'mundo', 'lugar'}\n",
      "2 4 {'mundo'}\n",
      "3 4 {'mundo', 'guerra', 'cuba'}\n"
     ]
    }
   ],
   "source": [
    "for i, x in enumerate([pazsecuenta, acuerdopaz, hechospaz, ninospaz, twitter]):\n",
    "    for j, y in enumerate([pazsecuenta, acuerdopaz, hechospaz, ninospaz, twitter]):\n",
    "        if j > i:\n",
    "            inter = set(x).intersection(y)\n",
    "            if inter:\n",
    "                print(i, j, inter)"
   ]
  },
  {
   "cell_type": "code",
   "execution_count": null,
   "metadata": {},
   "outputs": [],
   "source": []
  },
  {
   "cell_type": "code",
   "execution_count": null,
   "metadata": {},
   "outputs": [],
   "source": []
  },
  {
   "cell_type": "code",
   "execution_count": 70,
   "metadata": {},
   "outputs": [],
   "source": [
    "x_pazsecuenta_lst = set(pazsecuenta).difference(acuerdopaz, hechospaz, ninospaz, twitter)\n",
    "x_acuerdopaz_lst = set(acuerdopaz).difference(pazsecuenta, hechospaz, ninospaz, twitter)\n",
    "x_hechospaz_lst = set(hechospaz).difference(pazsecuenta, acuerdopaz, ninospaz, twitter)\n",
    "x_ninospaz_lst = set(ninospaz).difference(pazsecuenta, acuerdopaz, hechospaz, twitter)\n",
    "x_twitter_lst = set(twitter).difference(pazsecuenta, acuerdopaz, hechospaz, ninospaz)\n",
    "\n",
    "x_disjunction_lst = set(x_pazsecuenta_lst).union(x_acuerdopaz_lst, x_hechospaz_lst, x_ninospaz_lst, x_twitter_lst)"
   ]
  },
  {
   "cell_type": "code",
   "execution_count": 67,
   "metadata": {},
   "outputs": [
    {
     "data": {
      "text/plain": [
       "66"
      ]
     },
     "execution_count": 67,
     "metadata": {},
     "output_type": "execute_result"
    }
   ],
   "source": [
    "len(x_pazsecuenta_lst)+\\\n",
    "len(x_acuerdopaz_lst)+\\\n",
    "len(x_hechospaz_lst)+\\\n",
    "len(x_ninospaz_lst)+\\\n",
    "len(x_twitter_lst)"
   ]
  },
  {
   "cell_type": "code",
   "execution_count": 68,
   "metadata": {},
   "outputs": [
    {
     "data": {
      "text/plain": [
       "66"
      ]
     },
     "execution_count": 68,
     "metadata": {},
     "output_type": "execute_result"
    }
   ],
   "source": [
    "len(x_disjunction_lst)"
   ]
  },
  {
   "cell_type": "code",
   "execution_count": 56,
   "metadata": {},
   "outputs": [
    {
     "data": {
      "text/plain": [
       "{'adios',\n",
       " 'adiós',\n",
       " 'civil',\n",
       " 'decide',\n",
       " 'farc',\n",
       " 'firma',\n",
       " 'noticias',\n",
       " 'resistencia',\n",
       " 'venezuela',\n",
       " 'yaracuy'}"
      ]
     },
     "execution_count": 56,
     "metadata": {},
     "output_type": "execute_result"
    }
   ],
   "source": [
    "x_twitter_lst"
   ]
  },
  {
   "cell_type": "code",
   "execution_count": 35,
   "metadata": {},
   "outputs": [
    {
     "data": {
      "text/plain": [
       "{'acuerdo',\n",
       " 'adios',\n",
       " 'adiós',\n",
       " 'alguien',\n",
       " 'años',\n",
       " 'barrio',\n",
       " 'bogota',\n",
       " 'bueno',\n",
       " 'calle',\n",
       " 'casa',\n",
       " 'ciudad',\n",
       " 'civil',\n",
       " 'clase',\n",
       " 'colegio',\n",
       " 'colombia',\n",
       " 'comunidad',\n",
       " 'conflicto',\n",
       " 'cuba',\n",
       " 'daño',\n",
       " 'decide',\n",
       " 'destruir',\n",
       " 'dolor',\n",
       " 'familiar',\n",
       " 'farc',\n",
       " 'farc-ep',\n",
       " 'firma',\n",
       " 'gente',\n",
       " 'gobierno',\n",
       " 'grupo',\n",
       " 'guerra',\n",
       " 'habana',\n",
       " 'habla',\n",
       " 'hablando',\n",
       " 'hablar',\n",
       " 'hermana',\n",
       " 'hermano',\n",
       " 'hija',\n",
       " 'hijo',\n",
       " 'hijos',\n",
       " 'historia',\n",
       " 'hogar',\n",
       " 'hombre',\n",
       " 'literatura',\n",
       " 'lugar',\n",
       " 'madre',\n",
       " 'mama',\n",
       " 'matar',\n",
       " 'momento',\n",
       " 'muerte',\n",
       " 'mujer',\n",
       " 'mundo',\n",
       " 'nacional',\n",
       " 'niño',\n",
       " 'niños',\n",
       " 'noticias',\n",
       " 'padre',\n",
       " 'padres',\n",
       " 'pais',\n",
       " 'palabra',\n",
       " 'palabras',\n",
       " 'papa',\n",
       " 'paz',\n",
       " 'país',\n",
       " 'pelear',\n",
       " 'persona',\n",
       " 'personas',\n",
       " 'planeta',\n",
       " 'política',\n",
       " 'pueblo',\n",
       " 'razones',\n",
       " 'resistencia',\n",
       " 'señor',\n",
       " 'siempre',\n",
       " 'social',\n",
       " 'sociedad',\n",
       " 'sufrimiento',\n",
       " 'trabajo',\n",
       " 'venezuela',\n",
       " 'vida',\n",
       " 'violencia',\n",
       " 'yaracuy'}"
      ]
     },
     "execution_count": 35,
     "metadata": {},
     "output_type": "execute_result"
    }
   ],
   "source": [
    "union_lst"
   ]
  },
  {
   "cell_type": "code",
   "execution_count": 9,
   "metadata": {},
   "outputs": [],
   "source": [
    "s1=set([1,3])\n",
    "s2=set([2,3])\n",
    "s3=set([3,4])"
   ]
  },
  {
   "cell_type": "code",
   "execution_count": 10,
   "metadata": {},
   "outputs": [
    {
     "data": {
      "text/plain": [
       "{1, 2, 3, 4}"
      ]
     },
     "execution_count": 10,
     "metadata": {},
     "output_type": "execute_result"
    }
   ],
   "source": [
    "s1.union(s2,s3)"
   ]
  },
  {
   "cell_type": "code",
   "execution_count": 11,
   "metadata": {},
   "outputs": [
    {
     "data": {
      "text/plain": [
       "{3}"
      ]
     },
     "execution_count": 11,
     "metadata": {},
     "output_type": "execute_result"
    }
   ],
   "source": [
    "s1.intersection(s2,s3)"
   ]
  },
  {
   "cell_type": "markdown",
   "metadata": {},
   "source": [
    "### Together"
   ]
  },
  {
   "cell_type": "code",
   "execution_count": 5,
   "metadata": {},
   "outputs": [],
   "source": [
    "all_texts = text2 + ' ' + text3 + ' ' + text4 + ' ' + text5 + ' ' + text6 + ' ' + text7"
   ]
  },
  {
   "cell_type": "code",
   "execution_count": 6,
   "metadata": {},
   "outputs": [],
   "source": [
    "general_counter = Counter(all_texts.split())"
   ]
  },
  {
   "cell_type": "code",
   "execution_count": 7,
   "metadata": {},
   "outputs": [],
   "source": [
    "N = 20"
   ]
  },
  {
   "cell_type": "code",
   "execution_count": 8,
   "metadata": {},
   "outputs": [],
   "source": [
    "all_kws = [k for k, v in general_counter.most_common(N)]"
   ]
  },
  {
   "cell_type": "code",
   "execution_count": 9,
   "metadata": {},
   "outputs": [
    {
     "data": {
      "text/plain": [
       "['niños',\n",
       " 'paz',\n",
       " 'siempre',\n",
       " 'palabras',\n",
       " 'gente',\n",
       " 'años',\n",
       " 'niño',\n",
       " 'palabra',\n",
       " 'mundo',\n",
       " 'colombia',\n",
       " 'momento',\n",
       " 'bueno',\n",
       " 'historia',\n",
       " 'vida',\n",
       " 'hablar',\n",
       " 'vez',\n",
       " 'violencia',\n",
       " 'personas',\n",
       " 'literatura',\n",
       " 'veces']"
      ]
     },
     "execution_count": 9,
     "metadata": {},
     "output_type": "execute_result"
    }
   ],
   "source": [
    "all_kws"
   ]
  },
  {
   "cell_type": "code",
   "execution_count": 10,
   "metadata": {},
   "outputs": [],
   "source": [
    "sr = pd.Series([general_counter[k] for k in all_kws], index=all_kws).sort_index()"
   ]
  },
  {
   "cell_type": "code",
   "execution_count": 11,
   "metadata": {},
   "outputs": [
    {
     "data": {
      "text/plain": [
       "años           45\n",
       "bueno          36\n",
       "colombia       39\n",
       "gente          47\n",
       "hablar         35\n",
       "historia       36\n",
       "literatura     27\n",
       "momento        36\n",
       "mundo          42\n",
       "niño           45\n",
       "niños         105\n",
       "palabra        44\n",
       "palabras       52\n",
       "paz            91\n",
       "personas       27\n",
       "siempre        64\n",
       "veces          26\n",
       "vez            34\n",
       "vida           36\n",
       "violencia      29\n",
       "dtype: int64"
      ]
     },
     "execution_count": 11,
     "metadata": {},
     "output_type": "execute_result"
    }
   ],
   "source": [
    "sr"
   ]
  },
  {
   "cell_type": "code",
   "execution_count": 21,
   "metadata": {},
   "outputs": [
    {
     "data": {
      "image/png": "[encoded data removed]",
      "text/plain": [
       "<Figure size 864x432 with 1 Axes>"
      ]
     },
     "metadata": {},
     "output_type": "display_data"
    }
   ],
   "source": [
    "ax = sr.plot(\n",
    "    figsize=(12, 6),\n",
    "    kind='bar',\n",
    "    title='Frecuencias de las ' + str(N) + ' palabras más utilizadas',\n",
    "    rot=45,\n",
    ")\n",
    "ax.set_xlabel('Palabra')\n",
    "ax.set_ylabel('Frecuencia');"
   ]
  },
  {
   "cell_type": "markdown",
   "metadata": {},
   "source": [
    "### Separately"
   ]
  },
  {
   "cell_type": "code",
   "execution_count": 13,
   "metadata": {},
   "outputs": [],
   "source": [
    "counter2 = Counter(text2.split())\n",
    "counter3 = Counter(text3.split())\n",
    "counter4 = Counter(text4.split())\n",
    "counter5 = Counter(text5.split())\n",
    "counter6 = Counter(text6.split())\n",
    "counter7 = Counter(text7.split())"
   ]
  },
  {
   "cell_type": "code",
   "execution_count": 14,
   "metadata": {},
   "outputs": [],
   "source": [
    "N = 3"
   ]
  },
  {
   "cell_type": "code",
   "execution_count": 15,
   "metadata": {},
   "outputs": [],
   "source": [
    "kws2 = [k for k, v in counter2.most_common(N)]\n",
    "kws3 = [k for k, v in counter3.most_common(N)]\n",
    "kws4 = [k for k, v in counter4.most_common(N)]\n",
    "kws5 = [k for k, v in counter5.most_common(N)]\n",
    "kws6 = [k for k, v in counter6.most_common(N)]\n",
    "kws7 = [k for k, v in counter7.most_common(N)]"
   ]
  },
  {
   "cell_type": "code",
   "execution_count": 16,
   "metadata": {},
   "outputs": [],
   "source": [
    "kws = set(kws2 + kws3 + kws4 + kws5 + kws6 + kws7)"
   ]
  },
  {
   "cell_type": "code",
   "execution_count": 17,
   "metadata": {},
   "outputs": [
    {
     "data": {
      "text/plain": [
       "{'ciencia',\n",
       " 'colombia',\n",
       " 'día',\n",
       " 'gente',\n",
       " 'imaginación',\n",
       " 'lugar',\n",
       " 'niño',\n",
       " 'niños',\n",
       " 'palabra',\n",
       " 'palabras',\n",
       " 'paz',\n",
       " 'pájaro',\n",
       " 'siempre',\n",
       " 'violencia'}"
      ]
     },
     "execution_count": 17,
     "metadata": {},
     "output_type": "execute_result"
    }
   ],
   "source": [
    "kws"
   ]
  },
  {
   "cell_type": "code",
   "execution_count": 18,
   "metadata": {},
   "outputs": [],
   "source": [
    "df = pd.DataFrame({\n",
    "    'Podcast 2': pd.Series([counter2[k] for k in kws], index=kws),\n",
    "    'Podcast 3': pd.Series([counter3[k] for k in kws], index=kws),\n",
    "    'Podcast 4': pd.Series([counter4[k] for k in kws], index=kws),\n",
    "    'Podcast 5': pd.Series([counter5[k] for k in kws], index=kws),\n",
    "    'Podcast 6': pd.Series([counter6[k] for k in kws], index=kws),\n",
    "    'Podcast 7': pd.Series([counter7[k] for k in kws], index=kws),\n",
    "}).sort_index()"
   ]
  },
  {
   "cell_type": "code",
   "execution_count": 19,
   "metadata": {},
   "outputs": [
    {
     "data": {
      "text/html": [
       "<div>\n",
       "<style scoped>\n",
       "    .dataframe tbody tr th:only-of-type {\n",
       "        vertical-align: middle;\n",
       "    }\n",
       "\n",
       "    .dataframe tbody tr th {\n",
       "        vertical-align: top;\n",
       "    }\n",
       "\n",
       "    .dataframe thead th {\n",
       "        text-align: right;\n",
       "    }\n",
       "</style>\n",
       "<table border=\"1\" class=\"dataframe\">\n",
       "  <thead>\n",
       "    <tr style=\"text-align: right;\">\n",
       "      <th></th>\n",
       "      <th>Podcast 2</th>\n",
       "      <th>Podcast 3</th>\n",
       "      <th>Podcast 4</th>\n",
       "      <th>Podcast 5</th>\n",
       "      <th>Podcast 6</th>\n",
       "      <th>Podcast 7</th>\n",
       "    </tr>\n",
       "  </thead>\n",
       "  <tbody>\n",
       "    <tr>\n",
       "      <th>ciencia</th>\n",
       "      <td>0</td>\n",
       "      <td>1</td>\n",
       "      <td>0</td>\n",
       "      <td>0</td>\n",
       "      <td>19</td>\n",
       "      <td>0</td>\n",
       "    </tr>\n",
       "    <tr>\n",
       "      <th>colombia</th>\n",
       "      <td>3</td>\n",
       "      <td>4</td>\n",
       "      <td>19</td>\n",
       "      <td>6</td>\n",
       "      <td>2</td>\n",
       "      <td>5</td>\n",
       "    </tr>\n",
       "    <tr>\n",
       "      <th>día</th>\n",
       "      <td>2</td>\n",
       "      <td>3</td>\n",
       "      <td>3</td>\n",
       "      <td>12</td>\n",
       "      <td>1</td>\n",
       "      <td>3</td>\n",
       "    </tr>\n",
       "    <tr>\n",
       "      <th>gente</th>\n",
       "      <td>6</td>\n",
       "      <td>3</td>\n",
       "      <td>14</td>\n",
       "      <td>22</td>\n",
       "      <td>2</td>\n",
       "      <td>0</td>\n",
       "    </tr>\n",
       "    <tr>\n",
       "      <th>imaginación</th>\n",
       "      <td>0</td>\n",
       "      <td>0</td>\n",
       "      <td>0</td>\n",
       "      <td>0</td>\n",
       "      <td>26</td>\n",
       "      <td>0</td>\n",
       "    </tr>\n",
       "    <tr>\n",
       "      <th>lugar</th>\n",
       "      <td>1</td>\n",
       "      <td>15</td>\n",
       "      <td>4</td>\n",
       "      <td>4</td>\n",
       "      <td>1</td>\n",
       "      <td>0</td>\n",
       "    </tr>\n",
       "    <tr>\n",
       "      <th>niño</th>\n",
       "      <td>0</td>\n",
       "      <td>9</td>\n",
       "      <td>1</td>\n",
       "      <td>10</td>\n",
       "      <td>5</td>\n",
       "      <td>20</td>\n",
       "    </tr>\n",
       "    <tr>\n",
       "      <th>niños</th>\n",
       "      <td>0</td>\n",
       "      <td>27</td>\n",
       "      <td>14</td>\n",
       "      <td>4</td>\n",
       "      <td>3</td>\n",
       "      <td>57</td>\n",
       "    </tr>\n",
       "    <tr>\n",
       "      <th>palabra</th>\n",
       "      <td>20</td>\n",
       "      <td>8</td>\n",
       "      <td>3</td>\n",
       "      <td>3</td>\n",
       "      <td>7</td>\n",
       "      <td>3</td>\n",
       "    </tr>\n",
       "    <tr>\n",
       "      <th>palabras</th>\n",
       "      <td>7</td>\n",
       "      <td>19</td>\n",
       "      <td>4</td>\n",
       "      <td>3</td>\n",
       "      <td>4</td>\n",
       "      <td>15</td>\n",
       "    </tr>\n",
       "    <tr>\n",
       "      <th>paz</th>\n",
       "      <td>13</td>\n",
       "      <td>9</td>\n",
       "      <td>26</td>\n",
       "      <td>9</td>\n",
       "      <td>16</td>\n",
       "      <td>18</td>\n",
       "    </tr>\n",
       "    <tr>\n",
       "      <th>pájaro</th>\n",
       "      <td>7</td>\n",
       "      <td>0</td>\n",
       "      <td>0</td>\n",
       "      <td>0</td>\n",
       "      <td>0</td>\n",
       "      <td>0</td>\n",
       "    </tr>\n",
       "    <tr>\n",
       "      <th>siempre</th>\n",
       "      <td>3</td>\n",
       "      <td>5</td>\n",
       "      <td>15</td>\n",
       "      <td>18</td>\n",
       "      <td>7</td>\n",
       "      <td>16</td>\n",
       "    </tr>\n",
       "    <tr>\n",
       "      <th>violencia</th>\n",
       "      <td>2</td>\n",
       "      <td>1</td>\n",
       "      <td>19</td>\n",
       "      <td>2</td>\n",
       "      <td>2</td>\n",
       "      <td>3</td>\n",
       "    </tr>\n",
       "  </tbody>\n",
       "</table>\n",
       "</div>"
      ],
      "text/plain": [
       "             Podcast 2  Podcast 3  Podcast 4  Podcast 5  Podcast 6  Podcast 7\n",
       "ciencia              0          1          0          0         19          0\n",
       "colombia             3          4         19          6          2          5\n",
       "día                  2          3          3         12          1          3\n",
       "gente                6          3         14         22          2          0\n",
       "imaginación          0          0          0          0         26          0\n",
       "lugar                1         15          4          4          1          0\n",
       "niño                 0          9          1         10          5         20\n",
       "niños                0         27         14          4          3         57\n",
       "palabra             20          8          3          3          7          3\n",
       "palabras             7         19          4          3          4         15\n",
       "paz                 13          9         26          9         16         18\n",
       "pájaro               7          0          0          0          0          0\n",
       "siempre              3          5         15         18          7         16\n",
       "violencia            2          1         19          2          2          3"
      ]
     },
     "execution_count": 19,
     "metadata": {},
     "output_type": "execute_result"
    }
   ],
   "source": [
    "df"
   ]
  },
  {
   "cell_type": "code",
   "execution_count": 20,
   "metadata": {},
   "outputs": [
    {
     "data": {
      "image/png": "[encoded data removed]",
      "text/plain": [
       "<Figure size 864x432 with 1 Axes>"
      ]
     },
     "metadata": {},
     "output_type": "display_data"
    }
   ],
   "source": [
    "ax = df.T.plot(\n",
    "    figsize=(12, 6),\n",
    "    kind='bar',\n",
    "    title='Frecuencias de las 14 palabras más utilizadas por podcast',\n",
    "    rot=0,\n",
    ")\n",
    "ax.set_xlabel('Podcast')\n",
    "ax.set_ylabel('Frecuencia');"
   ]
  },
  {
   "cell_type": "code",
   "execution_count": null,
   "metadata": {},
   "outputs": [],
   "source": []
  }
 ],
 "metadata": {
  "kernelspec": {
   "display_name": "Python 3",
   "language": "python",
   "name": "python3"
  },
  "language_info": {
   "codemirror_mode": {
    "name": "ipython",
    "version": 3
   },
   "file_extension": ".py",
   "mimetype": "text/x-python",
   "name": "python",
   "nbconvert_exporter": "python",
   "pygments_lexer": "ipython3",
   "version": "3.5.2"
  }
 },
 "nbformat": 4,
 "nbformat_minor": 2
}
