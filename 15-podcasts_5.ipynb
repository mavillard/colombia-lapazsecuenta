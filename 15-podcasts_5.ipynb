{
 "cells": [
  {
   "cell_type": "markdown",
   "metadata": {},
   "source": [
    "# Podcast 5"
   ]
  },
  {
   "cell_type": "code",
   "execution_count": 1,
   "metadata": {},
   "outputs": [],
   "source": [
    "from collections import Counter\n",
    "from string import punctuation\n",
    "\n",
    "import nltk\n",
    "from nltk.corpus import stopwords"
   ]
  },
  {
   "cell_type": "markdown",
   "metadata": {},
   "source": [
    "## Loading data"
   ]
  },
  {
   "cell_type": "code",
   "execution_count": 2,
   "metadata": {},
   "outputs": [],
   "source": [
    "with open('data/aux/podcasts/transcriptions/5.txt') as f:\n",
    "    text = f.read()"
   ]
  },
  {
   "cell_type": "markdown",
   "metadata": {},
   "source": [
    "## Cleaning data"
   ]
  },
  {
   "cell_type": "code",
   "execution_count": 3,
   "metadata": {},
   "outputs": [],
   "source": [
    "chars = []\n",
    "for c in text:\n",
    "    if not c.isalnum():\n",
    "        chars.append(c)"
   ]
  },
  {
   "cell_type": "code",
   "execution_count": 4,
   "metadata": {},
   "outputs": [],
   "source": [
    "characters = set(chars)"
   ]
  },
  {
   "cell_type": "code",
   "execution_count": 5,
   "metadata": {},
   "outputs": [],
   "source": [
    "with open('data/stopwords/spanish_stopwords.txt') as f:\n",
    "    sp_stopwords = list(set(map(str.strip, f.readlines())))\n",
    "\n",
    "with open('data/stopwords/my_stopwords.txt') as f:\n",
    "    my_stopwords = list(set(map(str.strip, f.readlines())))\n",
    "\n",
    "stop = stopwords.words('spanish') + sp_stopwords + my_stopwords + list(punctuation) + list(characters)"
   ]
  },
  {
   "cell_type": "code",
   "execution_count": 6,
   "metadata": {},
   "outputs": [],
   "source": [
    "def clean1(s):\n",
    "    r = s.lower().strip()\n",
    "    rs = [w for w in nltk.word_tokenize(r) if w not in stop and len(w) > 2]\n",
    "    r = ' '.join(rs)\n",
    "    return r"
   ]
  },
  {
   "cell_type": "code",
   "execution_count": 7,
   "metadata": {},
   "outputs": [],
   "source": [
    "cleaned_text = clean1(text)"
   ]
  },
  {
   "cell_type": "code",
   "execution_count": 8,
   "metadata": {},
   "outputs": [
    {
     "name": "stdout",
     "output_type": "stream",
     "text": [
      ". 4\n",
      "  1766\n"
     ]
    }
   ],
   "source": [
    "for c in characters:\n",
    "    if c in cleaned_text:\n",
    "        print(c, cleaned_text.count(c))"
   ]
  },
  {
   "cell_type": "code",
   "execution_count": 9,
   "metadata": {},
   "outputs": [],
   "source": [
    "def clean2(s):\n",
    "    r = s\n",
    "    r = r.replace('¿', '')\n",
    "    r = r.replace('‑', '-')\n",
    "    r = r.replace('¡', '')\n",
    "    r = r.replace('—', '')\n",
    "    r = r.replace('-', '-')\n",
    "    return r"
   ]
  },
  {
   "cell_type": "code",
   "execution_count": 10,
   "metadata": {},
   "outputs": [],
   "source": [
    "cleaned_text = clean2(cleaned_text)"
   ]
  },
  {
   "cell_type": "markdown",
   "metadata": {},
   "source": [
    "## Processing data"
   ]
  },
  {
   "cell_type": "code",
   "execution_count": 11,
   "metadata": {},
   "outputs": [],
   "source": [
    "counter = Counter(cleaned_text.split())"
   ]
  },
  {
   "cell_type": "code",
   "execution_count": 12,
   "metadata": {},
   "outputs": [
    {
     "data": {
      "text/plain": [
       "[('gente', 22),\n",
       " ('siempre', 18),\n",
       " ('día', 12),\n",
       " ('pollo', 11),\n",
       " ('mundo', 11),\n",
       " ('ritmo', 11),\n",
       " ('vida', 10),\n",
       " ('niño', 10),\n",
       " ('memoria', 9),\n",
       " ('años', 9),\n",
       " ('diosa', 9),\n",
       " ('mano', 9),\n",
       " ('paz', 9),\n",
       " ('ritual', 8),\n",
       " ('mujeres', 8),\n",
       " ('momento', 8),\n",
       " ('viaje', 7),\n",
       " ('grande', 7),\n",
       " ('muerto', 7),\n",
       " ('después', 7),\n",
       " ('mejor', 6),\n",
       " ('voz', 6),\n",
       " ('hizo', 6),\n",
       " ('dolor', 6),\n",
       " ('colombia', 6),\n",
       " ('vez', 6),\n",
       " ('hecho', 6),\n",
       " ('nunca', 6),\n",
       " ('hoy', 6),\n",
       " ('muertos', 6),\n",
       " ('proceso', 6),\n",
       " ('permite', 6),\n",
       " ('entorno', 5),\n",
       " ('cuenta', 5),\n",
       " ('fuerte', 5),\n",
       " ('amalia', 5),\n",
       " ('cantando', 5),\n",
       " ('pueblo', 5),\n",
       " ('largo', 5),\n",
       " ('papel', 5),\n",
       " ('alegría', 5),\n",
       " ('vivido', 5),\n",
       " ('ahora', 4),\n",
       " ('través', 4),\n",
       " ('sentimiento', 4),\n",
       " ('quito', 4),\n",
       " ('viento', 4),\n",
       " ('lado', 4),\n",
       " ('nana', 4),\n",
       " ('bien', 4),\n",
       " ('quiere', 4),\n",
       " ('historia', 4),\n",
       " ('pozo', 4),\n",
       " ('luz', 4),\n",
       " ('luego', 4),\n",
       " ('negras', 4),\n",
       " ('país', 4),\n",
       " ('pensar', 4),\n",
       " ('relato', 4),\n",
       " ('murió', 4),\n",
       " ('bando', 4),\n",
       " ('niños', 4),\n",
       " ('velorio', 4),\n",
       " ('lugar', 4),\n",
       " ('cementerio', 3),\n",
       " ('pan', 3),\n",
       " ('vicentico', 3),\n",
       " ('seguir', 3),\n",
       " ('especial', 3),\n",
       " ('dios', 3),\n",
       " ('ríos', 3),\n",
       " ('procesos', 3),\n",
       " ('fácil', 3),\n",
       " ('florón', 3),\n",
       " ('posible', 3),\n",
       " ('críspulo', 3),\n",
       " ('cuento', 3),\n",
       " ('cuerpo', 3),\n",
       " ('salió', 3),\n",
       " ('desplazamiento', 3),\n",
       " ('contando', 3),\n",
       " ('chocó', 3),\n",
       " ('visto', 3),\n",
       " ('oralidad', 3),\n",
       " ('comer', 3),\n",
       " ('rueda', 3),\n",
       " ('valentina', 3),\n",
       " ('corazón', 3),\n",
       " ('muerte', 3),\n",
       " ('menos', 3),\n",
       " ('jugar', 3),\n",
       " ('nadie', 3),\n",
       " ('habla', 3),\n",
       " ('tomaron', 3),\n",
       " ('llegado', 3),\n",
       " ('allá', 3),\n",
       " ('canto', 3),\n",
       " ('negros', 3),\n",
       " ('platino', 3),\n",
       " ('palabra', 3)]"
      ]
     },
     "execution_count": 12,
     "metadata": {},
     "output_type": "execute_result"
    }
   ],
   "source": [
    "counter.most_common(100)"
   ]
  },
  {
   "cell_type": "markdown",
   "metadata": {},
   "source": [
    "## Saving data"
   ]
  },
  {
   "cell_type": "code",
   "execution_count": 13,
   "metadata": {},
   "outputs": [],
   "source": [
    "with open('data/out/cleaned_podcast_5.txt', 'w') as f:\n",
    "    f.write(cleaned_text)"
   ]
  },
  {
   "cell_type": "code",
   "execution_count": null,
   "metadata": {},
   "outputs": [],
   "source": []
  }
 ],
 "metadata": {
  "kernelspec": {
   "display_name": "Python 3",
   "language": "python",
   "name": "python3"
  },
  "language_info": {
   "codemirror_mode": {
    "name": "ipython",
    "version": 3
   },
   "file_extension": ".py",
   "mimetype": "text/x-python",
   "name": "python",
   "nbconvert_exporter": "python",
   "pygments_lexer": "ipython3",
   "version": "3.5.2"
  }
 },
 "nbformat": 4,
 "nbformat_minor": 2
}
