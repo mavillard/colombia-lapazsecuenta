{
 "cells": [
  {
   "cell_type": "markdown",
   "metadata": {},
   "source": [
    "# Tomo 5B"
   ]
  },
  {
   "cell_type": "code",
   "execution_count": 1,
   "metadata": {
    "collapsed": true
   },
   "outputs": [],
   "source": [
    "import os\n",
    "from collections import Counter, defaultdict\n",
    "from pprint import pprint\n",
    "from string import punctuation\n",
    "\n",
    "import nltk\n",
    "import numpy as np\n",
    "from gensim import corpora, models\n",
    "from nltk.corpus import stopwords\n",
    "from scipy import spatial"
   ]
  },
  {
   "cell_type": "markdown",
   "metadata": {},
   "source": [
    "## Loading data"
   ]
  },
  {
   "cell_type": "code",
   "execution_count": 2,
   "metadata": {
    "collapsed": true
   },
   "outputs": [],
   "source": [
    "def key_sort_files(x):\n",
    "    return int(x[:-4].split('-')[0])\n",
    "\n",
    "path = 'data/aux/biblioteca/text_parts/5b/'\n",
    "unsorted_file_list = [filename for filename in os.listdir(path) if filename.endswith('.txt')]\n",
    "file_list = sorted(unsorted_file_list, key=key_sort_files)\n",
    "\n",
    "raw_texts = []\n",
    "for filename in file_list:\n",
    "    with open(path + filename) as f:\n",
    "        raw_texts.append(f.read())"
   ]
  },
  {
   "cell_type": "markdown",
   "metadata": {},
   "source": [
    "## Cleaning data"
   ]
  },
  {
   "cell_type": "code",
   "execution_count": 3,
   "metadata": {
    "collapsed": true
   },
   "outputs": [],
   "source": [
    "chars = []\n",
    "for text in raw_texts:\n",
    "    for c in text:\n",
    "        if not c.isalnum():\n",
    "            chars.append(c)"
   ]
  },
  {
   "cell_type": "code",
   "execution_count": 4,
   "metadata": {
    "collapsed": true
   },
   "outputs": [],
   "source": [
    "characters = set(chars)"
   ]
  },
  {
   "cell_type": "code",
   "execution_count": 5,
   "metadata": {
    "collapsed": true
   },
   "outputs": [],
   "source": [
    "with open('data/stopwords/spanish_stopwords.txt') as f:\n",
    "    sp_stopwords = list(set(map(str.strip, f.readlines())))\n",
    "\n",
    "with open('data/stopwords/my_stopwords.txt') as f:\n",
    "    my_stopwords = list(set(map(str.strip, f.readlines())))\n",
    "\n",
    "stop = stopwords.words('spanish') + sp_stopwords + my_stopwords + list(punctuation) + list(characters)"
   ]
  },
  {
   "cell_type": "code",
   "execution_count": 6,
   "metadata": {
    "collapsed": true
   },
   "outputs": [],
   "source": [
    "def clean(s):\n",
    "    r = s.lower().strip()\n",
    "    for c in characters:\n",
    "        r = r.replace(c, ' ')\n",
    "    r = r.replace('farc ep', 'farc-ep')\n",
    "    r = r.replace('confianz a', 'confianza')\n",
    "    r = r.replace('cons trucción', 'construcción')\n",
    "    rs = [w for w in nltk.word_tokenize(r) if w not in stop and len(w) > 2 and not w.isdecimal()]\n",
    "    r = ' '.join(rs)\n",
    "    return r"
   ]
  },
  {
   "cell_type": "code",
   "execution_count": 7,
   "metadata": {
    "collapsed": true
   },
   "outputs": [],
   "source": [
    "cleaned_texts = [clean(text) for text in raw_texts]"
   ]
  },
  {
   "cell_type": "code",
   "execution_count": 8,
   "metadata": {},
   "outputs": [
    {
     "data": {
      "text/plain": [
       "defaultdict(int, {' ': 62162, '-': 515})"
      ]
     },
     "execution_count": 8,
     "metadata": {},
     "output_type": "execute_result"
    }
   ],
   "source": [
    "char_counter = defaultdict(int)\n",
    "for c in characters:\n",
    "    for text in cleaned_texts:\n",
    "        if c in text:\n",
    "            char_counter[c]+=text.count(c)\n",
    "char_counter"
   ]
  },
  {
   "cell_type": "markdown",
   "metadata": {},
   "source": [
    "## Preparing data"
   ]
  },
  {
   "cell_type": "code",
   "execution_count": 9,
   "metadata": {
    "collapsed": true
   },
   "outputs": [],
   "source": [
    "documents = cleaned_texts"
   ]
  },
  {
   "cell_type": "code",
   "execution_count": 10,
   "metadata": {
    "collapsed": true
   },
   "outputs": [],
   "source": [
    "document = ' '.join(documents)"
   ]
  },
  {
   "cell_type": "code",
   "execution_count": 11,
   "metadata": {
    "collapsed": true
   },
   "outputs": [],
   "source": [
    "# Only texts that contain MORE THAN or EQUALS TO 100 words\n",
    "texts = [[word for word in document.split()] for document in documents if len(document.split()) >= 100]"
   ]
  },
  {
   "cell_type": "code",
   "execution_count": 12,
   "metadata": {},
   "outputs": [
    {
     "data": {
      "text/plain": [
       "85"
      ]
     },
     "execution_count": 12,
     "metadata": {},
     "output_type": "execute_result"
    }
   ],
   "source": [
    "len(texts)"
   ]
  },
  {
   "cell_type": "code",
   "execution_count": 13,
   "metadata": {
    "collapsed": true
   },
   "outputs": [],
   "source": [
    "dictionary = corpora.Dictionary(texts)"
   ]
  },
  {
   "cell_type": "code",
   "execution_count": 14,
   "metadata": {},
   "outputs": [
    {
     "data": {
      "text/plain": [
       "9474"
      ]
     },
     "execution_count": 14,
     "metadata": {},
     "output_type": "execute_result"
    }
   ],
   "source": [
    "len(dictionary)"
   ]
  },
  {
   "cell_type": "markdown",
   "metadata": {},
   "source": [
    "## Processing data"
   ]
  },
  {
   "cell_type": "code",
   "execution_count": 15,
   "metadata": {
    "scrolled": true
   },
   "outputs": [
    {
     "name": "stdout",
     "output_type": "stream",
     "text": [
      "Iteration: 1 / 144 - MIN_DF: 1 - MAX_DF: 0.6 - MAX_FT: 100 - N_TOPICS: 10\n",
      "Iteration: 2 / 144 - MIN_DF: 1 - MAX_DF: 0.6 - MAX_FT: 100 - N_TOPICS: 85\n",
      "Iteration: 3 / 144 - MIN_DF: 1 - MAX_DF: 0.6 - MAX_FT: 100 - N_TOPICS: 100\n",
      "Iteration: 4 / 144 - MIN_DF: 1 - MAX_DF: 0.6 - MAX_FT: 1000 - N_TOPICS: 10\n",
      "Iteration: 5 / 144 - MIN_DF: 1 - MAX_DF: 0.6 - MAX_FT: 1000 - N_TOPICS: 85\n",
      "Iteration: 6 / 144 - MIN_DF: 1 - MAX_DF: 0.6 - MAX_FT: 1000 - N_TOPICS: 100\n",
      "Iteration: 7 / 144 - MIN_DF: 1 - MAX_DF: 0.6 - MAX_FT: 9474 - N_TOPICS: 10\n",
      "Iteration: 8 / 144 - MIN_DF: 1 - MAX_DF: 0.6 - MAX_FT: 9474 - N_TOPICS: 85\n",
      "Iteration: 9 / 144 - MIN_DF: 1 - MAX_DF: 0.6 - MAX_FT: 9474 - N_TOPICS: 100\n",
      "Iteration: 10 / 144 - MIN_DF: 1 - MAX_DF: 0.7 - MAX_FT: 100 - N_TOPICS: 10\n",
      "Iteration: 11 / 144 - MIN_DF: 1 - MAX_DF: 0.7 - MAX_FT: 100 - N_TOPICS: 85\n",
      "Iteration: 12 / 144 - MIN_DF: 1 - MAX_DF: 0.7 - MAX_FT: 100 - N_TOPICS: 100\n",
      "Iteration: 13 / 144 - MIN_DF: 1 - MAX_DF: 0.7 - MAX_FT: 1000 - N_TOPICS: 10\n",
      "Iteration: 14 / 144 - MIN_DF: 1 - MAX_DF: 0.7 - MAX_FT: 1000 - N_TOPICS: 85\n",
      "Iteration: 15 / 144 - MIN_DF: 1 - MAX_DF: 0.7 - MAX_FT: 1000 - N_TOPICS: 100\n",
      "Iteration: 16 / 144 - MIN_DF: 1 - MAX_DF: 0.7 - MAX_FT: 9474 - N_TOPICS: 10\n",
      "Iteration: 17 / 144 - MIN_DF: 1 - MAX_DF: 0.7 - MAX_FT: 9474 - N_TOPICS: 85\n",
      "Iteration: 18 / 144 - MIN_DF: 1 - MAX_DF: 0.7 - MAX_FT: 9474 - N_TOPICS: 100\n",
      "Iteration: 19 / 144 - MIN_DF: 1 - MAX_DF: 0.8 - MAX_FT: 100 - N_TOPICS: 10\n",
      "Iteration: 20 / 144 - MIN_DF: 1 - MAX_DF: 0.8 - MAX_FT: 100 - N_TOPICS: 85\n",
      "Iteration: 21 / 144 - MIN_DF: 1 - MAX_DF: 0.8 - MAX_FT: 100 - N_TOPICS: 100\n",
      "Iteration: 22 / 144 - MIN_DF: 1 - MAX_DF: 0.8 - MAX_FT: 1000 - N_TOPICS: 10\n",
      "Iteration: 23 / 144 - MIN_DF: 1 - MAX_DF: 0.8 - MAX_FT: 1000 - N_TOPICS: 85\n",
      "Iteration: 24 / 144 - MIN_DF: 1 - MAX_DF: 0.8 - MAX_FT: 1000 - N_TOPICS: 100\n",
      "Iteration: 25 / 144 - MIN_DF: 1 - MAX_DF: 0.8 - MAX_FT: 9474 - N_TOPICS: 10\n",
      "Iteration: 26 / 144 - MIN_DF: 1 - MAX_DF: 0.8 - MAX_FT: 9474 - N_TOPICS: 85\n",
      "Iteration: 27 / 144 - MIN_DF: 1 - MAX_DF: 0.8 - MAX_FT: 9474 - N_TOPICS: 100\n",
      "Iteration: 28 / 144 - MIN_DF: 1 - MAX_DF: 0.9 - MAX_FT: 100 - N_TOPICS: 10\n",
      "Iteration: 29 / 144 - MIN_DF: 1 - MAX_DF: 0.9 - MAX_FT: 100 - N_TOPICS: 85\n",
      "Iteration: 30 / 144 - MIN_DF: 1 - MAX_DF: 0.9 - MAX_FT: 100 - N_TOPICS: 100\n",
      "Iteration: 31 / 144 - MIN_DF: 1 - MAX_DF: 0.9 - MAX_FT: 1000 - N_TOPICS: 10\n",
      "Iteration: 32 / 144 - MIN_DF: 1 - MAX_DF: 0.9 - MAX_FT: 1000 - N_TOPICS: 85\n",
      "Iteration: 33 / 144 - MIN_DF: 1 - MAX_DF: 0.9 - MAX_FT: 1000 - N_TOPICS: 100\n",
      "Iteration: 34 / 144 - MIN_DF: 1 - MAX_DF: 0.9 - MAX_FT: 9474 - N_TOPICS: 10\n",
      "Iteration: 35 / 144 - MIN_DF: 1 - MAX_DF: 0.9 - MAX_FT: 9474 - N_TOPICS: 85\n",
      "Iteration: 36 / 144 - MIN_DF: 1 - MAX_DF: 0.9 - MAX_FT: 9474 - N_TOPICS: 100\n",
      "Iteration: 37 / 144 - MIN_DF: 2 - MAX_DF: 0.6 - MAX_FT: 100 - N_TOPICS: 10\n",
      "Iteration: 38 / 144 - MIN_DF: 2 - MAX_DF: 0.6 - MAX_FT: 100 - N_TOPICS: 85\n",
      "Iteration: 39 / 144 - MIN_DF: 2 - MAX_DF: 0.6 - MAX_FT: 100 - N_TOPICS: 100\n",
      "Iteration: 40 / 144 - MIN_DF: 2 - MAX_DF: 0.6 - MAX_FT: 1000 - N_TOPICS: 10\n",
      "Iteration: 41 / 144 - MIN_DF: 2 - MAX_DF: 0.6 - MAX_FT: 1000 - N_TOPICS: 85\n",
      "Iteration: 42 / 144 - MIN_DF: 2 - MAX_DF: 0.6 - MAX_FT: 1000 - N_TOPICS: 100\n",
      "Iteration: 43 / 144 - MIN_DF: 2 - MAX_DF: 0.6 - MAX_FT: 9474 - N_TOPICS: 10\n",
      "Iteration: 44 / 144 - MIN_DF: 2 - MAX_DF: 0.6 - MAX_FT: 9474 - N_TOPICS: 85\n",
      "Iteration: 45 / 144 - MIN_DF: 2 - MAX_DF: 0.6 - MAX_FT: 9474 - N_TOPICS: 100\n",
      "Iteration: 46 / 144 - MIN_DF: 2 - MAX_DF: 0.7 - MAX_FT: 100 - N_TOPICS: 10\n",
      "Iteration: 47 / 144 - MIN_DF: 2 - MAX_DF: 0.7 - MAX_FT: 100 - N_TOPICS: 85\n",
      "Iteration: 48 / 144 - MIN_DF: 2 - MAX_DF: 0.7 - MAX_FT: 100 - N_TOPICS: 100\n",
      "Iteration: 49 / 144 - MIN_DF: 2 - MAX_DF: 0.7 - MAX_FT: 1000 - N_TOPICS: 10\n",
      "Iteration: 50 / 144 - MIN_DF: 2 - MAX_DF: 0.7 - MAX_FT: 1000 - N_TOPICS: 85\n",
      "Iteration: 51 / 144 - MIN_DF: 2 - MAX_DF: 0.7 - MAX_FT: 1000 - N_TOPICS: 100\n",
      "Iteration: 52 / 144 - MIN_DF: 2 - MAX_DF: 0.7 - MAX_FT: 9474 - N_TOPICS: 10\n",
      "Iteration: 53 / 144 - MIN_DF: 2 - MAX_DF: 0.7 - MAX_FT: 9474 - N_TOPICS: 85\n",
      "Iteration: 54 / 144 - MIN_DF: 2 - MAX_DF: 0.7 - MAX_FT: 9474 - N_TOPICS: 100\n",
      "Iteration: 55 / 144 - MIN_DF: 2 - MAX_DF: 0.8 - MAX_FT: 100 - N_TOPICS: 10\n",
      "Iteration: 56 / 144 - MIN_DF: 2 - MAX_DF: 0.8 - MAX_FT: 100 - N_TOPICS: 85\n",
      "Iteration: 57 / 144 - MIN_DF: 2 - MAX_DF: 0.8 - MAX_FT: 100 - N_TOPICS: 100\n",
      "Iteration: 58 / 144 - MIN_DF: 2 - MAX_DF: 0.8 - MAX_FT: 1000 - N_TOPICS: 10\n",
      "Iteration: 59 / 144 - MIN_DF: 2 - MAX_DF: 0.8 - MAX_FT: 1000 - N_TOPICS: 85\n",
      "Iteration: 60 / 144 - MIN_DF: 2 - MAX_DF: 0.8 - MAX_FT: 1000 - N_TOPICS: 100\n",
      "Iteration: 61 / 144 - MIN_DF: 2 - MAX_DF: 0.8 - MAX_FT: 9474 - N_TOPICS: 10\n",
      "Iteration: 62 / 144 - MIN_DF: 2 - MAX_DF: 0.8 - MAX_FT: 9474 - N_TOPICS: 85\n",
      "Iteration: 63 / 144 - MIN_DF: 2 - MAX_DF: 0.8 - MAX_FT: 9474 - N_TOPICS: 100\n",
      "Iteration: 64 / 144 - MIN_DF: 2 - MAX_DF: 0.9 - MAX_FT: 100 - N_TOPICS: 10\n",
      "Iteration: 65 / 144 - MIN_DF: 2 - MAX_DF: 0.9 - MAX_FT: 100 - N_TOPICS: 85\n",
      "Iteration: 66 / 144 - MIN_DF: 2 - MAX_DF: 0.9 - MAX_FT: 100 - N_TOPICS: 100\n",
      "Iteration: 67 / 144 - MIN_DF: 2 - MAX_DF: 0.9 - MAX_FT: 1000 - N_TOPICS: 10\n",
      "Iteration: 68 / 144 - MIN_DF: 2 - MAX_DF: 0.9 - MAX_FT: 1000 - N_TOPICS: 85\n",
      "Iteration: 69 / 144 - MIN_DF: 2 - MAX_DF: 0.9 - MAX_FT: 1000 - N_TOPICS: 100\n",
      "Iteration: 70 / 144 - MIN_DF: 2 - MAX_DF: 0.9 - MAX_FT: 9474 - N_TOPICS: 10\n",
      "Iteration: 71 / 144 - MIN_DF: 2 - MAX_DF: 0.9 - MAX_FT: 9474 - N_TOPICS: 85\n",
      "Iteration: 72 / 144 - MIN_DF: 2 - MAX_DF: 0.9 - MAX_FT: 9474 - N_TOPICS: 100\n",
      "Iteration: 73 / 144 - MIN_DF: 4 - MAX_DF: 0.6 - MAX_FT: 100 - N_TOPICS: 10\n",
      "Iteration: 74 / 144 - MIN_DF: 4 - MAX_DF: 0.6 - MAX_FT: 100 - N_TOPICS: 85\n",
      "Iteration: 75 / 144 - MIN_DF: 4 - MAX_DF: 0.6 - MAX_FT: 100 - N_TOPICS: 100\n",
      "Iteration: 76 / 144 - MIN_DF: 4 - MAX_DF: 0.6 - MAX_FT: 1000 - N_TOPICS: 10\n",
      "Iteration: 77 / 144 - MIN_DF: 4 - MAX_DF: 0.6 - MAX_FT: 1000 - N_TOPICS: 85\n",
      "Iteration: 78 / 144 - MIN_DF: 4 - MAX_DF: 0.6 - MAX_FT: 1000 - N_TOPICS: 100\n",
      "Iteration: 79 / 144 - MIN_DF: 4 - MAX_DF: 0.6 - MAX_FT: 9474 - N_TOPICS: 10\n",
      "Iteration: 80 / 144 - MIN_DF: 4 - MAX_DF: 0.6 - MAX_FT: 9474 - N_TOPICS: 85\n",
      "Iteration: 81 / 144 - MIN_DF: 4 - MAX_DF: 0.6 - MAX_FT: 9474 - N_TOPICS: 100\n",
      "Iteration: 82 / 144 - MIN_DF: 4 - MAX_DF: 0.7 - MAX_FT: 100 - N_TOPICS: 10\n",
      "Iteration: 83 / 144 - MIN_DF: 4 - MAX_DF: 0.7 - MAX_FT: 100 - N_TOPICS: 85\n",
      "Iteration: 84 / 144 - MIN_DF: 4 - MAX_DF: 0.7 - MAX_FT: 100 - N_TOPICS: 100\n",
      "Iteration: 85 / 144 - MIN_DF: 4 - MAX_DF: 0.7 - MAX_FT: 1000 - N_TOPICS: 10\n",
      "Iteration: 86 / 144 - MIN_DF: 4 - MAX_DF: 0.7 - MAX_FT: 1000 - N_TOPICS: 85\n",
      "Iteration: 87 / 144 - MIN_DF: 4 - MAX_DF: 0.7 - MAX_FT: 1000 - N_TOPICS: 100\n",
      "Iteration: 88 / 144 - MIN_DF: 4 - MAX_DF: 0.7 - MAX_FT: 9474 - N_TOPICS: 10\n",
      "Iteration: 89 / 144 - MIN_DF: 4 - MAX_DF: 0.7 - MAX_FT: 9474 - N_TOPICS: 85\n",
      "Iteration: 90 / 144 - MIN_DF: 4 - MAX_DF: 0.7 - MAX_FT: 9474 - N_TOPICS: 100\n",
      "Iteration: 91 / 144 - MIN_DF: 4 - MAX_DF: 0.8 - MAX_FT: 100 - N_TOPICS: 10\n",
      "Iteration: 92 / 144 - MIN_DF: 4 - MAX_DF: 0.8 - MAX_FT: 100 - N_TOPICS: 85\n",
      "Iteration: 93 / 144 - MIN_DF: 4 - MAX_DF: 0.8 - MAX_FT: 100 - N_TOPICS: 100\n",
      "Iteration: 94 / 144 - MIN_DF: 4 - MAX_DF: 0.8 - MAX_FT: 1000 - N_TOPICS: 10\n",
      "Iteration: 95 / 144 - MIN_DF: 4 - MAX_DF: 0.8 - MAX_FT: 1000 - N_TOPICS: 85\n",
      "Iteration: 96 / 144 - MIN_DF: 4 - MAX_DF: 0.8 - MAX_FT: 1000 - N_TOPICS: 100\n",
      "Iteration: 97 / 144 - MIN_DF: 4 - MAX_DF: 0.8 - MAX_FT: 9474 - N_TOPICS: 10\n",
      "Iteration: 98 / 144 - MIN_DF: 4 - MAX_DF: 0.8 - MAX_FT: 9474 - N_TOPICS: 85\n",
      "Iteration: 99 / 144 - MIN_DF: 4 - MAX_DF: 0.8 - MAX_FT: 9474 - N_TOPICS: 100\n",
      "Iteration: 100 / 144 - MIN_DF: 4 - MAX_DF: 0.9 - MAX_FT: 100 - N_TOPICS: 10\n",
      "Iteration: 101 / 144 - MIN_DF: 4 - MAX_DF: 0.9 - MAX_FT: 100 - N_TOPICS: 85\n",
      "Iteration: 102 / 144 - MIN_DF: 4 - MAX_DF: 0.9 - MAX_FT: 100 - N_TOPICS: 100\n",
      "Iteration: 103 / 144 - MIN_DF: 4 - MAX_DF: 0.9 - MAX_FT: 1000 - N_TOPICS: 10\n",
      "Iteration: 104 / 144 - MIN_DF: 4 - MAX_DF: 0.9 - MAX_FT: 1000 - N_TOPICS: 85\n",
      "Iteration: 105 / 144 - MIN_DF: 4 - MAX_DF: 0.9 - MAX_FT: 1000 - N_TOPICS: 100\n",
      "Iteration: 106 / 144 - MIN_DF: 4 - MAX_DF: 0.9 - MAX_FT: 9474 - N_TOPICS: 10\n",
      "Iteration: 107 / 144 - MIN_DF: 4 - MAX_DF: 0.9 - MAX_FT: 9474 - N_TOPICS: 85\n",
      "Iteration: 108 / 144 - MIN_DF: 4 - MAX_DF: 0.9 - MAX_FT: 9474 - N_TOPICS: 100\n"
     ]
    },
    {
     "name": "stdout",
     "output_type": "stream",
     "text": [
      "Iteration: 109 / 144 - MIN_DF: 7 - MAX_DF: 0.6 - MAX_FT: 100 - N_TOPICS: 10\n",
      "Iteration: 110 / 144 - MIN_DF: 7 - MAX_DF: 0.6 - MAX_FT: 100 - N_TOPICS: 85\n",
      "Iteration: 111 / 144 - MIN_DF: 7 - MAX_DF: 0.6 - MAX_FT: 100 - N_TOPICS: 100\n",
      "Iteration: 112 / 144 - MIN_DF: 7 - MAX_DF: 0.6 - MAX_FT: 1000 - N_TOPICS: 10\n",
      "Iteration: 113 / 144 - MIN_DF: 7 - MAX_DF: 0.6 - MAX_FT: 1000 - N_TOPICS: 85\n",
      "Iteration: 114 / 144 - MIN_DF: 7 - MAX_DF: 0.6 - MAX_FT: 1000 - N_TOPICS: 100\n",
      "Iteration: 115 / 144 - MIN_DF: 7 - MAX_DF: 0.6 - MAX_FT: 9474 - N_TOPICS: 10\n",
      "Iteration: 116 / 144 - MIN_DF: 7 - MAX_DF: 0.6 - MAX_FT: 9474 - N_TOPICS: 85\n",
      "Iteration: 117 / 144 - MIN_DF: 7 - MAX_DF: 0.6 - MAX_FT: 9474 - N_TOPICS: 100\n",
      "Iteration: 118 / 144 - MIN_DF: 7 - MAX_DF: 0.7 - MAX_FT: 100 - N_TOPICS: 10\n",
      "Iteration: 119 / 144 - MIN_DF: 7 - MAX_DF: 0.7 - MAX_FT: 100 - N_TOPICS: 85\n",
      "Iteration: 120 / 144 - MIN_DF: 7 - MAX_DF: 0.7 - MAX_FT: 100 - N_TOPICS: 100\n",
      "Iteration: 121 / 144 - MIN_DF: 7 - MAX_DF: 0.7 - MAX_FT: 1000 - N_TOPICS: 10\n",
      "Iteration: 122 / 144 - MIN_DF: 7 - MAX_DF: 0.7 - MAX_FT: 1000 - N_TOPICS: 85\n",
      "Iteration: 123 / 144 - MIN_DF: 7 - MAX_DF: 0.7 - MAX_FT: 1000 - N_TOPICS: 100\n",
      "Iteration: 124 / 144 - MIN_DF: 7 - MAX_DF: 0.7 - MAX_FT: 9474 - N_TOPICS: 10\n",
      "Iteration: 125 / 144 - MIN_DF: 7 - MAX_DF: 0.7 - MAX_FT: 9474 - N_TOPICS: 85\n",
      "Iteration: 126 / 144 - MIN_DF: 7 - MAX_DF: 0.7 - MAX_FT: 9474 - N_TOPICS: 100\n",
      "Iteration: 127 / 144 - MIN_DF: 7 - MAX_DF: 0.8 - MAX_FT: 100 - N_TOPICS: 10\n",
      "Iteration: 128 / 144 - MIN_DF: 7 - MAX_DF: 0.8 - MAX_FT: 100 - N_TOPICS: 85\n",
      "Iteration: 129 / 144 - MIN_DF: 7 - MAX_DF: 0.8 - MAX_FT: 100 - N_TOPICS: 100\n",
      "Iteration: 130 / 144 - MIN_DF: 7 - MAX_DF: 0.8 - MAX_FT: 1000 - N_TOPICS: 10\n",
      "Iteration: 131 / 144 - MIN_DF: 7 - MAX_DF: 0.8 - MAX_FT: 1000 - N_TOPICS: 85\n",
      "Iteration: 132 / 144 - MIN_DF: 7 - MAX_DF: 0.8 - MAX_FT: 1000 - N_TOPICS: 100\n",
      "Iteration: 133 / 144 - MIN_DF: 7 - MAX_DF: 0.8 - MAX_FT: 9474 - N_TOPICS: 10\n",
      "Iteration: 134 / 144 - MIN_DF: 7 - MAX_DF: 0.8 - MAX_FT: 9474 - N_TOPICS: 85\n",
      "Iteration: 135 / 144 - MIN_DF: 7 - MAX_DF: 0.8 - MAX_FT: 9474 - N_TOPICS: 100\n",
      "Iteration: 136 / 144 - MIN_DF: 7 - MAX_DF: 0.9 - MAX_FT: 100 - N_TOPICS: 10\n",
      "Iteration: 137 / 144 - MIN_DF: 7 - MAX_DF: 0.9 - MAX_FT: 100 - N_TOPICS: 85\n",
      "Iteration: 138 / 144 - MIN_DF: 7 - MAX_DF: 0.9 - MAX_FT: 100 - N_TOPICS: 100\n",
      "Iteration: 139 / 144 - MIN_DF: 7 - MAX_DF: 0.9 - MAX_FT: 1000 - N_TOPICS: 10\n",
      "Iteration: 140 / 144 - MIN_DF: 7 - MAX_DF: 0.9 - MAX_FT: 1000 - N_TOPICS: 85\n",
      "Iteration: 141 / 144 - MIN_DF: 7 - MAX_DF: 0.9 - MAX_FT: 1000 - N_TOPICS: 100\n",
      "Iteration: 142 / 144 - MIN_DF: 7 - MAX_DF: 0.9 - MAX_FT: 9474 - N_TOPICS: 10\n",
      "Iteration: 143 / 144 - MIN_DF: 7 - MAX_DF: 0.9 - MAX_FT: 9474 - N_TOPICS: 85\n",
      "Iteration: 144 / 144 - MIN_DF: 7 - MAX_DF: 0.9 - MAX_FT: 9474 - N_TOPICS: 100\n",
      "CPU times: user 4min 44s, sys: 3min 8s, total: 7min 53s\n",
      "Wall time: 3min 20s\n"
     ]
    }
   ],
   "source": [
    "%%time\n",
    "\n",
    "# lsi_topics_lists = []\n",
    "lda_topics_lists = []\n",
    "hdp_topics_lists = []\n",
    "\n",
    "MIN_DFs = [1, 2, 4, 7]\n",
    "MAX_DFs = [0.6, 0.7, 0.8, 0.9]\n",
    "MAX_FTs = [100, 1000, len(dictionary)]\n",
    "N_TOPICSs = [10, len(texts), 100]\n",
    "\n",
    "total_iterations = len(MIN_DFs) * len(MAX_DFs) * len(MAX_FTs) * len(N_TOPICSs)\n",
    "iteration = 1\n",
    "for MIN_DF in MIN_DFs:\n",
    "    for MAX_DF in MAX_DFs:\n",
    "        for MAX_FT in MAX_FTs:\n",
    "            dictionary = corpora.Dictionary(texts)\n",
    "            dictionary.filter_extremes(no_below=MIN_DF, no_above=MAX_DF, keep_n=MAX_FT)\n",
    "            corpus = [dictionary.doc2bow(text) for text in texts]\n",
    "            tfidf = models.TfidfModel(corpus)\n",
    "            corpus_tfidf = tfidf[corpus]\n",
    "            \n",
    "            for N_TOPICS in N_TOPICSs:\n",
    "                print('Iteration: {} / {}'.format(iteration, total_iterations), \\\n",
    "                      '- MIN_DF:', MIN_DF, '- MAX_DF:', MAX_DF, '- MAX_FT:', MAX_FT, '- N_TOPICS:', N_TOPICS)\n",
    "                iteration += 1\n",
    "                \n",
    "                # LSI\n",
    "#                 lsi = models.LsiModel(corpus_tfidf, id2word=dictionary, num_topics=N_TOPICS)\n",
    "#                 corpus_lsi = lsi[corpus_tfidf]\n",
    "#                 ts = lsi.show_topics(lsi.num_topics, formatted=False)\n",
    "#                 result = (ts, (MIN_DF, MAX_DF, MAX_FT, N_TOPICS), corpus_lsi)\n",
    "#                 lsi_topics_lists.append(result)\n",
    "            \n",
    "                # LDA\n",
    "                lda = models.LdaModel(corpus, id2word=dictionary, num_topics=N_TOPICS, random_state=0)\n",
    "                corpus_lda = lda[corpus]\n",
    "                ts = sorted(lda.show_topics(lda.num_topics, formatted=False))\n",
    "                result = (ts, (MIN_DF, MAX_DF, MAX_FT, N_TOPICS), corpus_lda)\n",
    "                lda_topics_lists.append(result)\n",
    "            \n",
    "                # HDP\n",
    "                hdp = models.HdpModel(corpus, id2word=dictionary, random_state=0)\n",
    "                corpus_hdp = hdp[corpus]\n",
    "                ts = hdp.show_topics(len(hdp.show_topics(num_topics=-1)), num_words=10, formatted=False)\n",
    "                result = (ts, (MIN_DF, MAX_DF, MAX_FT, N_TOPICS), corpus_hdp)\n",
    "                hdp_topics_lists.append(result)"
   ]
  },
  {
   "cell_type": "code",
   "execution_count": 16,
   "metadata": {
    "collapsed": true
   },
   "outputs": [],
   "source": [
    "def extract_vocabulary(ts):\n",
    "    vocab = set()\n",
    "    for t in ts:\n",
    "        words = [word for word, weight in t]\n",
    "        vocab = vocab.union(words)\n",
    "    vocab = sorted(vocab)\n",
    "    r = {w: i for i, w in enumerate(vocab)}\n",
    "    return r\n",
    "\n",
    "def get_weights(t):\n",
    "    return dict(t)\n",
    "\n",
    "def create_vector(vocab, weights):\n",
    "    r = [0] * len(vocab)\n",
    "    for wo in weights:\n",
    "        r[vocab[wo]] = weights[wo]\n",
    "    return r\n",
    "\n",
    "def vectorize(ts):\n",
    "    r = []\n",
    "    ts = [t for i, j, t in ts]\n",
    "    vocab = extract_vocabulary(ts)\n",
    "    for t in ts:\n",
    "        weights = get_weights(t)\n",
    "        vector = create_vector(vocab, weights)\n",
    "        r.append(vector)\n",
    "    return r"
   ]
  },
  {
   "cell_type": "code",
   "execution_count": 17,
   "metadata": {
    "collapsed": true
   },
   "outputs": [],
   "source": [
    "def two_topics_distance(t1, t2):\n",
    "    r = spatial.distance.cosine(t1, t2)\n",
    "    return r\n",
    "\n",
    "def multiple_topics_distance(ts):\n",
    "    ds = []\n",
    "    for i, t1 in enumerate(ts[:-1]):\n",
    "        for j in range(i + 1, len(ts)):\n",
    "            t2 = ts[j]\n",
    "            d = two_topics_distance(t1, t2)\n",
    "            ds.append(d)\n",
    "    return np.mean(ds)\n",
    "\n",
    "def top_n_used(ts_list, n):\n",
    "    total_weights = defaultdict(float)\n",
    "    corpus = ts_list[2]\n",
    "    for doc in corpus:\n",
    "        for topic, weight in doc:\n",
    "            total_weights[topic] += abs(weight)\n",
    "    total_weights = dict(total_weights)\n",
    "    counter = Counter(total_weights)\n",
    "    topics_dct = dict(ts_list[0])\n",
    "    r = ([(weight, topic_id, topics_dct[topic_id])\n",
    "             for topic_id, weight in counter.most_common(n)], ts_list[1], corpus)\n",
    "    return r\n",
    "\n",
    "def best_topics(ts_lists, n=10):\n",
    "    r = []\n",
    "    for ts_list in ts_lists:\n",
    "        top_n_ts_list = top_n_used(ts_list, n)\n",
    "        ts_vector = vectorize(top_n_ts_list[0])\n",
    "        d = multiple_topics_distance(ts_vector)\n",
    "        r.append((d, top_n_ts_list))\n",
    "    r = sorted(r, reverse=True)\n",
    "    return r[0]"
   ]
  },
  {
   "cell_type": "code",
   "execution_count": 18,
   "metadata": {},
   "outputs": [
    {
     "name": "stdout",
     "output_type": "stream",
     "text": [
      "LDA\n",
      "HDP\n",
      "CPU times: user 2min 55s, sys: 2min 29s, total: 5min 25s\n",
      "Wall time: 1min 27s\n"
     ]
    }
   ],
   "source": [
    "%%time\n",
    "\n",
    "# print('LSI')\n",
    "# lsi_best_topics_list = best_topics(lsi_topics_lists)\n",
    "print('LDA')\n",
    "lda_best_topics_list = best_topics(lda_topics_lists)\n",
    "print('HDP')\n",
    "hdp_best_topics_list = best_topics(hdp_topics_lists)"
   ]
  },
  {
   "cell_type": "markdown",
   "metadata": {},
   "source": [
    "## Results"
   ]
  },
  {
   "cell_type": "markdown",
   "metadata": {},
   "source": [
    "### LSI"
   ]
  },
  {
   "cell_type": "code",
   "execution_count": 19,
   "metadata": {
    "collapsed": true
   },
   "outputs": [],
   "source": [
    "# lsi_best_topics_list[1][0]"
   ]
  },
  {
   "cell_type": "markdown",
   "metadata": {},
   "source": [
    "### LDA"
   ]
  },
  {
   "cell_type": "code",
   "execution_count": 20,
   "metadata": {
    "scrolled": false
   },
   "outputs": [
    {
     "data": {
      "text/plain": [
       "[(3.933880852535367,\n",
       "  24,\n",
       "  [('colombianos', 0.066531695),\n",
       "   ('confianza', 0.045571104),\n",
       "   ('medidas', 0.030211462),\n",
       "   ('búsqueda', 0.029236639),\n",
       "   ('construcción', 0.028218633),\n",
       "   ('personas', 0.027958073),\n",
       "   ('armado', 0.027270539),\n",
       "   ('país', 0.023853913),\n",
       "   ('fuerzas', 0.021859759),\n",
       "   ('cese', 0.021099994)]),\n",
       " (3.7093954533338547,\n",
       "  37,\n",
       "  [('fuego', 0.060862582),\n",
       "   ('cese', 0.056697749),\n",
       "   ('años', 0.044493277),\n",
       "   ('país', 0.02776679),\n",
       "   ('bilateral', 0.025121357),\n",
       "   ('violencia', 0.024738669),\n",
       "   ('colombiano', 0.02262843),\n",
       "   ('personas', 0.020685486),\n",
       "   ('medidas', 0.019310148),\n",
       "   ('república', 0.019141063)]),\n",
       " (3.5121290720999241,\n",
       "  97,\n",
       "  [('colombianos', 0.063293897),\n",
       "   ('país', 0.033196405),\n",
       "   ('cese', 0.029324625),\n",
       "   ('vida', 0.028835677),\n",
       "   ('años', 0.027550448),\n",
       "   ('fuego', 0.027180497),\n",
       "   ('hoy', 0.026900103),\n",
       "   ('calle', 0.026135329),\n",
       "   ('jefe', 0.024751348),\n",
       "   ('humberto', 0.023710962)]),\n",
       " (3.4431252107024193,\n",
       "  91,\n",
       "  [('reparación', 0.087870196),\n",
       "   ('medidas', 0.054306883),\n",
       "   ('especial', 0.03434442),\n",
       "   ('derecho', 0.034089617),\n",
       "   ('integral', 0.03304404),\n",
       "   ('responsabilidad', 0.030607587),\n",
       "   ('repetición', 0.029838754),\n",
       "   ('armado', 0.028738741),\n",
       "   ('sistema', 0.027969074),\n",
       "   ('personas', 0.026169389)]),\n",
       " (2.9192826449871063,\n",
       "  61,\n",
       "  [('personas', 0.11414276),\n",
       "   ('búsqueda', 0.066251554),\n",
       "   ('medidas', 0.046783742),\n",
       "   ('comisión', 0.039446253),\n",
       "   ('armado', 0.038828727),\n",
       "   ('confianza', 0.037241507),\n",
       "   ('construcción', 0.034103077),\n",
       "   ('especial', 0.029712806),\n",
       "   ('repetición', 0.026533015),\n",
       "   ('marcha', 0.020798715)]),\n",
       " (2.8407448269426823,\n",
       "  93,\n",
       "  [('reparación', 0.056766018),\n",
       "   ('especial', 0.036327679),\n",
       "   ('sistema', 0.035672333),\n",
       "   ('repetición', 0.03387719),\n",
       "   ('fuerzas', 0.030395621),\n",
       "   ('integral', 0.028719969),\n",
       "   ('armado', 0.027289206),\n",
       "   ('grupo', 0.025304653),\n",
       "   ('años', 0.022058534),\n",
       "   ('país', 0.020872485)]),\n",
       " (2.7375786397606134,\n",
       "  1,\n",
       "  [('país', 0.093799017),\n",
       "   ('importante', 0.039229728),\n",
       "   ('mejor', 0.037119318),\n",
       "   ('armado', 0.035247836),\n",
       "   ('república', 0.033035506),\n",
       "   ('años', 0.030246936),\n",
       "   ('seguridad', 0.029896287),\n",
       "   ('mundo', 0.023772694),\n",
       "   ('fuerzas', 0.022635521),\n",
       "   ('tema', 0.0224857)]),\n",
       " (2.5812466144561768,\n",
       "  94,\n",
       "  [('medidas', 0.10262039),\n",
       "   ('construcción', 0.10049008),\n",
       "   ('confianza', 0.085840799),\n",
       "   ('grupo', 0.06505914),\n",
       "   ('subcomisión', 0.064475529),\n",
       "   ('comisión', 0.05235111),\n",
       "   ('implementación', 0.038451821),\n",
       "   ('marco', 0.025383474),\n",
       "   ('convivencia', 0.025196431),\n",
       "   ('miembros', 0.02329216)]),\n",
       " (2.5695982798933983,\n",
       "  46,\n",
       "  [('colombianos', 0.051086091),\n",
       "   ('seguridad', 0.034739014),\n",
       "   ('temas', 0.034059025),\n",
       "   ('lugar', 0.032463118),\n",
       "   ('mecanismos', 0.029804589),\n",
       "   ('dicho', 0.028172832),\n",
       "   ('república', 0.021950774),\n",
       "   ('tema', 0.021308372),\n",
       "   ('comisión', 0.020452406),\n",
       "   ('implementación', 0.02020639)]),\n",
       " (2.5337778478860855,\n",
       "  67,\n",
       "  [('comisión', 0.11094856),\n",
       "   ('convivencia', 0.03424111),\n",
       "   ('integral', 0.030373678),\n",
       "   ('sociedad', 0.02918417),\n",
       "   ('repetición', 0.027631707),\n",
       "   ('política', 0.020570092),\n",
       "   ('construcción', 0.020074463),\n",
       "   ('país', 0.019917086),\n",
       "   ('violencia', 0.0188228),\n",
       "   ('tres', 0.018275158)])]"
      ]
     },
     "execution_count": 20,
     "metadata": {},
     "output_type": "execute_result"
    }
   ],
   "source": [
    "lda_best_topics_list[1][0]"
   ]
  },
  {
   "cell_type": "markdown",
   "metadata": {},
   "source": [
    "### HDP"
   ]
  },
  {
   "cell_type": "code",
   "execution_count": 21,
   "metadata": {
    "scrolled": false
   },
   "outputs": [
    {
     "data": {
      "text/plain": [
       "[(10.004880107903761,\n",
       "  0,\n",
       "  [('comisión', 0.009658933618318875),\n",
       "   ('reparación', 0.0079674155372349929),\n",
       "   ('humanos', 0.0072762462549024586),\n",
       "   ('especial', 0.0063476734787808091),\n",
       "   ('repetición', 0.0059103347632380593),\n",
       "   ('medidas', 0.0056243646270251859),\n",
       "   ('armado', 0.0055727018667878631),\n",
       "   ('integral', 0.0051891020598585766),\n",
       "   ('sistema', 0.0051625145769254241),\n",
       "   ('responsabilidad', 0.0051207242428069613)]),\n",
       " (6.6148572178738627,\n",
       "  9,\n",
       "  [('hoy', 0.0063624645039302352),\n",
       "   ('colombianos', 0.0058015116382197467),\n",
       "   ('nunca', 0.0054919733128186866),\n",
       "   ('fuego', 0.0052225921729367993),\n",
       "   ('confianza', 0.004291832497593487),\n",
       "   ('miembros', 0.0041643038902325156),\n",
       "   ('firma', 0.0041638583431859201),\n",
       "   ('derecho', 0.0041501738277199985),\n",
       "   ('conductas', 0.0040668274560378814),\n",
       "   ('artefactos', 0.0040248576885362946)]),\n",
       " (5.837210701654139,\n",
       "  1,\n",
       "  [('reparación', 0.016085299618625263),\n",
       "   ('especial', 0.0061698268732447445),\n",
       "   ('delitos', 0.0054472570812826573),\n",
       "   ('movimiento', 0.0054443306135325831),\n",
       "   ('final', 0.0053608530820929484),\n",
       "   ('medidas', 0.0052060655090184066),\n",
       "   ('sanciones', 0.0050845809011448879),\n",
       "   ('responsabilidad', 0.0050536255500676806),\n",
       "   ('efectiva', 0.0048301233214401882),\n",
       "   ('reconocimiento', 0.0046423172898880788)]),\n",
       " (5.8075161225888889,\n",
       "  2,\n",
       "  [('personas', 0.0091884129772284041),\n",
       "   ('desaparecidas', 0.0080658154392443653),\n",
       "   ('búsqueda', 0.0067442256772254558),\n",
       "   ('restos', 0.0064249082292909213),\n",
       "   ('información', 0.0063796409934684332),\n",
       "   ('dadas', 0.0062048220751866169),\n",
       "   ('construcción', 0.005976090082723505),\n",
       "   ('armado', 0.0057830057593588613),\n",
       "   ('especial', 0.0057568349429998741),\n",
       "   ('sistema', 0.0054155097469990171)]),\n",
       " (5.5683378209146905,\n",
       "  4,\n",
       "  [('infraestructura', 0.006598778648475561),\n",
       "   ('guerrilla', 0.006162222465507022),\n",
       "   ('años', 0.0053515674372891396),\n",
       "   ('investigaciones', 0.0051692943924506671),\n",
       "   ('responde', 0.0051638070179289355),\n",
       "   ('fuego', 0.0050442948371178433),\n",
       "   ('cinco', 0.0050305717029568682),\n",
       "   ('país', 0.0048016454962058145),\n",
       "   ('cese', 0.0046900103367607266),\n",
       "   ('apoyo', 0.0045785156816526337)]),\n",
       " (4.7979303696666475,\n",
       "  7,\n",
       "  [('comunidades', 0.0080249949302506774),\n",
       "   ('explosivos', 0.0057427303442814624),\n",
       "   ('definitivamente', 0.0055426084058756812),\n",
       "   ('descontaminación', 0.0052599783221513683),\n",
       "   ('reg', 0.0049367020094333433),\n",
       "   ('razón', 0.0048889102823894094),\n",
       "   ('aei', 0.0048013024506656466),\n",
       "   ('minas', 0.0046320098587184352),\n",
       "   ('limpieza', 0.0044592558043802877),\n",
       "   ('noruega', 0.0042478027427690452)]),\n",
       " (4.3881686694978814,\n",
       "  3,\n",
       "  [('comisión', 0.018574401752218469),\n",
       "   ('repetición', 0.0052314222452614903),\n",
       "   ('esclarecimiento', 0.0049625502652461927),\n",
       "   ('naturaleza', 0.0042510105764179528),\n",
       "   ('construcción', 0.0041894422153420322),\n",
       "   ('colectivas', 0.0041195082858922734),\n",
       "   ('garantías', 0.0039375210500473632),\n",
       "   ('mecanismos', 0.0038276534272499753),\n",
       "   ('selección', 0.0038177680833514256),\n",
       "   ('mecanismo', 0.003813379637123786)]),\n",
       " (3.9350327816460942,\n",
       "  5,\n",
       "  [('país', 0.0075510283270857027),\n",
       "   ('poner', 0.0059491297146935049),\n",
       "   ('mejor', 0.0048859986377125823),\n",
       "   ('ley', 0.0045749529027359426),\n",
       "   ('política', 0.004552018894332854),\n",
       "   ('discusión', 0.0045380214242754279),\n",
       "   ('asegurar', 0.004264738369645308),\n",
       "   ('ofrecer', 0.0039591081749892499),\n",
       "   ('colombianos', 0.0039216227859415085),\n",
       "   ('presencia', 0.0037869381701226999)]),\n",
       " (3.4850077801622623,\n",
       "  6,\n",
       "  [('días', 0.0076439273011264051),\n",
       "   ('construcción', 0.0066338328529894951),\n",
       "   ('proyecto', 0.0058065174030920144),\n",
       "   ('comisión', 0.0056862896354432195),\n",
       "   ('garantizar', 0.0053975564535028581),\n",
       "   ('hicieron', 0.0053566402085029512),\n",
       "   ('confianza', 0.0052565192235380139),\n",
       "   ('formas', 0.0043599916042712976),\n",
       "   ('subcomisión', 0.0043240137268725429),\n",
       "   ('garantes', 0.0042964551794949166)]),\n",
       " (2.9990328485854487,\n",
       "  8,\n",
       "  [('comisión', 0.0091759417339019583),\n",
       "   ('población', 0.0066143232339192825),\n",
       "   ('subcomisión', 0.0063068419223280287),\n",
       "   ('convivencia', 0.005992585873818233),\n",
       "   ('documento', 0.0056455887181909477),\n",
       "   ('género', 0.0055555522698887876),\n",
       "   ('claro', 0.0055194553355614835),\n",
       "   ('discusiones', 0.0052289809033672467),\n",
       "   ('día', 0.0048994670262664354),\n",
       "   ('grupo', 0.0048489642809174342)])]"
      ]
     },
     "execution_count": 21,
     "metadata": {},
     "output_type": "execute_result"
    }
   ],
   "source": [
    "hdp_best_topics_list[1][0]"
   ]
  },
  {
   "cell_type": "code",
   "execution_count": null,
   "metadata": {
    "collapsed": true
   },
   "outputs": [],
   "source": []
  }
 ],
 "metadata": {
  "kernelspec": {
   "display_name": "Python 3",
   "language": "python",
   "name": "python3"
  },
  "language_info": {
   "codemirror_mode": {
    "name": "ipython",
    "version": 3
   },
   "file_extension": ".py",
   "mimetype": "text/x-python",
   "name": "python",
   "nbconvert_exporter": "python",
   "pygments_lexer": "ipython3",
   "version": "3.5.2"
  }
 },
 "nbformat": 4,
 "nbformat_minor": 2
}
