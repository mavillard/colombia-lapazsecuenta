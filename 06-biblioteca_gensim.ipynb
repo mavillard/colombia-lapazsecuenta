{
 "cells": [
  {
   "cell_type": "markdown",
   "metadata": {},
   "source": [
    "# Tópicos"
   ]
  },
  {
   "cell_type": "code",
   "execution_count": 1,
   "metadata": {
    "collapsed": true
   },
   "outputs": [],
   "source": [
    "# import logging\n",
    "# logging.basicConfig(format='%(asctime)s : %(levelname)s : %(message)s', level=logging.INFO)"
   ]
  },
  {
   "cell_type": "code",
   "execution_count": 2,
   "metadata": {},
   "outputs": [],
   "source": [
    "from collections import Counter\n",
    "\n",
    "from gensim import corpora, models"
   ]
  },
  {
   "cell_type": "markdown",
   "metadata": {},
   "source": [
    "## Loading data"
   ]
  },
  {
   "cell_type": "code",
   "execution_count": 3,
   "metadata": {
    "collapsed": true
   },
   "outputs": [],
   "source": [
    "with open('data/out/cleaned_tomo_1.txt') as f:\n",
    "    doc1 = f.read()\n",
    "\n",
    "with open('data/out/cleaned_tomo_5a.txt') as f:\n",
    "    doc5a = f.read()\n",
    "\n",
    "with open('data/out/cleaned_tomo_5b.txt') as f:\n",
    "    doc5b = f.read()\n",
    "\n",
    "with open('data/out/cleaned_tomo_7.txt') as f:\n",
    "    doc7 = f.read()"
   ]
  },
  {
   "cell_type": "markdown",
   "metadata": {},
   "source": [
    "## Cleaning data"
   ]
  },
  {
   "cell_type": "code",
   "execution_count": 4,
   "metadata": {},
   "outputs": [],
   "source": [
    "documents = [doc1, doc5a, doc5b, doc7]"
   ]
  },
  {
   "cell_type": "code",
   "execution_count": 5,
   "metadata": {
    "collapsed": true
   },
   "outputs": [],
   "source": [
    "document = ' '.join(documents)"
   ]
  },
  {
   "cell_type": "code",
   "execution_count": 6,
   "metadata": {
    "collapsed": true
   },
   "outputs": [],
   "source": [
    "counter = Counter(document.split())"
   ]
  },
  {
   "cell_type": "code",
   "execution_count": 7,
   "metadata": {
    "collapsed": true
   },
   "outputs": [],
   "source": [
    "texts = [[word for word in document.split() if counter[word] > 1] for document in documents]"
   ]
  },
  {
   "cell_type": "markdown",
   "metadata": {},
   "source": [
    "## Processing data"
   ]
  },
  {
   "cell_type": "markdown",
   "metadata": {},
   "source": [
    "### LSI"
   ]
  },
  {
   "cell_type": "code",
   "execution_count": 8,
   "metadata": {},
   "outputs": [],
   "source": [
    "dictionary = corpora.Dictionary(texts)"
   ]
  },
  {
   "cell_type": "code",
   "execution_count": 9,
   "metadata": {},
   "outputs": [
    {
     "name": "stdout",
     "output_type": "stream",
     "text": [
      "Dictionary(10541 unique tokens: ['compartieron', 'obliga', 'enterada', 'cárceles', 'diferente']...)\n"
     ]
    }
   ],
   "source": [
    "print(dictionary)"
   ]
  },
  {
   "cell_type": "code",
   "execution_count": 10,
   "metadata": {
    "collapsed": true
   },
   "outputs": [],
   "source": [
    "corpus = [dictionary.doc2bow(text) for text in texts]"
   ]
  },
  {
   "cell_type": "code",
   "execution_count": 11,
   "metadata": {},
   "outputs": [],
   "source": [
    "tfidf = models.TfidfModel(corpus)"
   ]
  },
  {
   "cell_type": "code",
   "execution_count": 12,
   "metadata": {},
   "outputs": [
    {
     "name": "stdout",
     "output_type": "stream",
     "text": [
      "TfidfModel(num_docs=4, num_nnz=26861)\n"
     ]
    }
   ],
   "source": [
    "print(tfidf)"
   ]
  },
  {
   "cell_type": "code",
   "execution_count": 13,
   "metadata": {
    "collapsed": true
   },
   "outputs": [],
   "source": [
    "corpus_tfidf = tfidf[corpus]"
   ]
  },
  {
   "cell_type": "code",
   "execution_count": 14,
   "metadata": {
    "collapsed": true
   },
   "outputs": [],
   "source": [
    "N_TOPICS = 4"
   ]
  },
  {
   "cell_type": "code",
   "execution_count": 15,
   "metadata": {},
   "outputs": [],
   "source": [
    "lsi = models.LsiModel(corpus_tfidf, id2word=dictionary, num_topics=N_TOPICS) # initialize an LSI transformation\n",
    "corpus_lsi = lsi[corpus_tfidf]"
   ]
  },
  {
   "cell_type": "code",
   "execution_count": 16,
   "metadata": {},
   "outputs": [
    {
     "data": {
      "text/plain": [
       "4"
      ]
     },
     "execution_count": 16,
     "metadata": {},
     "output_type": "execute_result"
    }
   ],
   "source": [
    "lsi.num_topics"
   ]
  },
  {
   "cell_type": "code",
   "execution_count": 17,
   "metadata": {},
   "outputs": [
    {
     "data": {
      "text/plain": [
       "[(0,\n",
       "  '0.262*\"cbm\" + 0.126*\"piloto\" + 0.118*\"exploratorio\" + 0.108*\"descontaminación\" + 0.102*\"ubpd\" + 0.098*\"panel\" + 0.096*\"sexual\" + 0.095*\"orejón\" + 0.089*\"informes\" + 0.084*\"esclarecer\"'),\n",
       " (1,\n",
       "  '-0.382*\"exploratorio\" + -0.240*\"henry\" + -0.217*\"epa\" + -0.201*\"secreto\" + 0.171*\"panel\" + -0.145*\"preparatorio\" + -0.137*\"dígales\" + -0.137*\"calarcá\" + 0.135*\"paneles\" + -0.121*\"exploratorias\"'),\n",
       " (2,\n",
       "  '-0.230*\"panel\" + -0.228*\"exploratorio\" + -0.181*\"paneles\" + -0.147*\"henry\" + -0.134*\"mesas\" + -0.131*\"epa\" + -0.129*\"socialización\" + -0.121*\"secreto\" + -0.121*\"gráfico\" + 0.120*\"cbm\"'),\n",
       " (3,\n",
       "  '-0.405*\"cbm\" + 0.137*\"piloto\" + 0.135*\"descontaminación\" + 0.122*\"sentencias\" + 0.116*\"hdc\" + -0.115*\"cdv\" + 0.109*\"ubpd\" + 0.108*\"orejón\" + 0.103*\"apn\" + -0.103*\"victimizante\"')]"
      ]
     },
     "execution_count": 17,
     "metadata": {},
     "output_type": "execute_result"
    }
   ],
   "source": [
    "lsi.print_topics(lsi.num_topics)"
   ]
  },
  {
   "cell_type": "code",
   "execution_count": 18,
   "metadata": {},
   "outputs": [
    {
     "name": "stdout",
     "output_type": "stream",
     "text": [
      "[(0, 0.34204791329790379), (1, -0.81477063176349873), (2, -0.46733697479631214), (3, -0.02735314630006434)]\n",
      "[(0, 0.74145425742051863), (1, 0.11152117545806482), (2, 0.23379310000832354), (3, -0.61899062833450635)]\n",
      "[(0, 0.70775978189226996), (1, -0.059047027532677425), (2, 0.41165320402066591), (3, 0.57107896064807118)]\n",
      "[(0, 0.43531499353015007), (1, 0.54625698387905353), (2, -0.70029022373305283), (3, 0.14730161748979806)]\n"
     ]
    }
   ],
   "source": [
    "for doc in corpus_lsi: # both bow->tfidf and tfidf->lsi transformations are actually executed here, on the fly\n",
    "    print(doc)"
   ]
  },
  {
   "cell_type": "markdown",
   "metadata": {},
   "source": [
    "### RP"
   ]
  },
  {
   "cell_type": "code",
   "execution_count": 19,
   "metadata": {
    "collapsed": true
   },
   "outputs": [],
   "source": [
    "N_TOPICS = 4"
   ]
  },
  {
   "cell_type": "code",
   "execution_count": 20,
   "metadata": {},
   "outputs": [],
   "source": [
    "rp = models.RpModel(corpus_tfidf, num_topics=N_TOPICS)\n",
    "corpus_rp = rp[corpus_tfidf]"
   ]
  },
  {
   "cell_type": "code",
   "execution_count": 21,
   "metadata": {},
   "outputs": [
    {
     "data": {
      "text/plain": [
       "4"
      ]
     },
     "execution_count": 21,
     "metadata": {},
     "output_type": "execute_result"
    }
   ],
   "source": [
    "rp.num_topics"
   ]
  },
  {
   "cell_type": "code",
   "execution_count": 22,
   "metadata": {},
   "outputs": [
    {
     "data": {
      "text/plain": [
       "array([[ 1., -1.,  1., ...,  1., -1.,  1.],\n",
       "       [-1.,  1.,  1., ..., -1.,  1., -1.],\n",
       "       [ 1.,  1.,  1., ...,  1.,  1.,  1.],\n",
       "       [ 1.,  1.,  1., ..., -1.,  1.,  1.]], dtype=float32)"
      ]
     },
     "execution_count": 22,
     "metadata": {},
     "output_type": "execute_result"
    }
   ],
   "source": [
    "rp.projection"
   ]
  },
  {
   "cell_type": "code",
   "execution_count": 23,
   "metadata": {
    "scrolled": true
   },
   "outputs": [
    {
     "name": "stdout",
     "output_type": "stream",
     "text": [
      "[(0, 0.10112765431404114), (1, -0.8606229424476624), (2, -0.736624538898468), (3, 0.8527173399925232)]\n",
      "[(0, 0.08899615705013275), (1, -0.19061729311943054), (2, 0.4063926935195923), (3, -0.3256755471229553)]\n",
      "[(0, 0.15313038229942322), (1, -0.6347262263298035), (2, -0.3414880037307739), (3, 0.20387393236160278)]\n",
      "[(0, -0.14046519994735718), (1, -0.045565567910671234), (2, 1.147280216217041), (3, 0.3387052118778229)]\n"
     ]
    }
   ],
   "source": [
    "for doc in corpus_rp:\n",
    "    print(doc)"
   ]
  },
  {
   "cell_type": "markdown",
   "metadata": {},
   "source": [
    "### LDA"
   ]
  },
  {
   "cell_type": "code",
   "execution_count": 24,
   "metadata": {
    "collapsed": true
   },
   "outputs": [],
   "source": [
    "N_TOPICS = 2"
   ]
  },
  {
   "cell_type": "code",
   "execution_count": 25,
   "metadata": {
    "collapsed": true
   },
   "outputs": [],
   "source": [
    "lda = models.LdaModel(corpus, id2word=dictionary, num_topics=N_TOPICS)\n",
    "corpus_lda = lda[corpus]"
   ]
  },
  {
   "cell_type": "code",
   "execution_count": 26,
   "metadata": {},
   "outputs": [
    {
     "data": {
      "text/plain": [
       "2"
      ]
     },
     "execution_count": 26,
     "metadata": {},
     "output_type": "execute_result"
    }
   ],
   "source": [
    "lda.num_topics"
   ]
  },
  {
   "cell_type": "code",
   "execution_count": 27,
   "metadata": {},
   "outputs": [
    {
     "data": {
      "text/plain": [
       "[(0,\n",
       "  '0.016*\"paz\" + 0.011*\"víctimas\" + 0.009*\"conflicto\" + 0.008*\"nacional\" + 0.008*\"farc-ep\" + 0.007*\"gobierno\" + 0.007*\"acuerdo\" + 0.006*\"mujeres\" + 0.006*\"conversaciones\" + 0.005*\"proceso\"'),\n",
       " (1,\n",
       "  '0.015*\"paz\" + 0.010*\"víctimas\" + 0.010*\"conflicto\" + 0.009*\"gobierno\" + 0.008*\"farc-ep\" + 0.007*\"mesa\" + 0.006*\"proceso\" + 0.006*\"colombia\" + 0.006*\"acuerdo\" + 0.006*\"participación\"')]"
      ]
     },
     "execution_count": 27,
     "metadata": {},
     "output_type": "execute_result"
    }
   ],
   "source": [
    "lda.print_topics()"
   ]
  },
  {
   "cell_type": "code",
   "execution_count": 28,
   "metadata": {
    "scrolled": true
   },
   "outputs": [
    {
     "name": "stdout",
     "output_type": "stream",
     "text": [
      "[(0, 0.125499), (1, 0.87450099)]\n",
      "[(0, 0.37531364), (1, 0.62468636)]\n",
      "[(0, 0.49615833), (1, 0.5038417)]\n",
      "[(0, 0.81025672), (1, 0.18974333)]\n"
     ]
    }
   ],
   "source": [
    "for doc in corpus_lda:\n",
    "    print(doc)"
   ]
  },
  {
   "cell_type": "markdown",
   "metadata": {},
   "source": [
    "### HDP"
   ]
  },
  {
   "cell_type": "code",
   "execution_count": 29,
   "metadata": {
    "collapsed": true
   },
   "outputs": [],
   "source": [
    "N_TOPICS = 4"
   ]
  },
  {
   "cell_type": "code",
   "execution_count": 35,
   "metadata": {
    "collapsed": true
   },
   "outputs": [],
   "source": [
    "hdp = models.HdpModel(corpus, id2word=dictionary)\n",
    "corpus_hdp = hdp[corpus]"
   ]
  },
  {
   "cell_type": "code",
   "execution_count": 36,
   "metadata": {},
   "outputs": [
    {
     "data": {
      "text/plain": [
       "[(0,\n",
       "  '0.017*paz + 0.012*conflicto + 0.012*víctimas + 0.009*gobierno + 0.009*farc-ep + 0.008*acuerdo + 0.007*verdad + 0.006*ciclo + 0.006*proceso + 0.006*justicia'),\n",
       " (1,\n",
       "  '0.019*paz + 0.015*mujeres + 0.012*nacional + 0.011*participación + 0.009*mesa + 0.009*organizaciones + 0.009*género + 0.008*foro + 0.007*conversaciones + 0.007*acuerdo'),\n",
       " (2,\n",
       "  '0.019*víctimas + 0.014*paz + 0.013*conflicto + 0.008*farc-ep + 0.008*gobierno + 0.007*proceso + 0.007*ciclo + 0.006*mesa + 0.006*colombia + 0.006*derechos'),\n",
       " (3,\n",
       "  '0.013*gobierno + 0.012*paz + 0.012*farc-ep + 0.008*acuerdo + 0.008*conflicto + 0.007*colombia + 0.007*proceso + 0.006*presidente + 0.006*encuentro + 0.005*país'),\n",
       " (4,\n",
       "  '0.001*incorporado + 0.001*sobrevivido + 0.000*suficiente + 0.000*rezagos + 0.000*asumí + 0.000*terrepaz + 0.000*compañera + 0.000*ops + 0.000*niñas + 0.000*deben'),\n",
       " (5,\n",
       "  '0.001*útil + 0.001*marginados + 0.001*bautista + 0.001*armamento + 0.001*ciudad + 0.000*brindarle + 0.000*wola + 0.000*dividendo + 0.000*partirá + 0.000*sagrado'),\n",
       " (6,\n",
       "  '0.001*energía + 0.001*cartera + 0.001*radio + 0.001*provean + 0.001*consensuar + 0.001*desarrollará + 0.000*mina + 0.000*ocultar + 0.000*serios + 0.000*significativa'),\n",
       " (7,\n",
       "  '0.001*considero + 0.001*voluntario + 0.001*nco + 0.001*aprobados + 0.001*resguardos + 0.001*alcanzada + 0.000*incluyera + 0.000*amigo + 0.000*recibiendo + 0.000*conpa'),\n",
       " (8,\n",
       "  '0.001*bides + 0.001*elegidas + 0.001*teórico + 0.001*preparatorio + 0.000*orientaciones + 0.000*tlaxcala + 0.000*liberación + 0.000*excluyentes + 0.000*irá + 0.000*concluir'),\n",
       " (9,\n",
       "  '0.001*pusiera + 0.001*rediseñar + 0.001*verificable + 0.001*cameron + 0.001*puntoaparte + 0.001*pertenecen + 0.001*identificaron + 0.001*transversalización + 0.000*estimular + 0.000*definiciones'),\n",
       " (10,\n",
       "  '0.001*trataban + 0.001*fallaremos + 0.000*urng + 0.000*anhelan + 0.000*severos + 0.000*artículo + 0.000*narcotraficantes + 0.000*ilumine + 0.000*propósito + 0.000*celebrada'),\n",
       " (11,\n",
       "  '0.001*episodios + 0.001*cargado + 0.000*asoproguejar + 0.000*rol + 0.000*deberíamos + 0.000*estatutaria + 0.000*significan + 0.000*lemus + 0.000*concertación + 0.000*gigantesco'),\n",
       " (12,\n",
       "  '0.001*paramilitar + 0.001*columnista + 0.001*piedad + 0.001*propositivo + 0.001*antioqueño + 0.001*magnífico + 0.000*npa + 0.000*harnisch + 0.000*inciden + 0.000*aplicable'),\n",
       " (13,\n",
       "  '0.001*detener + 0.001*decirlo + 0.001*carlos + 0.000*colombianos + 0.000*simple + 0.000*reconocerá + 0.000*traición + 0.000*modalidad + 0.000*leyner + 0.000*rigurosa'),\n",
       " (14,\n",
       "  '0.001*criterio + 0.001*descontaminar + 0.001*amos + 0.001*extorsión + 0.001*unilateral + 0.001*chile + 0.001*necesaria + 0.000*jonathan + 0.000*innovadores + 0.000*movilización'),\n",
       " (15,\n",
       "  '0.001*activación + 0.001*vía + 0.001*faltan + 0.000*requerimientos + 0.000*componentes + 0.000*anunciada + 0.000*veredas + 0.000*innovación + 0.000*producen + 0.000*aceleremos'),\n",
       " (16,\n",
       "  '0.001*propia + 0.000*expresadas + 0.000*estigmatizaciones + 0.000*cárceles + 0.000*eberto + 0.000*funcione + 0.000*versiones + 0.000*director + 0.000*pecado + 0.000*preguntar'),\n",
       " (17,\n",
       "  '0.001*cascos + 0.001*caer + 0.001*incurrieron + 0.001*asigne + 0.001*soraya + 0.000*cuestiones + 0.000*acuerden + 0.000*kilómetros + 0.000*lección + 0.000*dadas'),\n",
       " (18,\n",
       "  '0.001*dura + 0.001*fratricida + 0.001*comerciantes + 0.001*culminó + 0.001*culpables + 0.000*únicamente + 0.000*recomendó + 0.000*mónica + 0.000*capturados + 0.000*arauca'),\n",
       " (19,\n",
       "  '0.000*parís + 0.000*trabajar + 0.000*diálogo + 0.000*mercado + 0.000*prolongación + 0.000*ritmo + 0.000*detener + 0.000*contendrá + 0.000*contrucción + 0.000*recibiendo')]"
      ]
     },
     "execution_count": 36,
     "metadata": {},
     "output_type": "execute_result"
    }
   ],
   "source": [
    "hdp.print_topics()"
   ]
  },
  {
   "cell_type": "code",
   "execution_count": 37,
   "metadata": {
    "scrolled": true
   },
   "outputs": [
    {
     "name": "stdout",
     "output_type": "stream",
     "text": [
      "[(3, 0.99996328044163219)]\n",
      "[(2, 0.99985524951969851)]\n",
      "[(0, 0.99996025652488585)]\n",
      "[(1, 0.9999829712922258)]\n"
     ]
    }
   ],
   "source": [
    "for doc in corpus_hdp:\n",
    "    print(doc)"
   ]
  },
  {
   "cell_type": "code",
   "execution_count": null,
   "metadata": {
    "collapsed": true
   },
   "outputs": [],
   "source": []
  }
 ],
 "metadata": {
  "kernelspec": {
   "display_name": "Python 3",
   "language": "python",
   "name": "python3"
  },
  "language_info": {
   "codemirror_mode": {
    "name": "ipython",
    "version": 3
   },
   "file_extension": ".py",
   "mimetype": "text/x-python",
   "name": "python",
   "nbconvert_exporter": "python",
   "pygments_lexer": "ipython3",
   "version": "3.5.2"
  }
 },
 "nbformat": 4,
 "nbformat_minor": 2
}
