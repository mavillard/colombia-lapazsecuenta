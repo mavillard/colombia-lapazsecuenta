{
 "cells": [
  {
   "cell_type": "markdown",
   "metadata": {},
   "source": [
    "# Tomo 1"
   ]
  },
  {
   "cell_type": "code",
   "execution_count": 1,
   "metadata": {
    "collapsed": true
   },
   "outputs": [],
   "source": [
    "from collections import Counter\n",
    "from string import punctuation\n",
    "\n",
    "import nltk\n",
    "from nltk.corpus import stopwords"
   ]
  },
  {
   "cell_type": "markdown",
   "metadata": {},
   "source": [
    "## Loading data"
   ]
  },
  {
   "cell_type": "code",
   "execution_count": 2,
   "metadata": {},
   "outputs": [],
   "source": [
    "with open('data/aux/biblioteca/texts/1.txt') as f:\n",
    "    text = f.read()"
   ]
  },
  {
   "cell_type": "markdown",
   "metadata": {},
   "source": [
    "## Cleaning data"
   ]
  },
  {
   "cell_type": "code",
   "execution_count": 3,
   "metadata": {
    "collapsed": true
   },
   "outputs": [],
   "source": [
    "chars = []\n",
    "for c in text:\n",
    "    if not c.isalnum():\n",
    "        chars.append(c)"
   ]
  },
  {
   "cell_type": "code",
   "execution_count": 4,
   "metadata": {
    "collapsed": true
   },
   "outputs": [],
   "source": [
    "characters = set(chars)"
   ]
  },
  {
   "cell_type": "code",
   "execution_count": 5,
   "metadata": {
    "collapsed": true
   },
   "outputs": [],
   "source": [
    "with open('data/stopwords/spanish_stopwords.txt') as f:\n",
    "    sp_stopwords = list(set(map(str.strip, f.readlines())))\n",
    "\n",
    "with open('data/stopwords/my_stopwords.txt') as f:\n",
    "    my_stopwords = list(set(map(str.strip, f.readlines())))\n",
    "\n",
    "stop = stopwords.words('spanish') + sp_stopwords + my_stopwords + list(punctuation) + list(characters)"
   ]
  },
  {
   "cell_type": "code",
   "execution_count": 6,
   "metadata": {
    "collapsed": true
   },
   "outputs": [],
   "source": [
    "def clean(s):\n",
    "    r = s.lower().strip()\n",
    "    for c in characters:\n",
    "        r = r.replace(c, ' ')\n",
    "    r = r.replace('farc ep', 'farc-ep')\n",
    "    r = r.replace('confianz a', 'confianza')\n",
    "    r = r.replace('cons trucción', 'construcción')\n",
    "    rs = [w for w in nltk.word_tokenize(r) if w not in stop and len(w) > 2 and not w.isdecimal()]\n",
    "    r = ' '.join(rs)\n",
    "    return r"
   ]
  },
  {
   "cell_type": "code",
   "execution_count": 7,
   "metadata": {
    "collapsed": true
   },
   "outputs": [],
   "source": [
    "cleaned_text = clean(text)"
   ]
  },
  {
   "cell_type": "code",
   "execution_count": 8,
   "metadata": {},
   "outputs": [
    {
     "name": "stdout",
     "output_type": "stream",
     "text": [
      "  32763\n",
      "- 388\n"
     ]
    }
   ],
   "source": [
    "for c in characters:\n",
    "    if c in cleaned_text:\n",
    "        print(c, cleaned_text.count(c))"
   ]
  },
  {
   "cell_type": "markdown",
   "metadata": {},
   "source": [
    "## Processing data"
   ]
  },
  {
   "cell_type": "code",
   "execution_count": 9,
   "metadata": {
    "collapsed": true
   },
   "outputs": [],
   "source": [
    "counter = Counter(cleaned_text.split())"
   ]
  },
  {
   "cell_type": "code",
   "execution_count": 10,
   "metadata": {
    "scrolled": false
   },
   "outputs": [
    {
     "data": {
      "text/plain": [
       "[('gobierno', 400),\n",
       " ('paz', 390),\n",
       " ('farc-ep', 387),\n",
       " ('acuerdo', 265),\n",
       " ('conflicto', 254),\n",
       " ('colombia', 227),\n",
       " ('proceso', 219),\n",
       " ('presidente', 187),\n",
       " ('encuentro', 178),\n",
       " ('país', 157),\n",
       " ('nacional', 156),\n",
       " ('víctimas', 133),\n",
       " ('santos', 121),\n",
       " ('política', 121),\n",
       " ('agenda', 113),\n",
       " ('parte', 112),\n",
       " ('general', 108),\n",
       " ('mesa', 100),\n",
       " ('fin', 99),\n",
       " ('fase', 98),\n",
       " ('ustedes', 97),\n",
       " ('exploratorio', 95),\n",
       " ('negociación', 95),\n",
       " ('conversaciones', 91),\n",
       " ('marco', 90),\n",
       " ('reunión', 88),\n",
       " ('desarrollo', 83),\n",
       " ('juan', 83),\n",
       " ('delegación', 82),\n",
       " ('hoy', 82),\n",
       " ('participación', 82),\n",
       " ('habana', 80),\n",
       " ('colombianos', 79),\n",
       " ('seguridad', 76),\n",
       " ('años', 76),\n",
       " ('manuel', 75),\n",
       " ('república', 74),\n",
       " ('justicia', 74),\n",
       " ('primera', 73),\n",
       " ('armado', 71),\n",
       " ('carta', 69),\n",
       " ('mayor', 69),\n",
       " ('farc', 69),\n",
       " ('construcción', 68),\n",
       " ('delegados', 67),\n",
       " ('comisionado', 67),\n",
       " ('final', 66),\n",
       " ('manera', 65),\n",
       " ('internacional', 65),\n",
       " ('ley', 64),\n",
       " ('jaramillo', 64),\n",
       " ('alto', 63),\n",
       " ('acosta', 63),\n",
       " ('terminación', 62),\n",
       " ('social', 62),\n",
       " ('vez', 62),\n",
       " ('guerra', 61),\n",
       " ('henry', 60),\n",
       " ('día', 57),\n",
       " ('momento', 57),\n",
       " ('secretariado', 56),\n",
       " ('puntos', 55),\n",
       " ('condiciones', 54),\n",
       " ('cuba', 54),\n",
       " ('equipo', 54),\n",
       " ('nuevo', 54),\n",
       " ('trabajo', 53),\n",
       " ('garantías', 53),\n",
       " ('diálogo', 53),\n",
       " ('posible', 53),\n",
       " ('primer', 52),\n",
       " ('discusión', 52),\n",
       " ('acuerdos', 52),\n",
       " ('colombiano', 52),\n",
       " ('propuesta', 51),\n",
       " ('fuerzas', 51),\n",
       " ('pública', 50),\n",
       " ('violencia', 50),\n",
       " ('ahora', 49),\n",
       " ('noruega', 49),\n",
       " ('armas', 49),\n",
       " ('quiero', 49),\n",
       " ('paso', 49),\n",
       " ('lugar', 48),\n",
       " ('medio', 48),\n",
       " ('gran', 47),\n",
       " ('mundo', 47),\n",
       " ('pablo', 46),\n",
       " ('países', 46),\n",
       " ('central', 46),\n",
       " ('forma', 45),\n",
       " ('programas', 45),\n",
       " ('reparación', 44),\n",
       " ('derechos', 44),\n",
       " ('apoyo', 43),\n",
       " ('catatumbo', 43),\n",
       " ('comandante', 43),\n",
       " ('miembros', 43),\n",
       " ('pasado', 43),\n",
       " ('sociedad', 42)]"
      ]
     },
     "execution_count": 10,
     "metadata": {},
     "output_type": "execute_result"
    }
   ],
   "source": [
    "counter.most_common(100)"
   ]
  },
  {
   "cell_type": "markdown",
   "metadata": {},
   "source": [
    "## Saving data"
   ]
  },
  {
   "cell_type": "code",
   "execution_count": 11,
   "metadata": {
    "collapsed": true
   },
   "outputs": [],
   "source": [
    "with open('data/out/cleaned_tomo_1.txt', 'w') as f:\n",
    "    f.write(cleaned_text)"
   ]
  },
  {
   "cell_type": "code",
   "execution_count": null,
   "metadata": {
    "collapsed": true
   },
   "outputs": [],
   "source": []
  }
 ],
 "metadata": {
  "kernelspec": {
   "display_name": "Python 3",
   "language": "python",
   "name": "python3"
  },
  "language_info": {
   "codemirror_mode": {
    "name": "ipython",
    "version": 3
   },
   "file_extension": ".py",
   "mimetype": "text/x-python",
   "name": "python",
   "nbconvert_exporter": "python",
   "pygments_lexer": "ipython3",
   "version": "3.5.2"
  }
 },
 "nbformat": 4,
 "nbformat_minor": 2
}
