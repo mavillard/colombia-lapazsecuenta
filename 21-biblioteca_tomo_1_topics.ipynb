{
 "cells": [
  {
   "cell_type": "markdown",
   "metadata": {},
   "source": [
    "# Tomo 1"
   ]
  },
  {
   "cell_type": "code",
   "execution_count": 1,
   "metadata": {
    "collapsed": true
   },
   "outputs": [],
   "source": [
    "import os\n",
    "from collections import Counter, defaultdict\n",
    "from pprint import pprint\n",
    "from string import punctuation\n",
    "\n",
    "import nltk\n",
    "import numpy as np\n",
    "from gensim import corpora, models\n",
    "from nltk.corpus import stopwords\n",
    "from scipy import spatial"
   ]
  },
  {
   "cell_type": "markdown",
   "metadata": {},
   "source": [
    "## Loading data"
   ]
  },
  {
   "cell_type": "code",
   "execution_count": 2,
   "metadata": {
    "collapsed": true
   },
   "outputs": [],
   "source": [
    "def key_sort_files(x):\n",
    "    return int(x[:-4].split('-')[0])\n",
    "\n",
    "path = 'data/aux/biblioteca/text_parts/1/'\n",
    "unsorted_file_list = [filename for filename in os.listdir(path) if filename.endswith('.txt')]\n",
    "file_list = sorted(unsorted_file_list, key=key_sort_files)\n",
    "\n",
    "raw_texts = []\n",
    "for filename in file_list:\n",
    "    with open(path + filename) as f:\n",
    "        raw_texts.append(f.read())"
   ]
  },
  {
   "cell_type": "markdown",
   "metadata": {},
   "source": [
    "## Cleaning data"
   ]
  },
  {
   "cell_type": "code",
   "execution_count": 3,
   "metadata": {
    "collapsed": true
   },
   "outputs": [],
   "source": [
    "chars = []\n",
    "for text in raw_texts:\n",
    "    for c in text:\n",
    "        if not c.isalnum():\n",
    "            chars.append(c)"
   ]
  },
  {
   "cell_type": "code",
   "execution_count": 4,
   "metadata": {
    "collapsed": true
   },
   "outputs": [],
   "source": [
    "characters = set(chars)"
   ]
  },
  {
   "cell_type": "code",
   "execution_count": 5,
   "metadata": {
    "collapsed": true
   },
   "outputs": [],
   "source": [
    "with open('data/stopwords/spanish_stopwords.txt') as f:\n",
    "    sp_stopwords = list(set(map(str.strip, f.readlines())))\n",
    "\n",
    "with open('data/stopwords/my_stopwords.txt') as f:\n",
    "    my_stopwords = list(set(map(str.strip, f.readlines())))\n",
    "\n",
    "stop = stopwords.words('spanish') + sp_stopwords + my_stopwords + list(punctuation) + list(characters)"
   ]
  },
  {
   "cell_type": "code",
   "execution_count": 6,
   "metadata": {
    "collapsed": true
   },
   "outputs": [],
   "source": [
    "def clean(s):\n",
    "    r = s.lower().strip()\n",
    "    for c in characters:\n",
    "        r = r.replace(c, ' ')\n",
    "    r = r.replace('farc ep', 'farc-ep')\n",
    "    r = r.replace('confianz a', 'confianza')\n",
    "    r = r.replace('cons trucción', 'construcción')\n",
    "    rs = [w for w in nltk.word_tokenize(r) if w not in stop and len(w) > 2 and not w.isdecimal()]\n",
    "    r = ' '.join(rs)\n",
    "    return r"
   ]
  },
  {
   "cell_type": "code",
   "execution_count": 7,
   "metadata": {
    "collapsed": true
   },
   "outputs": [],
   "source": [
    "cleaned_texts = [clean(text) for text in raw_texts]"
   ]
  },
  {
   "cell_type": "code",
   "execution_count": 8,
   "metadata": {},
   "outputs": [
    {
     "data": {
      "text/plain": [
       "defaultdict(int, {' ': 37776, '-': 417})"
      ]
     },
     "execution_count": 8,
     "metadata": {},
     "output_type": "execute_result"
    }
   ],
   "source": [
    "char_counter = defaultdict(int)\n",
    "for c in characters:\n",
    "    for text in cleaned_texts:\n",
    "        if c in text:\n",
    "            char_counter[c]+=text.count(c)\n",
    "char_counter"
   ]
  },
  {
   "cell_type": "markdown",
   "metadata": {},
   "source": [
    "## Preparing data"
   ]
  },
  {
   "cell_type": "code",
   "execution_count": 9,
   "metadata": {
    "collapsed": true
   },
   "outputs": [],
   "source": [
    "documents = cleaned_texts"
   ]
  },
  {
   "cell_type": "code",
   "execution_count": 10,
   "metadata": {
    "collapsed": true
   },
   "outputs": [],
   "source": [
    "document = ' '.join(documents)"
   ]
  },
  {
   "cell_type": "code",
   "execution_count": 11,
   "metadata": {
    "collapsed": true
   },
   "outputs": [],
   "source": [
    "# Only texts that contain MORE THAN or EQUALS TO 100 words\n",
    "texts = [[word for word in document.split()] for document in documents if len(document.split()) >= 100]"
   ]
  },
  {
   "cell_type": "code",
   "execution_count": 12,
   "metadata": {},
   "outputs": [
    {
     "data": {
      "text/plain": [
       "35"
      ]
     },
     "execution_count": 12,
     "metadata": {},
     "output_type": "execute_result"
    }
   ],
   "source": [
    "len(texts)"
   ]
  },
  {
   "cell_type": "code",
   "execution_count": 13,
   "metadata": {
    "collapsed": true
   },
   "outputs": [],
   "source": [
    "dictionary = corpora.Dictionary(texts)"
   ]
  },
  {
   "cell_type": "code",
   "execution_count": 14,
   "metadata": {},
   "outputs": [
    {
     "data": {
      "text/plain": [
       "8832"
      ]
     },
     "execution_count": 14,
     "metadata": {},
     "output_type": "execute_result"
    }
   ],
   "source": [
    "len(dictionary)"
   ]
  },
  {
   "cell_type": "markdown",
   "metadata": {},
   "source": [
    "## Processing data"
   ]
  },
  {
   "cell_type": "code",
   "execution_count": 15,
   "metadata": {
    "scrolled": true
   },
   "outputs": [
    {
     "name": "stdout",
     "output_type": "stream",
     "text": [
      "Iteration: 1 / 144 - MIN_DF: 1 - MAX_DF: 0.6 - MAX_FT: 100 - N_TOPICS: 10\n",
      "Iteration: 2 / 144 - MIN_DF: 1 - MAX_DF: 0.6 - MAX_FT: 100 - N_TOPICS: 35\n",
      "Iteration: 3 / 144 - MIN_DF: 1 - MAX_DF: 0.6 - MAX_FT: 100 - N_TOPICS: 100\n",
      "Iteration: 4 / 144 - MIN_DF: 1 - MAX_DF: 0.6 - MAX_FT: 1000 - N_TOPICS: 10\n",
      "Iteration: 5 / 144 - MIN_DF: 1 - MAX_DF: 0.6 - MAX_FT: 1000 - N_TOPICS: 35\n",
      "Iteration: 6 / 144 - MIN_DF: 1 - MAX_DF: 0.6 - MAX_FT: 1000 - N_TOPICS: 100\n",
      "Iteration: 7 / 144 - MIN_DF: 1 - MAX_DF: 0.6 - MAX_FT: 8832 - N_TOPICS: 10\n",
      "Iteration: 8 / 144 - MIN_DF: 1 - MAX_DF: 0.6 - MAX_FT: 8832 - N_TOPICS: 35\n",
      "Iteration: 9 / 144 - MIN_DF: 1 - MAX_DF: 0.6 - MAX_FT: 8832 - N_TOPICS: 100\n",
      "Iteration: 10 / 144 - MIN_DF: 1 - MAX_DF: 0.7 - MAX_FT: 100 - N_TOPICS: 10\n",
      "Iteration: 11 / 144 - MIN_DF: 1 - MAX_DF: 0.7 - MAX_FT: 100 - N_TOPICS: 35\n",
      "Iteration: 12 / 144 - MIN_DF: 1 - MAX_DF: 0.7 - MAX_FT: 100 - N_TOPICS: 100\n",
      "Iteration: 13 / 144 - MIN_DF: 1 - MAX_DF: 0.7 - MAX_FT: 1000 - N_TOPICS: 10\n",
      "Iteration: 14 / 144 - MIN_DF: 1 - MAX_DF: 0.7 - MAX_FT: 1000 - N_TOPICS: 35\n",
      "Iteration: 15 / 144 - MIN_DF: 1 - MAX_DF: 0.7 - MAX_FT: 1000 - N_TOPICS: 100\n",
      "Iteration: 16 / 144 - MIN_DF: 1 - MAX_DF: 0.7 - MAX_FT: 8832 - N_TOPICS: 10\n",
      "Iteration: 17 / 144 - MIN_DF: 1 - MAX_DF: 0.7 - MAX_FT: 8832 - N_TOPICS: 35\n",
      "Iteration: 18 / 144 - MIN_DF: 1 - MAX_DF: 0.7 - MAX_FT: 8832 - N_TOPICS: 100\n",
      "Iteration: 19 / 144 - MIN_DF: 1 - MAX_DF: 0.8 - MAX_FT: 100 - N_TOPICS: 10\n",
      "Iteration: 20 / 144 - MIN_DF: 1 - MAX_DF: 0.8 - MAX_FT: 100 - N_TOPICS: 35\n",
      "Iteration: 21 / 144 - MIN_DF: 1 - MAX_DF: 0.8 - MAX_FT: 100 - N_TOPICS: 100\n",
      "Iteration: 22 / 144 - MIN_DF: 1 - MAX_DF: 0.8 - MAX_FT: 1000 - N_TOPICS: 10\n",
      "Iteration: 23 / 144 - MIN_DF: 1 - MAX_DF: 0.8 - MAX_FT: 1000 - N_TOPICS: 35\n",
      "Iteration: 24 / 144 - MIN_DF: 1 - MAX_DF: 0.8 - MAX_FT: 1000 - N_TOPICS: 100\n",
      "Iteration: 25 / 144 - MIN_DF: 1 - MAX_DF: 0.8 - MAX_FT: 8832 - N_TOPICS: 10\n",
      "Iteration: 26 / 144 - MIN_DF: 1 - MAX_DF: 0.8 - MAX_FT: 8832 - N_TOPICS: 35\n",
      "Iteration: 27 / 144 - MIN_DF: 1 - MAX_DF: 0.8 - MAX_FT: 8832 - N_TOPICS: 100\n",
      "Iteration: 28 / 144 - MIN_DF: 1 - MAX_DF: 0.9 - MAX_FT: 100 - N_TOPICS: 10\n",
      "Iteration: 29 / 144 - MIN_DF: 1 - MAX_DF: 0.9 - MAX_FT: 100 - N_TOPICS: 35\n",
      "Iteration: 30 / 144 - MIN_DF: 1 - MAX_DF: 0.9 - MAX_FT: 100 - N_TOPICS: 100\n",
      "Iteration: 31 / 144 - MIN_DF: 1 - MAX_DF: 0.9 - MAX_FT: 1000 - N_TOPICS: 10\n",
      "Iteration: 32 / 144 - MIN_DF: 1 - MAX_DF: 0.9 - MAX_FT: 1000 - N_TOPICS: 35\n",
      "Iteration: 33 / 144 - MIN_DF: 1 - MAX_DF: 0.9 - MAX_FT: 1000 - N_TOPICS: 100\n",
      "Iteration: 34 / 144 - MIN_DF: 1 - MAX_DF: 0.9 - MAX_FT: 8832 - N_TOPICS: 10\n",
      "Iteration: 35 / 144 - MIN_DF: 1 - MAX_DF: 0.9 - MAX_FT: 8832 - N_TOPICS: 35\n",
      "Iteration: 36 / 144 - MIN_DF: 1 - MAX_DF: 0.9 - MAX_FT: 8832 - N_TOPICS: 100\n",
      "Iteration: 37 / 144 - MIN_DF: 2 - MAX_DF: 0.6 - MAX_FT: 100 - N_TOPICS: 10\n",
      "Iteration: 38 / 144 - MIN_DF: 2 - MAX_DF: 0.6 - MAX_FT: 100 - N_TOPICS: 35\n",
      "Iteration: 39 / 144 - MIN_DF: 2 - MAX_DF: 0.6 - MAX_FT: 100 - N_TOPICS: 100\n",
      "Iteration: 40 / 144 - MIN_DF: 2 - MAX_DF: 0.6 - MAX_FT: 1000 - N_TOPICS: 10\n",
      "Iteration: 41 / 144 - MIN_DF: 2 - MAX_DF: 0.6 - MAX_FT: 1000 - N_TOPICS: 35\n",
      "Iteration: 42 / 144 - MIN_DF: 2 - MAX_DF: 0.6 - MAX_FT: 1000 - N_TOPICS: 100\n",
      "Iteration: 43 / 144 - MIN_DF: 2 - MAX_DF: 0.6 - MAX_FT: 8832 - N_TOPICS: 10\n",
      "Iteration: 44 / 144 - MIN_DF: 2 - MAX_DF: 0.6 - MAX_FT: 8832 - N_TOPICS: 35\n",
      "Iteration: 45 / 144 - MIN_DF: 2 - MAX_DF: 0.6 - MAX_FT: 8832 - N_TOPICS: 100\n",
      "Iteration: 46 / 144 - MIN_DF: 2 - MAX_DF: 0.7 - MAX_FT: 100 - N_TOPICS: 10\n",
      "Iteration: 47 / 144 - MIN_DF: 2 - MAX_DF: 0.7 - MAX_FT: 100 - N_TOPICS: 35\n",
      "Iteration: 48 / 144 - MIN_DF: 2 - MAX_DF: 0.7 - MAX_FT: 100 - N_TOPICS: 100\n",
      "Iteration: 49 / 144 - MIN_DF: 2 - MAX_DF: 0.7 - MAX_FT: 1000 - N_TOPICS: 10\n",
      "Iteration: 50 / 144 - MIN_DF: 2 - MAX_DF: 0.7 - MAX_FT: 1000 - N_TOPICS: 35\n",
      "Iteration: 51 / 144 - MIN_DF: 2 - MAX_DF: 0.7 - MAX_FT: 1000 - N_TOPICS: 100\n",
      "Iteration: 52 / 144 - MIN_DF: 2 - MAX_DF: 0.7 - MAX_FT: 8832 - N_TOPICS: 10\n",
      "Iteration: 53 / 144 - MIN_DF: 2 - MAX_DF: 0.7 - MAX_FT: 8832 - N_TOPICS: 35\n",
      "Iteration: 54 / 144 - MIN_DF: 2 - MAX_DF: 0.7 - MAX_FT: 8832 - N_TOPICS: 100\n",
      "Iteration: 55 / 144 - MIN_DF: 2 - MAX_DF: 0.8 - MAX_FT: 100 - N_TOPICS: 10\n",
      "Iteration: 56 / 144 - MIN_DF: 2 - MAX_DF: 0.8 - MAX_FT: 100 - N_TOPICS: 35\n",
      "Iteration: 57 / 144 - MIN_DF: 2 - MAX_DF: 0.8 - MAX_FT: 100 - N_TOPICS: 100\n",
      "Iteration: 58 / 144 - MIN_DF: 2 - MAX_DF: 0.8 - MAX_FT: 1000 - N_TOPICS: 10\n",
      "Iteration: 59 / 144 - MIN_DF: 2 - MAX_DF: 0.8 - MAX_FT: 1000 - N_TOPICS: 35\n",
      "Iteration: 60 / 144 - MIN_DF: 2 - MAX_DF: 0.8 - MAX_FT: 1000 - N_TOPICS: 100\n",
      "Iteration: 61 / 144 - MIN_DF: 2 - MAX_DF: 0.8 - MAX_FT: 8832 - N_TOPICS: 10\n",
      "Iteration: 62 / 144 - MIN_DF: 2 - MAX_DF: 0.8 - MAX_FT: 8832 - N_TOPICS: 35\n",
      "Iteration: 63 / 144 - MIN_DF: 2 - MAX_DF: 0.8 - MAX_FT: 8832 - N_TOPICS: 100\n",
      "Iteration: 64 / 144 - MIN_DF: 2 - MAX_DF: 0.9 - MAX_FT: 100 - N_TOPICS: 10\n",
      "Iteration: 65 / 144 - MIN_DF: 2 - MAX_DF: 0.9 - MAX_FT: 100 - N_TOPICS: 35\n",
      "Iteration: 66 / 144 - MIN_DF: 2 - MAX_DF: 0.9 - MAX_FT: 100 - N_TOPICS: 100\n",
      "Iteration: 67 / 144 - MIN_DF: 2 - MAX_DF: 0.9 - MAX_FT: 1000 - N_TOPICS: 10\n",
      "Iteration: 68 / 144 - MIN_DF: 2 - MAX_DF: 0.9 - MAX_FT: 1000 - N_TOPICS: 35\n",
      "Iteration: 69 / 144 - MIN_DF: 2 - MAX_DF: 0.9 - MAX_FT: 1000 - N_TOPICS: 100\n",
      "Iteration: 70 / 144 - MIN_DF: 2 - MAX_DF: 0.9 - MAX_FT: 8832 - N_TOPICS: 10\n",
      "Iteration: 71 / 144 - MIN_DF: 2 - MAX_DF: 0.9 - MAX_FT: 8832 - N_TOPICS: 35\n",
      "Iteration: 72 / 144 - MIN_DF: 2 - MAX_DF: 0.9 - MAX_FT: 8832 - N_TOPICS: 100\n",
      "Iteration: 73 / 144 - MIN_DF: 4 - MAX_DF: 0.6 - MAX_FT: 100 - N_TOPICS: 10\n",
      "Iteration: 74 / 144 - MIN_DF: 4 - MAX_DF: 0.6 - MAX_FT: 100 - N_TOPICS: 35\n",
      "Iteration: 75 / 144 - MIN_DF: 4 - MAX_DF: 0.6 - MAX_FT: 100 - N_TOPICS: 100\n",
      "Iteration: 76 / 144 - MIN_DF: 4 - MAX_DF: 0.6 - MAX_FT: 1000 - N_TOPICS: 10\n",
      "Iteration: 77 / 144 - MIN_DF: 4 - MAX_DF: 0.6 - MAX_FT: 1000 - N_TOPICS: 35\n",
      "Iteration: 78 / 144 - MIN_DF: 4 - MAX_DF: 0.6 - MAX_FT: 1000 - N_TOPICS: 100\n",
      "Iteration: 79 / 144 - MIN_DF: 4 - MAX_DF: 0.6 - MAX_FT: 8832 - N_TOPICS: 10\n",
      "Iteration: 80 / 144 - MIN_DF: 4 - MAX_DF: 0.6 - MAX_FT: 8832 - N_TOPICS: 35\n",
      "Iteration: 81 / 144 - MIN_DF: 4 - MAX_DF: 0.6 - MAX_FT: 8832 - N_TOPICS: 100\n",
      "Iteration: 82 / 144 - MIN_DF: 4 - MAX_DF: 0.7 - MAX_FT: 100 - N_TOPICS: 10\n",
      "Iteration: 83 / 144 - MIN_DF: 4 - MAX_DF: 0.7 - MAX_FT: 100 - N_TOPICS: 35\n",
      "Iteration: 84 / 144 - MIN_DF: 4 - MAX_DF: 0.7 - MAX_FT: 100 - N_TOPICS: 100\n",
      "Iteration: 85 / 144 - MIN_DF: 4 - MAX_DF: 0.7 - MAX_FT: 1000 - N_TOPICS: 10\n",
      "Iteration: 86 / 144 - MIN_DF: 4 - MAX_DF: 0.7 - MAX_FT: 1000 - N_TOPICS: 35\n",
      "Iteration: 87 / 144 - MIN_DF: 4 - MAX_DF: 0.7 - MAX_FT: 1000 - N_TOPICS: 100\n",
      "Iteration: 88 / 144 - MIN_DF: 4 - MAX_DF: 0.7 - MAX_FT: 8832 - N_TOPICS: 10\n",
      "Iteration: 89 / 144 - MIN_DF: 4 - MAX_DF: 0.7 - MAX_FT: 8832 - N_TOPICS: 35\n",
      "Iteration: 90 / 144 - MIN_DF: 4 - MAX_DF: 0.7 - MAX_FT: 8832 - N_TOPICS: 100\n",
      "Iteration: 91 / 144 - MIN_DF: 4 - MAX_DF: 0.8 - MAX_FT: 100 - N_TOPICS: 10\n",
      "Iteration: 92 / 144 - MIN_DF: 4 - MAX_DF: 0.8 - MAX_FT: 100 - N_TOPICS: 35\n",
      "Iteration: 93 / 144 - MIN_DF: 4 - MAX_DF: 0.8 - MAX_FT: 100 - N_TOPICS: 100\n",
      "Iteration: 94 / 144 - MIN_DF: 4 - MAX_DF: 0.8 - MAX_FT: 1000 - N_TOPICS: 10\n",
      "Iteration: 95 / 144 - MIN_DF: 4 - MAX_DF: 0.8 - MAX_FT: 1000 - N_TOPICS: 35\n",
      "Iteration: 96 / 144 - MIN_DF: 4 - MAX_DF: 0.8 - MAX_FT: 1000 - N_TOPICS: 100\n",
      "Iteration: 97 / 144 - MIN_DF: 4 - MAX_DF: 0.8 - MAX_FT: 8832 - N_TOPICS: 10\n",
      "Iteration: 98 / 144 - MIN_DF: 4 - MAX_DF: 0.8 - MAX_FT: 8832 - N_TOPICS: 35\n",
      "Iteration: 99 / 144 - MIN_DF: 4 - MAX_DF: 0.8 - MAX_FT: 8832 - N_TOPICS: 100\n",
      "Iteration: 100 / 144 - MIN_DF: 4 - MAX_DF: 0.9 - MAX_FT: 100 - N_TOPICS: 10\n",
      "Iteration: 101 / 144 - MIN_DF: 4 - MAX_DF: 0.9 - MAX_FT: 100 - N_TOPICS: 35\n",
      "Iteration: 102 / 144 - MIN_DF: 4 - MAX_DF: 0.9 - MAX_FT: 100 - N_TOPICS: 100\n",
      "Iteration: 103 / 144 - MIN_DF: 4 - MAX_DF: 0.9 - MAX_FT: 1000 - N_TOPICS: 10\n",
      "Iteration: 104 / 144 - MIN_DF: 4 - MAX_DF: 0.9 - MAX_FT: 1000 - N_TOPICS: 35\n",
      "Iteration: 105 / 144 - MIN_DF: 4 - MAX_DF: 0.9 - MAX_FT: 1000 - N_TOPICS: 100\n",
      "Iteration: 106 / 144 - MIN_DF: 4 - MAX_DF: 0.9 - MAX_FT: 8832 - N_TOPICS: 10\n",
      "Iteration: 107 / 144 - MIN_DF: 4 - MAX_DF: 0.9 - MAX_FT: 8832 - N_TOPICS: 35\n",
      "Iteration: 108 / 144 - MIN_DF: 4 - MAX_DF: 0.9 - MAX_FT: 8832 - N_TOPICS: 100\n"
     ]
    },
    {
     "name": "stdout",
     "output_type": "stream",
     "text": [
      "Iteration: 109 / 144 - MIN_DF: 7 - MAX_DF: 0.6 - MAX_FT: 100 - N_TOPICS: 10\n",
      "Iteration: 110 / 144 - MIN_DF: 7 - MAX_DF: 0.6 - MAX_FT: 100 - N_TOPICS: 35\n",
      "Iteration: 111 / 144 - MIN_DF: 7 - MAX_DF: 0.6 - MAX_FT: 100 - N_TOPICS: 100\n",
      "Iteration: 112 / 144 - MIN_DF: 7 - MAX_DF: 0.6 - MAX_FT: 1000 - N_TOPICS: 10\n",
      "Iteration: 113 / 144 - MIN_DF: 7 - MAX_DF: 0.6 - MAX_FT: 1000 - N_TOPICS: 35\n",
      "Iteration: 114 / 144 - MIN_DF: 7 - MAX_DF: 0.6 - MAX_FT: 1000 - N_TOPICS: 100\n",
      "Iteration: 115 / 144 - MIN_DF: 7 - MAX_DF: 0.6 - MAX_FT: 8832 - N_TOPICS: 10\n",
      "Iteration: 116 / 144 - MIN_DF: 7 - MAX_DF: 0.6 - MAX_FT: 8832 - N_TOPICS: 35\n",
      "Iteration: 117 / 144 - MIN_DF: 7 - MAX_DF: 0.6 - MAX_FT: 8832 - N_TOPICS: 100\n",
      "Iteration: 118 / 144 - MIN_DF: 7 - MAX_DF: 0.7 - MAX_FT: 100 - N_TOPICS: 10\n",
      "Iteration: 119 / 144 - MIN_DF: 7 - MAX_DF: 0.7 - MAX_FT: 100 - N_TOPICS: 35\n",
      "Iteration: 120 / 144 - MIN_DF: 7 - MAX_DF: 0.7 - MAX_FT: 100 - N_TOPICS: 100\n",
      "Iteration: 121 / 144 - MIN_DF: 7 - MAX_DF: 0.7 - MAX_FT: 1000 - N_TOPICS: 10\n",
      "Iteration: 122 / 144 - MIN_DF: 7 - MAX_DF: 0.7 - MAX_FT: 1000 - N_TOPICS: 35\n",
      "Iteration: 123 / 144 - MIN_DF: 7 - MAX_DF: 0.7 - MAX_FT: 1000 - N_TOPICS: 100\n",
      "Iteration: 124 / 144 - MIN_DF: 7 - MAX_DF: 0.7 - MAX_FT: 8832 - N_TOPICS: 10\n",
      "Iteration: 125 / 144 - MIN_DF: 7 - MAX_DF: 0.7 - MAX_FT: 8832 - N_TOPICS: 35\n",
      "Iteration: 126 / 144 - MIN_DF: 7 - MAX_DF: 0.7 - MAX_FT: 8832 - N_TOPICS: 100\n",
      "Iteration: 127 / 144 - MIN_DF: 7 - MAX_DF: 0.8 - MAX_FT: 100 - N_TOPICS: 10\n",
      "Iteration: 128 / 144 - MIN_DF: 7 - MAX_DF: 0.8 - MAX_FT: 100 - N_TOPICS: 35\n",
      "Iteration: 129 / 144 - MIN_DF: 7 - MAX_DF: 0.8 - MAX_FT: 100 - N_TOPICS: 100\n",
      "Iteration: 130 / 144 - MIN_DF: 7 - MAX_DF: 0.8 - MAX_FT: 1000 - N_TOPICS: 10\n",
      "Iteration: 131 / 144 - MIN_DF: 7 - MAX_DF: 0.8 - MAX_FT: 1000 - N_TOPICS: 35\n",
      "Iteration: 132 / 144 - MIN_DF: 7 - MAX_DF: 0.8 - MAX_FT: 1000 - N_TOPICS: 100\n",
      "Iteration: 133 / 144 - MIN_DF: 7 - MAX_DF: 0.8 - MAX_FT: 8832 - N_TOPICS: 10\n",
      "Iteration: 134 / 144 - MIN_DF: 7 - MAX_DF: 0.8 - MAX_FT: 8832 - N_TOPICS: 35\n",
      "Iteration: 135 / 144 - MIN_DF: 7 - MAX_DF: 0.8 - MAX_FT: 8832 - N_TOPICS: 100\n",
      "Iteration: 136 / 144 - MIN_DF: 7 - MAX_DF: 0.9 - MAX_FT: 100 - N_TOPICS: 10\n",
      "Iteration: 137 / 144 - MIN_DF: 7 - MAX_DF: 0.9 - MAX_FT: 100 - N_TOPICS: 35\n",
      "Iteration: 138 / 144 - MIN_DF: 7 - MAX_DF: 0.9 - MAX_FT: 100 - N_TOPICS: 100\n",
      "Iteration: 139 / 144 - MIN_DF: 7 - MAX_DF: 0.9 - MAX_FT: 1000 - N_TOPICS: 10\n",
      "Iteration: 140 / 144 - MIN_DF: 7 - MAX_DF: 0.9 - MAX_FT: 1000 - N_TOPICS: 35\n",
      "Iteration: 141 / 144 - MIN_DF: 7 - MAX_DF: 0.9 - MAX_FT: 1000 - N_TOPICS: 100\n",
      "Iteration: 142 / 144 - MIN_DF: 7 - MAX_DF: 0.9 - MAX_FT: 8832 - N_TOPICS: 10\n",
      "Iteration: 143 / 144 - MIN_DF: 7 - MAX_DF: 0.9 - MAX_FT: 8832 - N_TOPICS: 35\n",
      "Iteration: 144 / 144 - MIN_DF: 7 - MAX_DF: 0.9 - MAX_FT: 8832 - N_TOPICS: 100\n",
      "CPU times: user 2min 26s, sys: 1min 37s, total: 4min 4s\n",
      "Wall time: 1min 51s\n"
     ]
    }
   ],
   "source": [
    "%%time\n",
    "\n",
    "# lsi_topics_lists = []\n",
    "lda_topics_lists = []\n",
    "hdp_topics_lists = []\n",
    "\n",
    "MIN_DFs = [1, 2, 4, 7]\n",
    "MAX_DFs = [0.6, 0.7, 0.8, 0.9]\n",
    "MAX_FTs = [100, 1000, len(dictionary)]\n",
    "N_TOPICSs = [10, len(texts), 100]\n",
    "\n",
    "total_iterations = len(MIN_DFs) * len(MAX_DFs) * len(MAX_FTs) * len(N_TOPICSs)\n",
    "iteration = 1\n",
    "for MIN_DF in MIN_DFs:\n",
    "    for MAX_DF in MAX_DFs:\n",
    "        for MAX_FT in MAX_FTs:\n",
    "            dictionary = corpora.Dictionary(texts)\n",
    "            dictionary.filter_extremes(no_below=MIN_DF, no_above=MAX_DF, keep_n=MAX_FT)\n",
    "            corpus = [dictionary.doc2bow(text) for text in texts]\n",
    "            tfidf = models.TfidfModel(corpus)\n",
    "            corpus_tfidf = tfidf[corpus]\n",
    "            \n",
    "            for N_TOPICS in N_TOPICSs:\n",
    "                print('Iteration: {} / {}'.format(iteration, total_iterations), \\\n",
    "                      '- MIN_DF:', MIN_DF, '- MAX_DF:', MAX_DF, '- MAX_FT:', MAX_FT, '- N_TOPICS:', N_TOPICS)\n",
    "                iteration += 1\n",
    "                \n",
    "                # LSI\n",
    "#                 lsi = models.LsiModel(corpus_tfidf, id2word=dictionary, num_topics=N_TOPICS)\n",
    "#                 corpus_lsi = lsi[corpus_tfidf]\n",
    "#                 ts = lsi.show_topics(lsi.num_topics, formatted=False)\n",
    "#                 result = (ts, (MIN_DF, MAX_DF, MAX_FT, N_TOPICS), corpus_lsi)\n",
    "#                 lsi_topics_lists.append(result)\n",
    "            \n",
    "                # LDA\n",
    "                lda = models.LdaModel(corpus, id2word=dictionary, num_topics=N_TOPICS, random_state=0)\n",
    "                corpus_lda = lda[corpus]\n",
    "                ts = sorted(lda.show_topics(lda.num_topics, formatted=False))\n",
    "                result = (ts, (MIN_DF, MAX_DF, MAX_FT, N_TOPICS), corpus_lda)\n",
    "                lda_topics_lists.append(result)\n",
    "            \n",
    "                # HDP\n",
    "                hdp = models.HdpModel(corpus, id2word=dictionary, random_state=0)\n",
    "                corpus_hdp = hdp[corpus]\n",
    "                ts = hdp.show_topics(len(hdp.show_topics(num_topics=-1)), num_words=10, formatted=False)\n",
    "                result = (ts, (MIN_DF, MAX_DF, MAX_FT, N_TOPICS), corpus_hdp)\n",
    "                hdp_topics_lists.append(result)"
   ]
  },
  {
   "cell_type": "code",
   "execution_count": 16,
   "metadata": {
    "collapsed": true
   },
   "outputs": [],
   "source": [
    "def extract_vocabulary(ts):\n",
    "    vocab = set()\n",
    "    for t in ts:\n",
    "        words = [word for word, weight in t]\n",
    "        vocab = vocab.union(words)\n",
    "    vocab = sorted(vocab)\n",
    "    r = {w: i for i, w in enumerate(vocab)}\n",
    "    return r\n",
    "\n",
    "def get_weights(t):\n",
    "    return dict(t)\n",
    "\n",
    "def create_vector(vocab, weights):\n",
    "    r = [0] * len(vocab)\n",
    "    for wo in weights:\n",
    "        r[vocab[wo]] = weights[wo]\n",
    "    return r\n",
    "\n",
    "def vectorize(ts):\n",
    "    r = []\n",
    "    ts = [t for i, j, t in ts]\n",
    "    vocab = extract_vocabulary(ts)\n",
    "    for t in ts:\n",
    "        weights = get_weights(t)\n",
    "        vector = create_vector(vocab, weights)\n",
    "        r.append(vector)\n",
    "    return r"
   ]
  },
  {
   "cell_type": "code",
   "execution_count": 17,
   "metadata": {
    "collapsed": true
   },
   "outputs": [],
   "source": [
    "def two_topics_distance(t1, t2):\n",
    "    r = spatial.distance.cosine(t1, t2)\n",
    "    return r\n",
    "\n",
    "def multiple_topics_distance(ts):\n",
    "    ds = []\n",
    "    for i, t1 in enumerate(ts[:-1]):\n",
    "        for j in range(i + 1, len(ts)):\n",
    "            t2 = ts[j]\n",
    "            d = two_topics_distance(t1, t2)\n",
    "            ds.append(d)\n",
    "    return np.mean(ds)\n",
    "\n",
    "def top_n_used(ts_list, n):\n",
    "    total_weights = defaultdict(float)\n",
    "    corpus = ts_list[2]\n",
    "    for doc in corpus:\n",
    "        for topic, weight in doc:\n",
    "            total_weights[topic] += abs(weight)\n",
    "    total_weights = dict(total_weights)\n",
    "    counter = Counter(total_weights)\n",
    "    topics_dct = dict(ts_list[0])\n",
    "    r = ([(weight, topic_id, topics_dct[topic_id])\n",
    "             for topic_id, weight in counter.most_common(n)], ts_list[1], corpus)\n",
    "    return r\n",
    "\n",
    "def best_topics(ts_lists, n=10):\n",
    "    r = []\n",
    "    for ts_list in ts_lists:\n",
    "        top_n_ts_list = top_n_used(ts_list, n)\n",
    "        ts_vector = vectorize(top_n_ts_list[0])\n",
    "        d = multiple_topics_distance(ts_vector)\n",
    "        r.append((d, top_n_ts_list))\n",
    "    r = sorted(r, reverse=True)\n",
    "    return r[0]"
   ]
  },
  {
   "cell_type": "code",
   "execution_count": 18,
   "metadata": {},
   "outputs": [
    {
     "name": "stdout",
     "output_type": "stream",
     "text": [
      "LDA\n",
      "HDP\n",
      "CPU times: user 51.6 s, sys: 53.3 s, total: 1min 44s\n",
      "Wall time: 27.1 s\n"
     ]
    }
   ],
   "source": [
    "%%time\n",
    "\n",
    "# print('LSI')\n",
    "# lsi_best_topics_list = best_topics(lsi_topics_lists)\n",
    "print('LDA')\n",
    "lda_best_topics_list = best_topics(lda_topics_lists)\n",
    "print('HDP')\n",
    "hdp_best_topics_list = best_topics(hdp_topics_lists)"
   ]
  },
  {
   "cell_type": "markdown",
   "metadata": {},
   "source": [
    "## Results"
   ]
  },
  {
   "cell_type": "markdown",
   "metadata": {},
   "source": [
    "### LSI"
   ]
  },
  {
   "cell_type": "code",
   "execution_count": 19,
   "metadata": {
    "collapsed": true
   },
   "outputs": [],
   "source": [
    "# lsi_best_topics_list[1][0]"
   ]
  },
  {
   "cell_type": "markdown",
   "metadata": {},
   "source": [
    "### LDA"
   ]
  },
  {
   "cell_type": "code",
   "execution_count": 20,
   "metadata": {
    "scrolled": false
   },
   "outputs": [
    {
     "data": {
      "text/plain": [
       "[(4.3381385281682014,\n",
       "  83,\n",
       "  [('desarrollo', 0.027633466),\n",
       "   ('programas', 0.02383052),\n",
       "   ('participación', 0.023246802),\n",
       "   ('mecanismos', 0.014969201),\n",
       "   ('marco', 0.014152347),\n",
       "   ('social', 0.011275987),\n",
       "   ('seguridad', 0.011121664),\n",
       "   ('acceso', 0.011039907),\n",
       "   ('final', 0.01100332),\n",
       "   ('mesa', 0.010811296)]),\n",
       " (4.2683109408244491,\n",
       "  70,\n",
       "  [('general', 0.016605621),\n",
       "   ('pueblo', 0.016528632),\n",
       "   ('delegados', 0.01275638),\n",
       "   ('comandante', 0.012437952),\n",
       "   ('noruega', 0.011685428),\n",
       "   ('países', 0.0096396264),\n",
       "   ('gran', 0.009430116),\n",
       "   ('alfonso', 0.0090181297),\n",
       "   ('hoy', 0.0083599566),\n",
       "   ('delegaciones', 0.0079832729)]),\n",
       " (2.1563190743327141,\n",
       "  4,\n",
       "  [('fase', 0.018218026),\n",
       "   ('exploratorio', 0.013995622),\n",
       "   ('armado', 0.013386267),\n",
       "   ('primera', 0.012853476),\n",
       "   ('construcción', 0.012845364),\n",
       "   ('farc', 0.012746553),\n",
       "   ('noruega', 0.012294156),\n",
       "   ('jaramillo', 0.010568764),\n",
       "   ('central', 0.010268003),\n",
       "   ('agenda', 0.0093912771)]),\n",
       " (2.1322376821190119,\n",
       "  51,\n",
       "  [('presidencia', 0.015707055),\n",
       "   ('negociación', 0.015665058),\n",
       "   ('alto', 0.014994655),\n",
       "   ('fecha', 0.014687978),\n",
       "   ('farc', 0.013342712),\n",
       "   ('febrero', 0.01263084),\n",
       "   ('sergio', 0.011783802),\n",
       "   ('jaramillo', 0.011003745),\n",
       "   ('carta', 0.010945741),\n",
       "   ('comisionado', 0.010932556)]),\n",
       " (2.0270676556974649,\n",
       "  66,\n",
       "  [('mesa', 0.023937559),\n",
       "   ('delegados', 0.017154101),\n",
       "   ('diálogo', 0.011626097),\n",
       "   ('exploratorio', 0.0090525607),\n",
       "   ('años', 0.0085722869),\n",
       "   ('seguridad', 0.0084181996),\n",
       "   ('ahora', 0.0083129182),\n",
       "   ('delegación', 0.0080744922),\n",
       "   ('partes', 0.0080087194),\n",
       "   ('venezuela', 0.0079142852)]),\n",
       " (2.0152850262820721,\n",
       "  98,\n",
       "  [('delegados', 0.048989102),\n",
       "   ('venezuela', 0.040939834),\n",
       "   ('noruega', 0.024884773),\n",
       "   ('exploratorio', 0.020719126),\n",
       "   ('partes', 0.019899432),\n",
       "   ('traslado', 0.018966679),\n",
       "   ('técnico', 0.01594294),\n",
       "   ('equipo', 0.015894301),\n",
       "   ('gobiernos', 0.015888494),\n",
       "   ('miembro', 0.012575647)]),\n",
       " (1.5124473916366696,\n",
       "  97,\n",
       "  [('farc', 0.064766139),\n",
       "   ('zona', 0.031707231),\n",
       "   ('carlos', 0.019655375),\n",
       "   ('señor', 0.016870743),\n",
       "   ('importantes', 0.016029168),\n",
       "   ('comisionado', 0.015857778),\n",
       "   ('actores', 0.015752982),\n",
       "   ('uribe', 0.014157902),\n",
       "   ('alto', 0.014085432),\n",
       "   ('octubre', 0.013246618)]),\n",
       " (1.5088760256767273,\n",
       "  79,\n",
       "  [('farc', 0.025504394),\n",
       "   ('carta', 0.019007709),\n",
       "   ('pablo', 0.01482869),\n",
       "   ('alfonso', 0.013880122),\n",
       "   ('cano', 0.012062598),\n",
       "   ('comisionado', 0.010107708),\n",
       "   ('central', 0.0097578019),\n",
       "   ('catatumbo', 0.0096540535),\n",
       "   ('frank', 0.0083477721),\n",
       "   ('propuesta', 0.0082419496)]),\n",
       " (1.375457176938653,\n",
       "  73,\n",
       "  [('paso', 0.025195582),\n",
       "   ('equipo', 0.018504076),\n",
       "   ('años', 0.015337612),\n",
       "   ('importante', 0.015234084),\n",
       "   ('sergio', 0.015190391),\n",
       "   ('buena', 0.013177347),\n",
       "   ('trabajo', 0.01249249),\n",
       "   ('forma', 0.011895403),\n",
       "   ('jaramillo', 0.010532906),\n",
       "   ('momento', 0.0092948554)]),\n",
       " (1.3329533226788044,\n",
       "  32,\n",
       "  [('víctimas', 0.022638867),\n",
       "   ('negociación', 0.016818045),\n",
       "   ('farc', 0.012054631),\n",
       "   ('agenda', 0.010697438),\n",
       "   ('años', 0.0095857671),\n",
       "   ('participación', 0.0087837633),\n",
       "   ('desarrollo', 0.0086936848),\n",
       "   ('sistema', 0.008520864),\n",
       "   ('justicia', 0.0083606513),\n",
       "   ('guerra', 0.008341088)])]"
      ]
     },
     "execution_count": 20,
     "metadata": {},
     "output_type": "execute_result"
    }
   ],
   "source": [
    "lda_best_topics_list[1][0]"
   ]
  },
  {
   "cell_type": "markdown",
   "metadata": {},
   "source": [
    "### HDP"
   ]
  },
  {
   "cell_type": "code",
   "execution_count": 21,
   "metadata": {
    "scrolled": false
   },
   "outputs": [
    {
     "data": {
      "text/plain": [
       "[(4.3575165018183846,\n",
       "  0,\n",
       "  [('farc', 0.017285928729821501),\n",
       "   ('zona', 0.012105957712071827),\n",
       "   ('comandante', 0.010182236162040722),\n",
       "   ('agosto', 0.0092892625551595776),\n",
       "   ('carlos', 0.0078444343485975614),\n",
       "   ('octubre', 0.0071846183582486593),\n",
       "   ('actores', 0.0069586879677977576),\n",
       "   ('comisionado', 0.0068788388514080638),\n",
       "   ('uribe', 0.0068457847122282657),\n",
       "   ('alto', 0.0065428114535190729)]),\n",
       " (3.5503112301224151,\n",
       "  1,\n",
       "  [('víctimas', 0.01744621576671233),\n",
       "   ('ley', 0.0098052553944463841),\n",
       "   ('equipo', 0.0081665005506606249),\n",
       "   ('hoy', 0.0079743284279213938),\n",
       "   ('exploratorio', 0.0079562189760533902),\n",
       "   ('forma', 0.0075921186270485799),\n",
       "   ('colombianos', 0.0070883252939349141),\n",
       "   ('negociadores', 0.0068716800154393362),\n",
       "   ('riesgos', 0.0064574055691329147),\n",
       "   ('reparación', 0.0063631419841395868)]),\n",
       " (2.5675614553558734,\n",
       "  7,\n",
       "  [('carta', 0.010820016269937463),\n",
       "   ('farc', 0.010749974341782965),\n",
       "   ('reconciliación', 0.009430930825134385),\n",
       "   ('central', 0.0092469406786828794),\n",
       "   ('lucha', 0.0081550406522785893),\n",
       "   ('estrategia', 0.0080617100304470925),\n",
       "   ('armado', 0.0070528823451394187),\n",
       "   ('ver', 0.0065895180977790478),\n",
       "   ('social', 0.0065775042850946984),\n",
       "   ('colombiano', 0.0062665818524703246)]),\n",
       " (2.4287904954048694,\n",
       "  2,\n",
       "  [('agenda', 0.013838721618907064),\n",
       "   ('desarrollo', 0.0107347255882887),\n",
       "   ('objetivo', 0.010422252066983776),\n",
       "   ('marco', 0.0078909907530168681),\n",
       "   ('prueba', 0.0078135768679316736),\n",
       "   ('participación', 0.0074896550363147997),\n",
       "   ('social', 0.0073924005865312233),\n",
       "   ('temas', 0.007342674508996512),\n",
       "   ('sociales', 0.0065544550708397436),\n",
       "   ('programas', 0.006390420220922355)]),\n",
       " (2.0795116467819401,\n",
       "  14,\n",
       "  [('delegados', 0.019189749759202571),\n",
       "   ('alcanzar', 0.013479322960182566),\n",
       "   ('partes', 0.011208306784000281),\n",
       "   ('económico', 0.01066168582400551),\n",
       "   ('compromiso', 0.010652312938434218),\n",
       "   ('venezuela', 0.010446823155657505),\n",
       "   ('social', 0.0099727329049126515),\n",
       "   ('podrá', 0.008221708481176036),\n",
       "   ('traslado', 0.0080949908205065688),\n",
       "   ('noruega', 0.0078423864275404473)]),\n",
       " (1.6111147214095856,\n",
       "  19,\n",
       "  [('social', 0.0098931966651335211),\n",
       "   ('jaime', 0.0092273179470038595),\n",
       "   ('buscar', 0.008216675153778677),\n",
       "   ('desmovilización', 0.007784374050275801),\n",
       "   ('seguir', 0.0071681769779814979),\n",
       "   ('toma', 0.007052538400075122),\n",
       "   ('pueblo', 0.006605207703944827),\n",
       "   ('comandante', 0.0064180692403908385),\n",
       "   ('importantes', 0.0061695148583163365),\n",
       "   ('grupos', 0.0060212795506132564)]),\n",
       " (1.5953133087519125,\n",
       "  6,\n",
       "  [('mesa', 0.015344948453589684),\n",
       "   ('importancia', 0.0087879028888835243),\n",
       "   ('farc', 0.0079886618943124585),\n",
       "   ('delegados', 0.0079566610084698987),\n",
       "   ('calarcá', 0.0077958234641853936),\n",
       "   ('casa', 0.0076332220669197625),\n",
       "   ('exploratoria', 0.0075770986492867346),\n",
       "   ('meses', 0.0073363736828139254),\n",
       "   ('octubre', 0.0071827659303368855),\n",
       "   ('ahora', 0.0071820280667358547)]),\n",
       " (1.4356599733170741,\n",
       "  15,\n",
       "  [('prueba', 0.0086392657201981599),\n",
       "   ('acercamientos', 0.0085229147614574573),\n",
       "   ('ministro', 0.0084657273624414147),\n",
       "   ('duradera', 0.0083057102796220902),\n",
       "   ('relaciones', 0.0082453166042562274),\n",
       "   ('acordado', 0.0078526836527413914),\n",
       "   ('catatumbo', 0.0078049020688721648),\n",
       "   ('conjunto', 0.0077028355519251036),\n",
       "   ('pablo', 0.0076543207830396861),\n",
       "   ('nadie', 0.0072406528787690248)]),\n",
       " (1.4006207777394424,\n",
       "  20,\n",
       "  [('seguridad', 0.012405370491831531),\n",
       "   ('errores', 0.011911953267533552),\n",
       "   ('diferentes', 0.010496733598382321),\n",
       "   ('técnica', 0.0088695575355167405),\n",
       "   ('igualmente', 0.0078720301314147544),\n",
       "   ('ayudar', 0.007309124326527445),\n",
       "   ('rural', 0.0072980817941037139),\n",
       "   ('discusión', 0.0071454076786626256),\n",
       "   ('parece', 0.0068855003811473057),\n",
       "   ('público', 0.0068169587749484983)]),\n",
       " (1.3128837696308104,\n",
       "  3,\n",
       "  [('negociación', 0.016906466745404945),\n",
       "   ('farc', 0.014096096097153437),\n",
       "   ('víctimas', 0.010158987451861124),\n",
       "   ('participación', 0.0090806547100465637),\n",
       "   ('hecho', 0.0075183979544286555),\n",
       "   ('acosta', 0.0068266025466314773),\n",
       "   ('sistema', 0.0063565274573941944),\n",
       "   ('rural', 0.0060873089415517051),\n",
       "   ('paso', 0.0058272094174574227),\n",
       "   ('toma', 0.0057508269206431178)])]"
      ]
     },
     "execution_count": 21,
     "metadata": {},
     "output_type": "execute_result"
    }
   ],
   "source": [
    "hdp_best_topics_list[1][0]"
   ]
  },
  {
   "cell_type": "code",
   "execution_count": null,
   "metadata": {
    "collapsed": true
   },
   "outputs": [],
   "source": []
  }
 ],
 "metadata": {
  "kernelspec": {
   "display_name": "Python 3",
   "language": "python",
   "name": "python3"
  },
  "language_info": {
   "codemirror_mode": {
    "name": "ipython",
    "version": 3
   },
   "file_extension": ".py",
   "mimetype": "text/x-python",
   "name": "python",
   "nbconvert_exporter": "python",
   "pygments_lexer": "ipython3",
   "version": "3.5.2"
  }
 },
 "nbformat": 4,
 "nbformat_minor": 2
}
