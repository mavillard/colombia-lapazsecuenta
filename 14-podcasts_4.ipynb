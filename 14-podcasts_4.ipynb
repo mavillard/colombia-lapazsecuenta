{
 "cells": [
  {
   "cell_type": "markdown",
   "metadata": {},
   "source": [
    "# Podcast 4"
   ]
  },
  {
   "cell_type": "code",
   "execution_count": 1,
   "metadata": {},
   "outputs": [],
   "source": [
    "from collections import Counter\n",
    "from string import punctuation\n",
    "\n",
    "import nltk\n",
    "from nltk.corpus import stopwords"
   ]
  },
  {
   "cell_type": "markdown",
   "metadata": {},
   "source": [
    "## Loading data"
   ]
  },
  {
   "cell_type": "code",
   "execution_count": 2,
   "metadata": {},
   "outputs": [],
   "source": [
    "with open('data/aux/podcasts/transcriptions/4.txt') as f:\n",
    "    text = f.read()"
   ]
  },
  {
   "cell_type": "markdown",
   "metadata": {},
   "source": [
    "## Cleaning data"
   ]
  },
  {
   "cell_type": "code",
   "execution_count": 3,
   "metadata": {},
   "outputs": [],
   "source": [
    "chars = []\n",
    "for c in text:\n",
    "    if not c.isalnum():\n",
    "        chars.append(c)"
   ]
  },
  {
   "cell_type": "code",
   "execution_count": 4,
   "metadata": {},
   "outputs": [],
   "source": [
    "characters = set(chars)"
   ]
  },
  {
   "cell_type": "code",
   "execution_count": 5,
   "metadata": {},
   "outputs": [],
   "source": [
    "with open('data/stopwords/spanish_stopwords.txt') as f:\n",
    "    sp_stopwords = list(set(map(str.strip, f.readlines())))\n",
    "\n",
    "with open('data/stopwords/my_stopwords.txt') as f:\n",
    "    my_stopwords = list(set(map(str.strip, f.readlines())))\n",
    "\n",
    "stop = stopwords.words('spanish') + sp_stopwords + my_stopwords + list(punctuation) + list(characters)"
   ]
  },
  {
   "cell_type": "code",
   "execution_count": 6,
   "metadata": {},
   "outputs": [],
   "source": [
    "def clean1(s):\n",
    "    r = s.lower().strip()\n",
    "    rs = [w for w in nltk.word_tokenize(r) if w not in stop and len(w) > 2]\n",
    "    r = ' '.join(rs)\n",
    "    return r"
   ]
  },
  {
   "cell_type": "code",
   "execution_count": 7,
   "metadata": {},
   "outputs": [],
   "source": [
    "cleaned_text = clean1(text)"
   ]
  },
  {
   "cell_type": "code",
   "execution_count": 8,
   "metadata": {},
   "outputs": [
    {
     "name": "stdout",
     "output_type": "stream",
     "text": [
      ". 2\n",
      "  1853\n"
     ]
    }
   ],
   "source": [
    "for c in characters:\n",
    "    if c in cleaned_text:\n",
    "        print(c, cleaned_text.count(c))"
   ]
  },
  {
   "cell_type": "code",
   "execution_count": 9,
   "metadata": {},
   "outputs": [],
   "source": [
    "def clean2(s):\n",
    "    r = s\n",
    "    r = r.replace('¿', '')\n",
    "    r = r.replace('‑', '-')\n",
    "    r = r.replace('¡', '')\n",
    "    r = r.replace('—', '')\n",
    "    r = r.replace('-', '-')\n",
    "    return r"
   ]
  },
  {
   "cell_type": "code",
   "execution_count": 10,
   "metadata": {},
   "outputs": [],
   "source": [
    "cleaned_text = clean2(cleaned_text)"
   ]
  },
  {
   "cell_type": "markdown",
   "metadata": {},
   "source": [
    "## Processing data"
   ]
  },
  {
   "cell_type": "code",
   "execution_count": 11,
   "metadata": {},
   "outputs": [],
   "source": [
    "counter = Counter(cleaned_text.split())"
   ]
  },
  {
   "cell_type": "code",
   "execution_count": 12,
   "metadata": {},
   "outputs": [
    {
     "data": {
      "text/plain": [
       "[('paz', 26),\n",
       " ('colombia', 19),\n",
       " ('violencia', 19),\n",
       " ('personas', 16),\n",
       " ('momento', 16),\n",
       " ('siempre', 15),\n",
       " ('niños', 14),\n",
       " ('gente', 14),\n",
       " ('historia', 13),\n",
       " ('puerta', 13),\n",
       " ('miedo', 12),\n",
       " ('años', 12),\n",
       " ('niñas', 11),\n",
       " ('bueno', 11),\n",
       " ('medios', 11),\n",
       " ('vida', 10),\n",
       " ('rey', 10),\n",
       " ('mundo', 10),\n",
       " ('mujeres', 10),\n",
       " ('construir', 9),\n",
       " ('proyecto', 9),\n",
       " ('frente', 8),\n",
       " ('gracias', 8),\n",
       " ('vez', 8),\n",
       " ('guerra', 8),\n",
       " ('entender', 8),\n",
       " ('muerte', 7),\n",
       " ('conflictos', 7),\n",
       " ('méxico', 7),\n",
       " ('ver', 7),\n",
       " ('gran', 7),\n",
       " ('comunicación', 7),\n",
       " ('bien', 7),\n",
       " ('justamente', 6),\n",
       " ('prisioneros', 6),\n",
       " ('país', 6),\n",
       " ('pronto', 6),\n",
       " ('ahora', 6),\n",
       " ('mujer', 6),\n",
       " ('lado', 5),\n",
       " ('valor', 5),\n",
       " ('cuenta', 5),\n",
       " ('documentar', 5),\n",
       " ('largo', 5),\n",
       " ('acuerdo', 5),\n",
       " ('proceso', 5),\n",
       " ('negra', 5),\n",
       " ('violencias', 5),\n",
       " ('cuento', 5),\n",
       " ('países', 5),\n",
       " ('hablar', 5),\n",
       " ('reconocer', 5),\n",
       " ('hecho', 5),\n",
       " ('capaz', 5),\n",
       " ('valientes', 5),\n",
       " ('forma', 5),\n",
       " ('empezar', 5),\n",
       " ('importante', 5),\n",
       " ('parte', 5),\n",
       " ('parece', 5),\n",
       " ('ahí', 5),\n",
       " ('narrativa', 5),\n",
       " ('víctimas', 5),\n",
       " ('posibilidad', 5),\n",
       " ('días', 4),\n",
       " ('pues', 4),\n",
       " ('mirada', 4),\n",
       " ('además', 4),\n",
       " ('propia', 4),\n",
       " ('memoria', 4),\n",
       " ('casi', 4),\n",
       " ('supuesto', 4),\n",
       " ('sala', 4),\n",
       " ('cambiar', 4),\n",
       " ('recordar', 4),\n",
       " ('diferentes', 4),\n",
       " ('justicia', 4),\n",
       " ('haciendo', 4),\n",
       " ('dio', 4),\n",
       " ('tomar', 4),\n",
       " ('alguien', 4),\n",
       " ('lugar', 4),\n",
       " ('ejercer', 4),\n",
       " ('casa', 4),\n",
       " ('manera', 4),\n",
       " ('ira', 4),\n",
       " ('futuro', 4),\n",
       " ('ideas', 4),\n",
       " ('palabras', 4),\n",
       " ('trabajo', 4),\n",
       " ('pasado', 4),\n",
       " ('lenguaje', 4),\n",
       " ('entrevistando', 4),\n",
       " ('cumbre', 4),\n",
       " ('sucedió', 4),\n",
       " ('horror', 4),\n",
       " ('capaces', 4),\n",
       " ('enemigos', 3),\n",
       " ('camboya', 3),\n",
       " ('primer', 3)]"
      ]
     },
     "execution_count": 12,
     "metadata": {},
     "output_type": "execute_result"
    }
   ],
   "source": [
    "counter.most_common(100)"
   ]
  },
  {
   "cell_type": "markdown",
   "metadata": {},
   "source": [
    "## Saving data"
   ]
  },
  {
   "cell_type": "code",
   "execution_count": 13,
   "metadata": {},
   "outputs": [],
   "source": [
    "with open('data/out/cleaned_podcast_4.txt', 'w') as f:\n",
    "    f.write(cleaned_text)"
   ]
  },
  {
   "cell_type": "code",
   "execution_count": null,
   "metadata": {},
   "outputs": [],
   "source": []
  }
 ],
 "metadata": {
  "kernelspec": {
   "display_name": "Python 3",
   "language": "python",
   "name": "python3"
  },
  "language_info": {
   "codemirror_mode": {
    "name": "ipython",
    "version": 3
   },
   "file_extension": ".py",
   "mimetype": "text/x-python",
   "name": "python",
   "nbconvert_exporter": "python",
   "pygments_lexer": "ipython3",
   "version": "3.5.2"
  }
 },
 "nbformat": 4,
 "nbformat_minor": 2
}
