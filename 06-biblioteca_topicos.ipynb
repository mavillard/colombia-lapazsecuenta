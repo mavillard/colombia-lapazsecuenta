{
 "cells": [
  {
   "cell_type": "markdown",
   "metadata": {},
   "source": [
    "# Tópicos"
   ]
  },
  {
   "cell_type": "code",
   "execution_count": 1,
   "metadata": {
    "collapsed": true
   },
   "outputs": [],
   "source": [
    "from collections import Counter\n",
    "\n",
    "from sklearn.feature_extraction.text import TfidfVectorizer, CountVectorizer\n",
    "from sklearn.decomposition import LatentDirichletAllocation as LDA"
   ]
  },
  {
   "cell_type": "markdown",
   "metadata": {},
   "source": [
    "## Loading data"
   ]
  },
  {
   "cell_type": "code",
   "execution_count": 2,
   "metadata": {
    "collapsed": true
   },
   "outputs": [],
   "source": [
    "with open('data/out/cleaned_tomo_1.txt') as f:\n",
    "    text1 = f.read()\n",
    "\n",
    "with open('data/out/cleaned_tomo_5a.txt') as f:\n",
    "    text5a = f.read()\n",
    "\n",
    "with open('data/out/cleaned_tomo_5b.txt') as f:\n",
    "    text5b = f.read()\n",
    "\n",
    "with open('data/out/cleaned_tomo_7.txt') as f:\n",
    "    text7 = f.read()"
   ]
  },
  {
   "cell_type": "markdown",
   "metadata": {},
   "source": [
    "## Processing data"
   ]
  },
  {
   "cell_type": "code",
   "execution_count": 3,
   "metadata": {
    "collapsed": true
   },
   "outputs": [],
   "source": [
    "all_texts = text1 + ' ' + text5a + ' ' + text5b + ' ' + text7"
   ]
  },
  {
   "cell_type": "code",
   "execution_count": 4,
   "metadata": {
    "collapsed": true
   },
   "outputs": [],
   "source": [
    "general_counter = Counter(all_texts.split())"
   ]
  },
  {
   "cell_type": "code",
   "execution_count": 5,
   "metadata": {
    "collapsed": true
   },
   "outputs": [],
   "source": [
    "all_words = set(all_texts.split())"
   ]
  },
  {
   "cell_type": "code",
   "execution_count": 6,
   "metadata": {},
   "outputs": [
    {
     "data": {
      "text/plain": [
       "18754"
      ]
     },
     "execution_count": 6,
     "metadata": {},
     "output_type": "execute_result"
    }
   ],
   "source": [
    "len(all_words)"
   ]
  },
  {
   "cell_type": "code",
   "execution_count": 7,
   "metadata": {
    "collapsed": true
   },
   "outputs": [],
   "source": [
    "data = [text1, text5a, text5b, text7]"
   ]
  },
  {
   "cell_type": "code",
   "execution_count": 8,
   "metadata": {
    "collapsed": true
   },
   "outputs": [],
   "source": [
    "def get_topic(topic, feature_names, n_top_words):\n",
    "    return [feature_names[i] for i in topic.argsort()[:-n_top_words - 1:-1]]\n",
    "\n",
    "def get_topics(model, feature_names, n_top_words):\n",
    "    topics = []\n",
    "    for topic in model.components_:\n",
    "        topics.append(get_topic(topic, feature_names, n_top_words))\n",
    "    return topics"
   ]
  },
  {
   "cell_type": "code",
   "execution_count": 9,
   "metadata": {
    "collapsed": true
   },
   "outputs": [],
   "source": [
    "def weight(topic):\n",
    "    return sum(general_counter[w] for w in topic)"
   ]
  },
  {
   "cell_type": "code",
   "execution_count": 10,
   "metadata": {
    "collapsed": true
   },
   "outputs": [],
   "source": [
    "N_FEATURES = 1000\n",
    "N_TOP_WORDS = 10"
   ]
  },
  {
   "cell_type": "code",
   "execution_count": 11,
   "metadata": {
    "collapsed": true
   },
   "outputs": [],
   "source": [
    "data_samples = data"
   ]
  },
  {
   "cell_type": "code",
   "execution_count": 17,
   "metadata": {},
   "outputs": [
    {
     "name": "stdout",
     "output_type": "stream",
     "text": [
      "2\n",
      "3\n",
      "4\n",
      "CPU times: user 480 ms, sys: 72 ms, total: 552 ms\n",
      "Wall time: 1.11 s\n"
     ]
    }
   ],
   "source": [
    "%%time\n",
    "\n",
    "tf_vectorizer = CountVectorizer(\n",
    "    max_df=0.95,\n",
    "    min_df=2,\n",
    "    max_features=N_FEATURES,\n",
    "#     stop_words='english',\n",
    ")\n",
    "tf = tf_vectorizer.fit_transform(data_samples)\n",
    "tf_feature_names = tf_vectorizer.get_feature_names()\n",
    "\n",
    "topics_list = []\n",
    "for N_TOPICS in list(range(2, 5)):\n",
    "    print(N_TOPICS)\n",
    "    lda = LDA(\n",
    "        n_components=N_TOPICS,\n",
    "        learning_method='online',\n",
    "        learning_offset=50.,\n",
    "        random_state=0,\n",
    "        n_jobs=2,\n",
    "    )\n",
    "    lda.fit(tf)\n",
    "    topics = get_topics(lda, tf_feature_names, N_TOP_WORDS)\n",
    "    topics_aux = [(weight(topic), topic, len(topics)) for topic in topics]\n",
    "    topics_list.extend(topics_aux)\n",
    "topics_list.sort(reverse=True)"
   ]
  },
  {
   "cell_type": "code",
   "execution_count": 18,
   "metadata": {},
   "outputs": [
    {
     "data": {
      "text/plain": [
       "9"
      ]
     },
     "execution_count": 18,
     "metadata": {},
     "output_type": "execute_result"
    }
   ],
   "source": [
    "len(topics_list)"
   ]
  },
  {
   "cell_type": "code",
   "execution_count": 19,
   "metadata": {
    "scrolled": false
   },
   "outputs": [
    {
     "data": {
      "text/plain": [
       "[(1010,\n",
       "  ['mesas',\n",
       "   'sexual',\n",
       "   'desescalamiento',\n",
       "   'cons',\n",
       "   'étnicos',\n",
       "   'visita',\n",
       "   'reúne',\n",
       "   'episcopal',\n",
       "   'recomendaciones',\n",
       "   'pensamiento'],\n",
       "  4),\n",
       " (988,\n",
       "  ['mesas',\n",
       "   'sexual',\n",
       "   'desescalamiento',\n",
       "   'cons',\n",
       "   'visita',\n",
       "   'reúne',\n",
       "   'étnicos',\n",
       "   'episcopal',\n",
       "   'recomendaciones',\n",
       "   'contribución'],\n",
       "  3),\n",
       " (986,\n",
       "  ['mesas',\n",
       "   'sexual',\n",
       "   'pensamiento',\n",
       "   'exploratorio',\n",
       "   'afrodescendientes',\n",
       "   'directas',\n",
       "   'étnicos',\n",
       "   'visita',\n",
       "   'capacidades',\n",
       "   'henry'],\n",
       "  4),\n",
       " (986,\n",
       "  ['mesas',\n",
       "   'sexual',\n",
       "   'pensamiento',\n",
       "   'exploratorio',\n",
       "   'afrodescendientes',\n",
       "   'directas',\n",
       "   'étnicos',\n",
       "   'visita',\n",
       "   'capacidades',\n",
       "   'henry'],\n",
       "  3),\n",
       " (986,\n",
       "  ['mesas',\n",
       "   'sexual',\n",
       "   'pensamiento',\n",
       "   'exploratorio',\n",
       "   'afrodescendientes',\n",
       "   'directas',\n",
       "   'étnicos',\n",
       "   'capacidades',\n",
       "   'visita',\n",
       "   'henry'],\n",
       "  2),\n",
       " (925,\n",
       "  ['exploratorio',\n",
       "   'mesas',\n",
       "   'confianz',\n",
       "   'menores',\n",
       "   'sexual',\n",
       "   'henry',\n",
       "   'posconflicto',\n",
       "   'recuento',\n",
       "   'trucción',\n",
       "   'usted'],\n",
       "  4),\n",
       " (755,\n",
       "  ['desescalamiento',\n",
       "   'trucción',\n",
       "   'cons',\n",
       "   'confianz',\n",
       "   'jep',\n",
       "   'explosivos',\n",
       "   'piloto',\n",
       "   'contribución',\n",
       "   'identificación',\n",
       "   'descontaminación'],\n",
       "  4),\n",
       " (755,\n",
       "  ['desescalamiento',\n",
       "   'trucción',\n",
       "   'cons',\n",
       "   'confianz',\n",
       "   'jep',\n",
       "   'explosivos',\n",
       "   'piloto',\n",
       "   'contribución',\n",
       "   'identificación',\n",
       "   'descontaminación'],\n",
       "  3),\n",
       " (755,\n",
       "  ['desescalamiento',\n",
       "   'trucción',\n",
       "   'cons',\n",
       "   'confianz',\n",
       "   'jep',\n",
       "   'explosivos',\n",
       "   'piloto',\n",
       "   'contribución',\n",
       "   'identificación',\n",
       "   'descontaminación'],\n",
       "  2)]"
      ]
     },
     "execution_count": 19,
     "metadata": {},
     "output_type": "execute_result"
    }
   ],
   "source": [
    "topics_list"
   ]
  },
  {
   "cell_type": "code",
   "execution_count": 15,
   "metadata": {
    "collapsed": true
   },
   "outputs": [],
   "source": [
    "ccc=Counter([z for x, y, z in topics_list[:100]])"
   ]
  },
  {
   "cell_type": "code",
   "execution_count": 16,
   "metadata": {},
   "outputs": [
    {
     "data": {
      "text/plain": [
       "[(10, 10), (9, 9), (8, 8), (7, 7), (6, 6), (5, 5), (4, 4), (3, 3), (2, 2)]"
      ]
     },
     "execution_count": 16,
     "metadata": {},
     "output_type": "execute_result"
    }
   ],
   "source": [
    "ccc.most_common()"
   ]
  },
  {
   "cell_type": "code",
   "execution_count": null,
   "metadata": {
    "collapsed": true
   },
   "outputs": [],
   "source": []
  }
 ],
 "metadata": {
  "kernelspec": {
   "display_name": "Python 3",
   "language": "python",
   "name": "python3"
  },
  "language_info": {
   "codemirror_mode": {
    "name": "ipython",
    "version": 3
   },
   "file_extension": ".py",
   "mimetype": "text/x-python",
   "name": "python",
   "nbconvert_exporter": "python",
   "pygments_lexer": "ipython3",
   "version": "3.5.2"
  }
 },
 "nbformat": 4,
 "nbformat_minor": 2
}
