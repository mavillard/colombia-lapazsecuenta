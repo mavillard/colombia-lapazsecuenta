{
 "cells": [
  {
   "cell_type": "markdown",
   "metadata": {},
   "source": [
    "# Tomo 5A"
   ]
  },
  {
   "cell_type": "code",
   "execution_count": 1,
   "metadata": {
    "collapsed": true
   },
   "outputs": [],
   "source": [
    "import os\n",
    "from collections import Counter, defaultdict\n",
    "from pprint import pprint\n",
    "from string import punctuation\n",
    "\n",
    "import nltk\n",
    "import numpy as np\n",
    "from gensim import corpora, models\n",
    "from nltk.corpus import stopwords\n",
    "from scipy import spatial"
   ]
  },
  {
   "cell_type": "markdown",
   "metadata": {},
   "source": [
    "## Loading data"
   ]
  },
  {
   "cell_type": "code",
   "execution_count": 2,
   "metadata": {
    "collapsed": true
   },
   "outputs": [],
   "source": [
    "def key_sort_files(x):\n",
    "    return int(x[:-4].split('-')[0])\n",
    "\n",
    "path = 'data/aux/biblioteca/text_parts/5a/'\n",
    "unsorted_file_list = [filename for filename in os.listdir(path) if filename.endswith('.txt')]\n",
    "file_list = sorted(unsorted_file_list, key=key_sort_files)\n",
    "\n",
    "raw_texts = []\n",
    "for filename in file_list:\n",
    "    with open(path + filename) as f:\n",
    "        raw_texts.append(f.read())"
   ]
  },
  {
   "cell_type": "markdown",
   "metadata": {},
   "source": [
    "## Cleaning data"
   ]
  },
  {
   "cell_type": "code",
   "execution_count": 3,
   "metadata": {
    "collapsed": true
   },
   "outputs": [],
   "source": [
    "chars = []\n",
    "for text in raw_texts:\n",
    "    for c in text:\n",
    "        if not c.isalnum():\n",
    "            chars.append(c)"
   ]
  },
  {
   "cell_type": "code",
   "execution_count": 4,
   "metadata": {
    "collapsed": true
   },
   "outputs": [],
   "source": [
    "characters = set(chars)"
   ]
  },
  {
   "cell_type": "code",
   "execution_count": 5,
   "metadata": {
    "collapsed": true
   },
   "outputs": [],
   "source": [
    "with open('data/stopwords/spanish_stopwords.txt') as f:\n",
    "    sp_stopwords = list(set(map(str.strip, f.readlines())))\n",
    "\n",
    "with open('data/stopwords/my_stopwords.txt') as f:\n",
    "    my_stopwords = list(set(map(str.strip, f.readlines())))\n",
    "\n",
    "stop = stopwords.words('spanish') + sp_stopwords + my_stopwords + list(punctuation) + list(characters)"
   ]
  },
  {
   "cell_type": "code",
   "execution_count": 6,
   "metadata": {
    "collapsed": true
   },
   "outputs": [],
   "source": [
    "def clean(s):\n",
    "    r = s.lower().strip()\n",
    "    for c in characters:\n",
    "        r = r.replace(c, ' ')\n",
    "    r = r.replace('farc ep', 'farc-ep')\n",
    "    r = r.replace('confianz a', 'confianza')\n",
    "    r = r.replace('cons trucción', 'construcción')\n",
    "    rs = [w for w in nltk.word_tokenize(r) if w not in stop and len(w) > 2 and not w.isdecimal()]\n",
    "    r = ' '.join(rs)\n",
    "    return r"
   ]
  },
  {
   "cell_type": "code",
   "execution_count": 7,
   "metadata": {
    "collapsed": true
   },
   "outputs": [],
   "source": [
    "cleaned_texts = [clean(text) for text in raw_texts]"
   ]
  },
  {
   "cell_type": "code",
   "execution_count": 8,
   "metadata": {},
   "outputs": [
    {
     "data": {
      "text/plain": [
       "defaultdict(int, {' ': 49834, '-': 416})"
      ]
     },
     "execution_count": 8,
     "metadata": {},
     "output_type": "execute_result"
    }
   ],
   "source": [
    "char_counter = defaultdict(int)\n",
    "for c in characters:\n",
    "    for text in cleaned_texts:\n",
    "        if c in text:\n",
    "            char_counter[c]+=text.count(c)\n",
    "char_counter"
   ]
  },
  {
   "cell_type": "markdown",
   "metadata": {},
   "source": [
    "## Preparing data"
   ]
  },
  {
   "cell_type": "code",
   "execution_count": 9,
   "metadata": {
    "collapsed": true
   },
   "outputs": [],
   "source": [
    "documents = cleaned_texts"
   ]
  },
  {
   "cell_type": "code",
   "execution_count": 10,
   "metadata": {
    "collapsed": true
   },
   "outputs": [],
   "source": [
    "document = ' '.join(documents)"
   ]
  },
  {
   "cell_type": "code",
   "execution_count": 11,
   "metadata": {
    "collapsed": true
   },
   "outputs": [],
   "source": [
    "# Only texts that contain MORE THAN or EQUALS TO 100 words\n",
    "texts = [[word for word in document.split()] for document in documents if len(document.split()) >= 100]"
   ]
  },
  {
   "cell_type": "code",
   "execution_count": 12,
   "metadata": {},
   "outputs": [
    {
     "data": {
      "text/plain": [
       "79"
      ]
     },
     "execution_count": 12,
     "metadata": {},
     "output_type": "execute_result"
    }
   ],
   "source": [
    "len(texts)"
   ]
  },
  {
   "cell_type": "code",
   "execution_count": 13,
   "metadata": {
    "collapsed": true
   },
   "outputs": [],
   "source": [
    "dictionary = corpora.Dictionary(texts)"
   ]
  },
  {
   "cell_type": "code",
   "execution_count": 14,
   "metadata": {},
   "outputs": [
    {
     "data": {
      "text/plain": [
       "9203"
      ]
     },
     "execution_count": 14,
     "metadata": {},
     "output_type": "execute_result"
    }
   ],
   "source": [
    "len(dictionary)"
   ]
  },
  {
   "cell_type": "markdown",
   "metadata": {},
   "source": [
    "## Processing data"
   ]
  },
  {
   "cell_type": "code",
   "execution_count": 15,
   "metadata": {
    "scrolled": true
   },
   "outputs": [
    {
     "name": "stdout",
     "output_type": "stream",
     "text": [
      "Iteration: 1 / 144 - MIN_DF: 1 - MAX_DF: 0.6 - MAX_FT: 100 - N_TOPICS: 10\n",
      "Iteration: 2 / 144 - MIN_DF: 1 - MAX_DF: 0.6 - MAX_FT: 100 - N_TOPICS: 79\n",
      "Iteration: 3 / 144 - MIN_DF: 1 - MAX_DF: 0.6 - MAX_FT: 100 - N_TOPICS: 100\n",
      "Iteration: 4 / 144 - MIN_DF: 1 - MAX_DF: 0.6 - MAX_FT: 1000 - N_TOPICS: 10\n",
      "Iteration: 5 / 144 - MIN_DF: 1 - MAX_DF: 0.6 - MAX_FT: 1000 - N_TOPICS: 79\n",
      "Iteration: 6 / 144 - MIN_DF: 1 - MAX_DF: 0.6 - MAX_FT: 1000 - N_TOPICS: 100\n",
      "Iteration: 7 / 144 - MIN_DF: 1 - MAX_DF: 0.6 - MAX_FT: 9203 - N_TOPICS: 10\n",
      "Iteration: 8 / 144 - MIN_DF: 1 - MAX_DF: 0.6 - MAX_FT: 9203 - N_TOPICS: 79\n",
      "Iteration: 9 / 144 - MIN_DF: 1 - MAX_DF: 0.6 - MAX_FT: 9203 - N_TOPICS: 100\n",
      "Iteration: 10 / 144 - MIN_DF: 1 - MAX_DF: 0.7 - MAX_FT: 100 - N_TOPICS: 10\n",
      "Iteration: 11 / 144 - MIN_DF: 1 - MAX_DF: 0.7 - MAX_FT: 100 - N_TOPICS: 79\n",
      "Iteration: 12 / 144 - MIN_DF: 1 - MAX_DF: 0.7 - MAX_FT: 100 - N_TOPICS: 100\n",
      "Iteration: 13 / 144 - MIN_DF: 1 - MAX_DF: 0.7 - MAX_FT: 1000 - N_TOPICS: 10\n",
      "Iteration: 14 / 144 - MIN_DF: 1 - MAX_DF: 0.7 - MAX_FT: 1000 - N_TOPICS: 79\n",
      "Iteration: 15 / 144 - MIN_DF: 1 - MAX_DF: 0.7 - MAX_FT: 1000 - N_TOPICS: 100\n",
      "Iteration: 16 / 144 - MIN_DF: 1 - MAX_DF: 0.7 - MAX_FT: 9203 - N_TOPICS: 10\n",
      "Iteration: 17 / 144 - MIN_DF: 1 - MAX_DF: 0.7 - MAX_FT: 9203 - N_TOPICS: 79\n",
      "Iteration: 18 / 144 - MIN_DF: 1 - MAX_DF: 0.7 - MAX_FT: 9203 - N_TOPICS: 100\n",
      "Iteration: 19 / 144 - MIN_DF: 1 - MAX_DF: 0.8 - MAX_FT: 100 - N_TOPICS: 10\n",
      "Iteration: 20 / 144 - MIN_DF: 1 - MAX_DF: 0.8 - MAX_FT: 100 - N_TOPICS: 79\n",
      "Iteration: 21 / 144 - MIN_DF: 1 - MAX_DF: 0.8 - MAX_FT: 100 - N_TOPICS: 100\n",
      "Iteration: 22 / 144 - MIN_DF: 1 - MAX_DF: 0.8 - MAX_FT: 1000 - N_TOPICS: 10\n",
      "Iteration: 23 / 144 - MIN_DF: 1 - MAX_DF: 0.8 - MAX_FT: 1000 - N_TOPICS: 79\n",
      "Iteration: 24 / 144 - MIN_DF: 1 - MAX_DF: 0.8 - MAX_FT: 1000 - N_TOPICS: 100\n",
      "Iteration: 25 / 144 - MIN_DF: 1 - MAX_DF: 0.8 - MAX_FT: 9203 - N_TOPICS: 10\n",
      "Iteration: 26 / 144 - MIN_DF: 1 - MAX_DF: 0.8 - MAX_FT: 9203 - N_TOPICS: 79\n",
      "Iteration: 27 / 144 - MIN_DF: 1 - MAX_DF: 0.8 - MAX_FT: 9203 - N_TOPICS: 100\n",
      "Iteration: 28 / 144 - MIN_DF: 1 - MAX_DF: 0.9 - MAX_FT: 100 - N_TOPICS: 10\n",
      "Iteration: 29 / 144 - MIN_DF: 1 - MAX_DF: 0.9 - MAX_FT: 100 - N_TOPICS: 79\n",
      "Iteration: 30 / 144 - MIN_DF: 1 - MAX_DF: 0.9 - MAX_FT: 100 - N_TOPICS: 100\n",
      "Iteration: 31 / 144 - MIN_DF: 1 - MAX_DF: 0.9 - MAX_FT: 1000 - N_TOPICS: 10\n",
      "Iteration: 32 / 144 - MIN_DF: 1 - MAX_DF: 0.9 - MAX_FT: 1000 - N_TOPICS: 79\n",
      "Iteration: 33 / 144 - MIN_DF: 1 - MAX_DF: 0.9 - MAX_FT: 1000 - N_TOPICS: 100\n",
      "Iteration: 34 / 144 - MIN_DF: 1 - MAX_DF: 0.9 - MAX_FT: 9203 - N_TOPICS: 10\n",
      "Iteration: 35 / 144 - MIN_DF: 1 - MAX_DF: 0.9 - MAX_FT: 9203 - N_TOPICS: 79\n",
      "Iteration: 36 / 144 - MIN_DF: 1 - MAX_DF: 0.9 - MAX_FT: 9203 - N_TOPICS: 100\n",
      "Iteration: 37 / 144 - MIN_DF: 2 - MAX_DF: 0.6 - MAX_FT: 100 - N_TOPICS: 10\n",
      "Iteration: 38 / 144 - MIN_DF: 2 - MAX_DF: 0.6 - MAX_FT: 100 - N_TOPICS: 79\n",
      "Iteration: 39 / 144 - MIN_DF: 2 - MAX_DF: 0.6 - MAX_FT: 100 - N_TOPICS: 100\n",
      "Iteration: 40 / 144 - MIN_DF: 2 - MAX_DF: 0.6 - MAX_FT: 1000 - N_TOPICS: 10\n",
      "Iteration: 41 / 144 - MIN_DF: 2 - MAX_DF: 0.6 - MAX_FT: 1000 - N_TOPICS: 79\n",
      "Iteration: 42 / 144 - MIN_DF: 2 - MAX_DF: 0.6 - MAX_FT: 1000 - N_TOPICS: 100\n",
      "Iteration: 43 / 144 - MIN_DF: 2 - MAX_DF: 0.6 - MAX_FT: 9203 - N_TOPICS: 10\n",
      "Iteration: 44 / 144 - MIN_DF: 2 - MAX_DF: 0.6 - MAX_FT: 9203 - N_TOPICS: 79\n",
      "Iteration: 45 / 144 - MIN_DF: 2 - MAX_DF: 0.6 - MAX_FT: 9203 - N_TOPICS: 100\n",
      "Iteration: 46 / 144 - MIN_DF: 2 - MAX_DF: 0.7 - MAX_FT: 100 - N_TOPICS: 10\n",
      "Iteration: 47 / 144 - MIN_DF: 2 - MAX_DF: 0.7 - MAX_FT: 100 - N_TOPICS: 79\n",
      "Iteration: 48 / 144 - MIN_DF: 2 - MAX_DF: 0.7 - MAX_FT: 100 - N_TOPICS: 100\n",
      "Iteration: 49 / 144 - MIN_DF: 2 - MAX_DF: 0.7 - MAX_FT: 1000 - N_TOPICS: 10\n",
      "Iteration: 50 / 144 - MIN_DF: 2 - MAX_DF: 0.7 - MAX_FT: 1000 - N_TOPICS: 79\n",
      "Iteration: 51 / 144 - MIN_DF: 2 - MAX_DF: 0.7 - MAX_FT: 1000 - N_TOPICS: 100\n",
      "Iteration: 52 / 144 - MIN_DF: 2 - MAX_DF: 0.7 - MAX_FT: 9203 - N_TOPICS: 10\n",
      "Iteration: 53 / 144 - MIN_DF: 2 - MAX_DF: 0.7 - MAX_FT: 9203 - N_TOPICS: 79\n",
      "Iteration: 54 / 144 - MIN_DF: 2 - MAX_DF: 0.7 - MAX_FT: 9203 - N_TOPICS: 100\n",
      "Iteration: 55 / 144 - MIN_DF: 2 - MAX_DF: 0.8 - MAX_FT: 100 - N_TOPICS: 10\n",
      "Iteration: 56 / 144 - MIN_DF: 2 - MAX_DF: 0.8 - MAX_FT: 100 - N_TOPICS: 79\n",
      "Iteration: 57 / 144 - MIN_DF: 2 - MAX_DF: 0.8 - MAX_FT: 100 - N_TOPICS: 100\n",
      "Iteration: 58 / 144 - MIN_DF: 2 - MAX_DF: 0.8 - MAX_FT: 1000 - N_TOPICS: 10\n",
      "Iteration: 59 / 144 - MIN_DF: 2 - MAX_DF: 0.8 - MAX_FT: 1000 - N_TOPICS: 79\n",
      "Iteration: 60 / 144 - MIN_DF: 2 - MAX_DF: 0.8 - MAX_FT: 1000 - N_TOPICS: 100\n",
      "Iteration: 61 / 144 - MIN_DF: 2 - MAX_DF: 0.8 - MAX_FT: 9203 - N_TOPICS: 10\n",
      "Iteration: 62 / 144 - MIN_DF: 2 - MAX_DF: 0.8 - MAX_FT: 9203 - N_TOPICS: 79\n",
      "Iteration: 63 / 144 - MIN_DF: 2 - MAX_DF: 0.8 - MAX_FT: 9203 - N_TOPICS: 100\n",
      "Iteration: 64 / 144 - MIN_DF: 2 - MAX_DF: 0.9 - MAX_FT: 100 - N_TOPICS: 10\n",
      "Iteration: 65 / 144 - MIN_DF: 2 - MAX_DF: 0.9 - MAX_FT: 100 - N_TOPICS: 79\n",
      "Iteration: 66 / 144 - MIN_DF: 2 - MAX_DF: 0.9 - MAX_FT: 100 - N_TOPICS: 100\n",
      "Iteration: 67 / 144 - MIN_DF: 2 - MAX_DF: 0.9 - MAX_FT: 1000 - N_TOPICS: 10\n",
      "Iteration: 68 / 144 - MIN_DF: 2 - MAX_DF: 0.9 - MAX_FT: 1000 - N_TOPICS: 79\n",
      "Iteration: 69 / 144 - MIN_DF: 2 - MAX_DF: 0.9 - MAX_FT: 1000 - N_TOPICS: 100\n",
      "Iteration: 70 / 144 - MIN_DF: 2 - MAX_DF: 0.9 - MAX_FT: 9203 - N_TOPICS: 10\n",
      "Iteration: 71 / 144 - MIN_DF: 2 - MAX_DF: 0.9 - MAX_FT: 9203 - N_TOPICS: 79\n",
      "Iteration: 72 / 144 - MIN_DF: 2 - MAX_DF: 0.9 - MAX_FT: 9203 - N_TOPICS: 100\n",
      "Iteration: 73 / 144 - MIN_DF: 4 - MAX_DF: 0.6 - MAX_FT: 100 - N_TOPICS: 10\n",
      "Iteration: 74 / 144 - MIN_DF: 4 - MAX_DF: 0.6 - MAX_FT: 100 - N_TOPICS: 79\n",
      "Iteration: 75 / 144 - MIN_DF: 4 - MAX_DF: 0.6 - MAX_FT: 100 - N_TOPICS: 100\n",
      "Iteration: 76 / 144 - MIN_DF: 4 - MAX_DF: 0.6 - MAX_FT: 1000 - N_TOPICS: 10\n",
      "Iteration: 77 / 144 - MIN_DF: 4 - MAX_DF: 0.6 - MAX_FT: 1000 - N_TOPICS: 79\n",
      "Iteration: 78 / 144 - MIN_DF: 4 - MAX_DF: 0.6 - MAX_FT: 1000 - N_TOPICS: 100\n",
      "Iteration: 79 / 144 - MIN_DF: 4 - MAX_DF: 0.6 - MAX_FT: 9203 - N_TOPICS: 10\n",
      "Iteration: 80 / 144 - MIN_DF: 4 - MAX_DF: 0.6 - MAX_FT: 9203 - N_TOPICS: 79\n",
      "Iteration: 81 / 144 - MIN_DF: 4 - MAX_DF: 0.6 - MAX_FT: 9203 - N_TOPICS: 100\n",
      "Iteration: 82 / 144 - MIN_DF: 4 - MAX_DF: 0.7 - MAX_FT: 100 - N_TOPICS: 10\n",
      "Iteration: 83 / 144 - MIN_DF: 4 - MAX_DF: 0.7 - MAX_FT: 100 - N_TOPICS: 79\n",
      "Iteration: 84 / 144 - MIN_DF: 4 - MAX_DF: 0.7 - MAX_FT: 100 - N_TOPICS: 100\n",
      "Iteration: 85 / 144 - MIN_DF: 4 - MAX_DF: 0.7 - MAX_FT: 1000 - N_TOPICS: 10\n",
      "Iteration: 86 / 144 - MIN_DF: 4 - MAX_DF: 0.7 - MAX_FT: 1000 - N_TOPICS: 79\n",
      "Iteration: 87 / 144 - MIN_DF: 4 - MAX_DF: 0.7 - MAX_FT: 1000 - N_TOPICS: 100\n",
      "Iteration: 88 / 144 - MIN_DF: 4 - MAX_DF: 0.7 - MAX_FT: 9203 - N_TOPICS: 10\n",
      "Iteration: 89 / 144 - MIN_DF: 4 - MAX_DF: 0.7 - MAX_FT: 9203 - N_TOPICS: 79\n",
      "Iteration: 90 / 144 - MIN_DF: 4 - MAX_DF: 0.7 - MAX_FT: 9203 - N_TOPICS: 100\n",
      "Iteration: 91 / 144 - MIN_DF: 4 - MAX_DF: 0.8 - MAX_FT: 100 - N_TOPICS: 10\n",
      "Iteration: 92 / 144 - MIN_DF: 4 - MAX_DF: 0.8 - MAX_FT: 100 - N_TOPICS: 79\n",
      "Iteration: 93 / 144 - MIN_DF: 4 - MAX_DF: 0.8 - MAX_FT: 100 - N_TOPICS: 100\n",
      "Iteration: 94 / 144 - MIN_DF: 4 - MAX_DF: 0.8 - MAX_FT: 1000 - N_TOPICS: 10\n",
      "Iteration: 95 / 144 - MIN_DF: 4 - MAX_DF: 0.8 - MAX_FT: 1000 - N_TOPICS: 79\n",
      "Iteration: 96 / 144 - MIN_DF: 4 - MAX_DF: 0.8 - MAX_FT: 1000 - N_TOPICS: 100\n",
      "Iteration: 97 / 144 - MIN_DF: 4 - MAX_DF: 0.8 - MAX_FT: 9203 - N_TOPICS: 10\n",
      "Iteration: 98 / 144 - MIN_DF: 4 - MAX_DF: 0.8 - MAX_FT: 9203 - N_TOPICS: 79\n",
      "Iteration: 99 / 144 - MIN_DF: 4 - MAX_DF: 0.8 - MAX_FT: 9203 - N_TOPICS: 100\n",
      "Iteration: 100 / 144 - MIN_DF: 4 - MAX_DF: 0.9 - MAX_FT: 100 - N_TOPICS: 10\n",
      "Iteration: 101 / 144 - MIN_DF: 4 - MAX_DF: 0.9 - MAX_FT: 100 - N_TOPICS: 79\n",
      "Iteration: 102 / 144 - MIN_DF: 4 - MAX_DF: 0.9 - MAX_FT: 100 - N_TOPICS: 100\n",
      "Iteration: 103 / 144 - MIN_DF: 4 - MAX_DF: 0.9 - MAX_FT: 1000 - N_TOPICS: 10\n",
      "Iteration: 104 / 144 - MIN_DF: 4 - MAX_DF: 0.9 - MAX_FT: 1000 - N_TOPICS: 79\n",
      "Iteration: 105 / 144 - MIN_DF: 4 - MAX_DF: 0.9 - MAX_FT: 1000 - N_TOPICS: 100\n",
      "Iteration: 106 / 144 - MIN_DF: 4 - MAX_DF: 0.9 - MAX_FT: 9203 - N_TOPICS: 10\n",
      "Iteration: 107 / 144 - MIN_DF: 4 - MAX_DF: 0.9 - MAX_FT: 9203 - N_TOPICS: 79\n",
      "Iteration: 108 / 144 - MIN_DF: 4 - MAX_DF: 0.9 - MAX_FT: 9203 - N_TOPICS: 100\n"
     ]
    },
    {
     "name": "stdout",
     "output_type": "stream",
     "text": [
      "Iteration: 109 / 144 - MIN_DF: 7 - MAX_DF: 0.6 - MAX_FT: 100 - N_TOPICS: 10\n",
      "Iteration: 110 / 144 - MIN_DF: 7 - MAX_DF: 0.6 - MAX_FT: 100 - N_TOPICS: 79\n",
      "Iteration: 111 / 144 - MIN_DF: 7 - MAX_DF: 0.6 - MAX_FT: 100 - N_TOPICS: 100\n",
      "Iteration: 112 / 144 - MIN_DF: 7 - MAX_DF: 0.6 - MAX_FT: 1000 - N_TOPICS: 10\n",
      "Iteration: 113 / 144 - MIN_DF: 7 - MAX_DF: 0.6 - MAX_FT: 1000 - N_TOPICS: 79\n",
      "Iteration: 114 / 144 - MIN_DF: 7 - MAX_DF: 0.6 - MAX_FT: 1000 - N_TOPICS: 100\n",
      "Iteration: 115 / 144 - MIN_DF: 7 - MAX_DF: 0.6 - MAX_FT: 9203 - N_TOPICS: 10\n",
      "Iteration: 116 / 144 - MIN_DF: 7 - MAX_DF: 0.6 - MAX_FT: 9203 - N_TOPICS: 79\n",
      "Iteration: 117 / 144 - MIN_DF: 7 - MAX_DF: 0.6 - MAX_FT: 9203 - N_TOPICS: 100\n",
      "Iteration: 118 / 144 - MIN_DF: 7 - MAX_DF: 0.7 - MAX_FT: 100 - N_TOPICS: 10\n",
      "Iteration: 119 / 144 - MIN_DF: 7 - MAX_DF: 0.7 - MAX_FT: 100 - N_TOPICS: 79\n",
      "Iteration: 120 / 144 - MIN_DF: 7 - MAX_DF: 0.7 - MAX_FT: 100 - N_TOPICS: 100\n",
      "Iteration: 121 / 144 - MIN_DF: 7 - MAX_DF: 0.7 - MAX_FT: 1000 - N_TOPICS: 10\n",
      "Iteration: 122 / 144 - MIN_DF: 7 - MAX_DF: 0.7 - MAX_FT: 1000 - N_TOPICS: 79\n",
      "Iteration: 123 / 144 - MIN_DF: 7 - MAX_DF: 0.7 - MAX_FT: 1000 - N_TOPICS: 100\n",
      "Iteration: 124 / 144 - MIN_DF: 7 - MAX_DF: 0.7 - MAX_FT: 9203 - N_TOPICS: 10\n",
      "Iteration: 125 / 144 - MIN_DF: 7 - MAX_DF: 0.7 - MAX_FT: 9203 - N_TOPICS: 79\n",
      "Iteration: 126 / 144 - MIN_DF: 7 - MAX_DF: 0.7 - MAX_FT: 9203 - N_TOPICS: 100\n",
      "Iteration: 127 / 144 - MIN_DF: 7 - MAX_DF: 0.8 - MAX_FT: 100 - N_TOPICS: 10\n",
      "Iteration: 128 / 144 - MIN_DF: 7 - MAX_DF: 0.8 - MAX_FT: 100 - N_TOPICS: 79\n",
      "Iteration: 129 / 144 - MIN_DF: 7 - MAX_DF: 0.8 - MAX_FT: 100 - N_TOPICS: 100\n",
      "Iteration: 130 / 144 - MIN_DF: 7 - MAX_DF: 0.8 - MAX_FT: 1000 - N_TOPICS: 10\n",
      "Iteration: 131 / 144 - MIN_DF: 7 - MAX_DF: 0.8 - MAX_FT: 1000 - N_TOPICS: 79\n",
      "Iteration: 132 / 144 - MIN_DF: 7 - MAX_DF: 0.8 - MAX_FT: 1000 - N_TOPICS: 100\n",
      "Iteration: 133 / 144 - MIN_DF: 7 - MAX_DF: 0.8 - MAX_FT: 9203 - N_TOPICS: 10\n",
      "Iteration: 134 / 144 - MIN_DF: 7 - MAX_DF: 0.8 - MAX_FT: 9203 - N_TOPICS: 79\n",
      "Iteration: 135 / 144 - MIN_DF: 7 - MAX_DF: 0.8 - MAX_FT: 9203 - N_TOPICS: 100\n",
      "Iteration: 136 / 144 - MIN_DF: 7 - MAX_DF: 0.9 - MAX_FT: 100 - N_TOPICS: 10\n",
      "Iteration: 137 / 144 - MIN_DF: 7 - MAX_DF: 0.9 - MAX_FT: 100 - N_TOPICS: 79\n",
      "Iteration: 138 / 144 - MIN_DF: 7 - MAX_DF: 0.9 - MAX_FT: 100 - N_TOPICS: 100\n",
      "Iteration: 139 / 144 - MIN_DF: 7 - MAX_DF: 0.9 - MAX_FT: 1000 - N_TOPICS: 10\n",
      "Iteration: 140 / 144 - MIN_DF: 7 - MAX_DF: 0.9 - MAX_FT: 1000 - N_TOPICS: 79\n",
      "Iteration: 141 / 144 - MIN_DF: 7 - MAX_DF: 0.9 - MAX_FT: 1000 - N_TOPICS: 100\n",
      "Iteration: 142 / 144 - MIN_DF: 7 - MAX_DF: 0.9 - MAX_FT: 9203 - N_TOPICS: 10\n",
      "Iteration: 143 / 144 - MIN_DF: 7 - MAX_DF: 0.9 - MAX_FT: 9203 - N_TOPICS: 79\n",
      "Iteration: 144 / 144 - MIN_DF: 7 - MAX_DF: 0.9 - MAX_FT: 9203 - N_TOPICS: 100\n",
      "CPU times: user 4min 19s, sys: 3min, total: 7min 20s\n",
      "Wall time: 3min 12s\n"
     ]
    }
   ],
   "source": [
    "%%time\n",
    "\n",
    "# lsi_topics_lists = []\n",
    "lda_topics_lists = []\n",
    "hdp_topics_lists = []\n",
    "\n",
    "MIN_DFs = [1, 2, 4, 7]\n",
    "MAX_DFs = [0.6, 0.7, 0.8, 0.9]\n",
    "MAX_FTs = [100, 1000, len(dictionary)]\n",
    "N_TOPICSs = [10, len(texts), 100]\n",
    "\n",
    "total_iterations = len(MIN_DFs) * len(MAX_DFs) * len(MAX_FTs) * len(N_TOPICSs)\n",
    "iteration = 1\n",
    "for MIN_DF in MIN_DFs:\n",
    "    for MAX_DF in MAX_DFs:\n",
    "        for MAX_FT in MAX_FTs:\n",
    "            dictionary = corpora.Dictionary(texts)\n",
    "            dictionary.filter_extremes(no_below=MIN_DF, no_above=MAX_DF, keep_n=MAX_FT)\n",
    "            corpus = [dictionary.doc2bow(text) for text in texts]\n",
    "            tfidf = models.TfidfModel(corpus)\n",
    "            corpus_tfidf = tfidf[corpus]\n",
    "            \n",
    "            for N_TOPICS in N_TOPICSs:\n",
    "                print('Iteration: {} / {}'.format(iteration, total_iterations), \\\n",
    "                      '- MIN_DF:', MIN_DF, '- MAX_DF:', MAX_DF, '- MAX_FT:', MAX_FT, '- N_TOPICS:', N_TOPICS)\n",
    "                iteration += 1\n",
    "                \n",
    "                # LSI\n",
    "#                 lsi = models.LsiModel(corpus_tfidf, id2word=dictionary, num_topics=N_TOPICS)\n",
    "#                 corpus_lsi = lsi[corpus_tfidf]\n",
    "#                 ts = lsi.show_topics(lsi.num_topics, formatted=False)\n",
    "#                 result = (ts, (MIN_DF, MAX_DF, MAX_FT, N_TOPICS), corpus_lsi)\n",
    "#                 lsi_topics_lists.append(result)\n",
    "            \n",
    "                # LDA\n",
    "                lda = models.LdaModel(corpus, id2word=dictionary, num_topics=N_TOPICS, random_state=0)\n",
    "                corpus_lda = lda[corpus]\n",
    "                ts = sorted(lda.show_topics(lda.num_topics, formatted=False))\n",
    "                result = (ts, (MIN_DF, MAX_DF, MAX_FT, N_TOPICS), corpus_lda)\n",
    "                lda_topics_lists.append(result)\n",
    "            \n",
    "                # HDP\n",
    "                hdp = models.HdpModel(corpus, id2word=dictionary, random_state=0)\n",
    "                corpus_hdp = hdp[corpus]\n",
    "                ts = hdp.show_topics(len(hdp.show_topics(num_topics=-1)), num_words=10, formatted=False)\n",
    "                result = (ts, (MIN_DF, MAX_DF, MAX_FT, N_TOPICS), corpus_hdp)\n",
    "                hdp_topics_lists.append(result)"
   ]
  },
  {
   "cell_type": "code",
   "execution_count": 16,
   "metadata": {
    "collapsed": true
   },
   "outputs": [],
   "source": [
    "def extract_vocabulary(ts):\n",
    "    vocab = set()\n",
    "    for t in ts:\n",
    "        words = [word for word, weight in t]\n",
    "        vocab = vocab.union(words)\n",
    "    vocab = sorted(vocab)\n",
    "    r = {w: i for i, w in enumerate(vocab)}\n",
    "    return r\n",
    "\n",
    "def get_weights(t):\n",
    "    return dict(t)\n",
    "\n",
    "def create_vector(vocab, weights):\n",
    "    r = [0] * len(vocab)\n",
    "    for wo in weights:\n",
    "        r[vocab[wo]] = weights[wo]\n",
    "    return r\n",
    "\n",
    "def vectorize(ts):\n",
    "    r = []\n",
    "    ts = [t for i, j, t in ts]\n",
    "    vocab = extract_vocabulary(ts)\n",
    "    for t in ts:\n",
    "        weights = get_weights(t)\n",
    "        vector = create_vector(vocab, weights)\n",
    "        r.append(vector)\n",
    "    return r"
   ]
  },
  {
   "cell_type": "code",
   "execution_count": 17,
   "metadata": {
    "collapsed": true
   },
   "outputs": [],
   "source": [
    "def two_topics_distance(t1, t2):\n",
    "    r = spatial.distance.cosine(t1, t2)\n",
    "    return r\n",
    "\n",
    "def multiple_topics_distance(ts):\n",
    "    ds = []\n",
    "    for i, t1 in enumerate(ts[:-1]):\n",
    "        for j in range(i + 1, len(ts)):\n",
    "            t2 = ts[j]\n",
    "            d = two_topics_distance(t1, t2)\n",
    "            ds.append(d)\n",
    "    return np.mean(ds)\n",
    "\n",
    "def top_n_used(ts_list, n):\n",
    "    total_weights = defaultdict(float)\n",
    "    corpus = ts_list[2]\n",
    "    for doc in corpus:\n",
    "        for topic, weight in doc:\n",
    "            total_weights[topic] += abs(weight)\n",
    "    total_weights = dict(total_weights)\n",
    "    counter = Counter(total_weights)\n",
    "    topics_dct = dict(ts_list[0])\n",
    "    r = ([(weight, topic_id, topics_dct[topic_id])\n",
    "             for topic_id, weight in counter.most_common(n)], ts_list[1], corpus)\n",
    "    return r\n",
    "\n",
    "def best_topics(ts_lists, n=10):\n",
    "    r = []\n",
    "    for ts_list in ts_lists:\n",
    "        top_n_ts_list = top_n_used(ts_list, n)\n",
    "        ts_vector = vectorize(top_n_ts_list[0])\n",
    "        d = multiple_topics_distance(ts_vector)\n",
    "        r.append((d, top_n_ts_list))\n",
    "    r = sorted(r, reverse=True)\n",
    "    return r[0]"
   ]
  },
  {
   "cell_type": "code",
   "execution_count": 18,
   "metadata": {},
   "outputs": [
    {
     "name": "stdout",
     "output_type": "stream",
     "text": [
      "LDA\n",
      "HDP\n",
      "CPU times: user 2min 27s, sys: 2min 23s, total: 4min 51s\n",
      "Wall time: 1min 17s\n"
     ]
    }
   ],
   "source": [
    "%%time\n",
    "\n",
    "# print('LSI')\n",
    "# lsi_best_topics_list = best_topics(lsi_topics_lists)\n",
    "print('LDA')\n",
    "lda_best_topics_list = best_topics(lda_topics_lists)\n",
    "print('HDP')\n",
    "hdp_best_topics_list = best_topics(hdp_topics_lists)"
   ]
  },
  {
   "cell_type": "markdown",
   "metadata": {},
   "source": [
    "## Results"
   ]
  },
  {
   "cell_type": "markdown",
   "metadata": {},
   "source": [
    "### LSI"
   ]
  },
  {
   "cell_type": "code",
   "execution_count": 19,
   "metadata": {
    "collapsed": true
   },
   "outputs": [],
   "source": [
    "# lsi_best_topics_list[1][0]"
   ]
  },
  {
   "cell_type": "markdown",
   "metadata": {},
   "source": [
    "### LDA"
   ]
  },
  {
   "cell_type": "code",
   "execution_count": 20,
   "metadata": {
    "scrolled": false
   },
   "outputs": [
    {
     "data": {
      "text/plain": [
       "[(11.29773160815239,\n",
       "  59,\n",
       "  [('verdad', 0.045633178),\n",
       "   ('país', 0.035300717),\n",
       "   ('acuerdos', 0.025681132),\n",
       "   ('fin', 0.025034843),\n",
       "   ('social', 0.023916142),\n",
       "   ('comisión', 0.023404641),\n",
       "   ('general', 0.023342799),\n",
       "   ('presidente', 0.021130105),\n",
       "   ('derechos', 0.021012653),\n",
       "   ('hoy', 0.018683605)]),\n",
       " (4.2021681815385818,\n",
       "  37,\n",
       "  [('delegaciones', 0.069517128),\n",
       "   ('trabajo', 0.054120481),\n",
       "   ('garantes', 0.049804118),\n",
       "   ('países', 0.04430278),\n",
       "   ('general', 0.039572716),\n",
       "   ('agenda', 0.038492855),\n",
       "   ('declaración', 0.03804991),\n",
       "   ('subcomisión', 0.037326723),\n",
       "   ('comisión', 0.032367293),\n",
       "   ('marco', 0.031067941)]),\n",
       " (4.0339756682515144,\n",
       "  56,\n",
       "  [('derechos', 0.056859039),\n",
       "   ('verdad', 0.047397066),\n",
       "   ('manera', 0.031105516),\n",
       "   ('reparación', 0.02988551),\n",
       "   ('derecho', 0.028777579),\n",
       "   ('reconocimiento', 0.027125983),\n",
       "   ('responsabilidad', 0.026751848),\n",
       "   ('justicia', 0.024150567),\n",
       "   ('especial', 0.023306061),\n",
       "   ('armado', 0.01945731)]),\n",
       " (3.7862638831138611,\n",
       "  24,\n",
       "  [('derechos', 0.040429786),\n",
       "   ('hoy', 0.039128881),\n",
       "   ('país', 0.030435679),\n",
       "   ('manera', 0.02386361),\n",
       "   ('guerra', 0.020836836),\n",
       "   ('centro', 0.02066805),\n",
       "   ('presidente', 0.019159777),\n",
       "   ('colombianos', 0.018298229),\n",
       "   ('naciones', 0.017524339),\n",
       "   ('justicia', 0.016631339)]),\n",
       " (3.3742295540869236,\n",
       "  58,\n",
       "  [('comisión', 0.04865675),\n",
       "   ('derechos', 0.03908962),\n",
       "   ('verdad', 0.034058418),\n",
       "   ('delegaciones', 0.033652578),\n",
       "   ('tres', 0.022939006),\n",
       "   ('hoy', 0.022280145),\n",
       "   ('personas', 0.021400478),\n",
       "   ('años', 0.020204544),\n",
       "   ('hecho', 0.019093437),\n",
       "   ('fin', 0.018608548)]),\n",
       " (3.3652274161577225,\n",
       "  4,\n",
       "  [('comisión', 0.13891995),\n",
       "   ('delegaciones', 0.03961537),\n",
       "   ('puntos', 0.031109169),\n",
       "   ('trabajo', 0.029225947),\n",
       "   ('debe', 0.026763368),\n",
       "   ('histórica', 0.026315862),\n",
       "   ('garantes', 0.023591556),\n",
       "   ('medidas', 0.023250742),\n",
       "   ('fin', 0.019178094),\n",
       "   ('subcomisión', 0.01812158)]),\n",
       " (3.017368171364069,\n",
       "  53,\n",
       "  [('mujeres', 0.12196724),\n",
       "   ('construcción', 0.027486054),\n",
       "   ('delegaciones', 0.02608387),\n",
       "   ('puntos', 0.025773238),\n",
       "   ('general', 0.025552966),\n",
       "   ('organizaciones', 0.024451543),\n",
       "   ('diálogos', 0.0219629),\n",
       "   ('guerra', 0.021867961),\n",
       "   ('propuestas', 0.021510161),\n",
       "   ('política', 0.021291146)]),\n",
       " (2.946924015879631,\n",
       "  26,\n",
       "  [('general', 0.072295219),\n",
       "   ('parte', 0.041761491),\n",
       "   ('manera', 0.040685553),\n",
       "   ('calle', 0.035922736),\n",
       "   ('humberto', 0.032531414),\n",
       "   ('armas', 0.029154705),\n",
       "   ('momento', 0.026584275),\n",
       "   ('marco', 0.026016276),\n",
       "   ('país', 0.023052795),\n",
       "   ('hechos', 0.022439905)]),\n",
       " (2.3330923207104206,\n",
       "  8,\n",
       "  [('medidas', 0.11902218),\n",
       "   ('construcción', 0.057631742),\n",
       "   ('fin', 0.047826961),\n",
       "   ('derechos', 0.034195483),\n",
       "   ('años', 0.031932209),\n",
       "   ('país', 0.027871637),\n",
       "   ('terminación', 0.025575502),\n",
       "   ('marco', 0.023167107),\n",
       "   ('colombianos', 0.020876506),\n",
       "   ('internacional', 0.020652054)]),\n",
       " (2.1143151223659515,\n",
       "  54,\n",
       "  [('participación', 0.062225558),\n",
       "   ('representantes', 0.042888995),\n",
       "   ('naciones', 0.042571925),\n",
       "   ('unidas', 0.042467125),\n",
       "   ('parte', 0.035529815),\n",
       "   ('manera', 0.035528485),\n",
       "   ('miembros', 0.033923268),\n",
       "   ('personas', 0.033265028),\n",
       "   ('derecho', 0.033061523),\n",
       "   ('centro', 0.030530272)])]"
      ]
     },
     "execution_count": 20,
     "metadata": {},
     "output_type": "execute_result"
    }
   ],
   "source": [
    "lda_best_topics_list[1][0]"
   ]
  },
  {
   "cell_type": "markdown",
   "metadata": {},
   "source": [
    "### HDP"
   ]
  },
  {
   "cell_type": "code",
   "execution_count": 21,
   "metadata": {
    "scrolled": false
   },
   "outputs": [
    {
     "data": {
      "text/plain": [
       "[(11.753257246285138,\n",
       "  1,\n",
       "  [('familias', 0.0070702490014293755),\n",
       "   ('garantes', 0.0070652926569658367),\n",
       "   ('delegaciones', 0.0060886814617526798),\n",
       "   ('visita', 0.0051037409796850204),\n",
       "   ('mujeres', 0.0050781374712498498),\n",
       "   ('agradecemos', 0.0049586352988364724),\n",
       "   ('precisamente', 0.0049275513018150032),\n",
       "   ('subcomisión', 0.0048681277167929651),\n",
       "   ('fenómeno', 0.004451891902981185),\n",
       "   ('hizo', 0.0043961355280524332)]),\n",
       " (5.8529333469840568,\n",
       "  0,\n",
       "  [('acordado', 0.0061442864463052832),\n",
       "   ('comisión', 0.0055388821922130451),\n",
       "   ('participación', 0.0051221758208272175),\n",
       "   ('agenda', 0.0048059583536658873),\n",
       "   ('armadas', 0.0044822249959355423),\n",
       "   ('condición', 0.0042732681759753239),\n",
       "   ('diferentes', 0.0042410068490865418),\n",
       "   ('partes', 0.0042383926609668001),\n",
       "   ('apoyo', 0.0040327898144069362),\n",
       "   ('adicionalmente', 0.0039785685988870745)]),\n",
       " (4.2447565929984155,\n",
       "  2,\n",
       "  [('comisión', 0.011479147272106235),\n",
       "   ('verdad', 0.0071582034718161297),\n",
       "   ('expertos', 0.0071438174417783641),\n",
       "   ('medida', 0.0051774042603497513),\n",
       "   ('ejemplo', 0.0049291894635903706),\n",
       "   ('informe', 0.0048262515025340952),\n",
       "   ('todavía', 0.0048069098392516116),\n",
       "   ('mandato', 0.0047007066338296457),\n",
       "   ('delegaciones', 0.0045288636244129182),\n",
       "   ('informes', 0.0044145079907361127)]),\n",
       " (3.7276691546649237,\n",
       "  7,\n",
       "  [('garantes', 0.0065391025427507694),\n",
       "   ('verdad', 0.0057899654298339811),\n",
       "   ('aplicación', 0.0055992085826701678),\n",
       "   ('sociedad', 0.0048017570782924093),\n",
       "   ('común', 0.0047745892605176683),\n",
       "   ('individual', 0.0045442876311204018),\n",
       "   ('mujeres', 0.0043211720311199684),\n",
       "   ('historia', 0.0042541044118570666),\n",
       "   ('universo', 0.0041246836747665461),\n",
       "   ('testimonios', 0.0041202193512373123)]),\n",
       " (3.4630756622190599,\n",
       "  10,\n",
       "  [('recomendaciones', 0.0062439271326952287),\n",
       "   ('difícil', 0.0056918292403683804),\n",
       "   ('justicia', 0.0053715108233943817),\n",
       "   ('personas', 0.0049659940680394166),\n",
       "   ('guerra', 0.0049625263938804882),\n",
       "   ('acuerdos', 0.0048573715561164854),\n",
       "   ('recursos', 0.0045170172884129202),\n",
       "   ('efectos', 0.0044723536346201074),\n",
       "   ('definición', 0.0044153395365514707),\n",
       "   ('histórica', 0.0043192359012932122)]),\n",
       " (3.3333820023207061,\n",
       "  3,\n",
       "  [('delegaciones', 0.0065738768940911624),\n",
       "   ('grupo', 0.0061658260113788312),\n",
       "   ('reunión', 0.0049617488258894846),\n",
       "   ('conforme', 0.0048511737905112132),\n",
       "   ('subcomisión', 0.0048147552409902377),\n",
       "   ('región', 0.0043282203679710675),\n",
       "   ('instancias', 0.0043229857684800943),\n",
       "   ('rechazo', 0.0042196663573163991),\n",
       "   ('primera', 0.0042123510741409144),\n",
       "   ('personas', 0.0040823117841312772)]),\n",
       " (2.8294252692125839,\n",
       "  4,\n",
       "  [('siguiente', 0.0075952033328355595),\n",
       "   ('salida', 0.0049674959877214521),\n",
       "   ('armado', 0.0043111240637297233),\n",
       "   ('formalmente', 0.0038883999249470676),\n",
       "   ('acuerdos', 0.0038839986440143918),\n",
       "   ('muestra', 0.0037908040978737703),\n",
       "   ('inteligencia', 0.0036980424658911715),\n",
       "   ('encuentran', 0.0036223076736605834),\n",
       "   ('centro', 0.0036154900016786306),\n",
       "   ('chile', 0.0036040005118547105)]),\n",
       " (2.6470743622485871,\n",
       "  5,\n",
       "  [('mujeres', 0.0070526496714317741),\n",
       "   ('santos', 0.0057504720069468281),\n",
       "   ('comisión', 0.0056232415944063516),\n",
       "   ('subcomisión', 0.0053705363243471069),\n",
       "   ('colombianas', 0.0051584432406058273),\n",
       "   ('paso', 0.004966263678664512),\n",
       "   ('presencia', 0.0049599834501432597),\n",
       "   ('público', 0.00439637580047131),\n",
       "   ('político', 0.0043096861348091223),\n",
       "   ('ver', 0.0042683540387713379)]),\n",
       " (2.5785851656808263,\n",
       "  6,\n",
       "  [('confianza', 0.011195601829780593),\n",
       "   ('medidas', 0.0073284465365918939),\n",
       "   ('internacional', 0.0069353860030742119),\n",
       "   ('veces', 0.0065313313147629037),\n",
       "   ('única', 0.005515870694310779),\n",
       "   ('partes', 0.0044380504432719459),\n",
       "   ('sistema', 0.0042951279392326354),\n",
       "   ('república', 0.0042561337551491078),\n",
       "   ('verdad', 0.0041378446403733064),\n",
       "   ('colombiano', 0.0041378434139031483)]),\n",
       " (1.9173347318045435,\n",
       "  12,\n",
       "  [('puesto', 0.0062460641762541605),\n",
       "   ('clara', 0.0056173059988715319),\n",
       "   ('fuerza', 0.0051673023880712161),\n",
       "   ('hicimos', 0.0050853808711266522),\n",
       "   ('ciclos', 0.0050505094824822711),\n",
       "   ('región', 0.0050329527875274654),\n",
       "   ('propio', 0.0048968153859131249),\n",
       "   ('anterior', 0.0048014680130921139),\n",
       "   ('vida', 0.0046922652260022952),\n",
       "   ('tipos', 0.0046521182823783041)])]"
      ]
     },
     "execution_count": 21,
     "metadata": {},
     "output_type": "execute_result"
    }
   ],
   "source": [
    "hdp_best_topics_list[1][0]"
   ]
  },
  {
   "cell_type": "code",
   "execution_count": null,
   "metadata": {
    "collapsed": true
   },
   "outputs": [],
   "source": []
  }
 ],
 "metadata": {
  "kernelspec": {
   "display_name": "Python 3",
   "language": "python",
   "name": "python3"
  },
  "language_info": {
   "codemirror_mode": {
    "name": "ipython",
    "version": 3
   },
   "file_extension": ".py",
   "mimetype": "text/x-python",
   "name": "python",
   "nbconvert_exporter": "python",
   "pygments_lexer": "ipython3",
   "version": "3.5.2"
  }
 },
 "nbformat": 4,
 "nbformat_minor": 2
}
