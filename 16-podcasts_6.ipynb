{
 "cells": [
  {
   "cell_type": "markdown",
   "metadata": {},
   "source": [
    "# Podcast 6"
   ]
  },
  {
   "cell_type": "code",
   "execution_count": 1,
   "metadata": {},
   "outputs": [],
   "source": [
    "from collections import Counter\n",
    "from string import punctuation\n",
    "\n",
    "import nltk\n",
    "from nltk.corpus import stopwords"
   ]
  },
  {
   "cell_type": "markdown",
   "metadata": {},
   "source": [
    "## Loading data"
   ]
  },
  {
   "cell_type": "code",
   "execution_count": 2,
   "metadata": {},
   "outputs": [],
   "source": [
    "with open('data/aux/podcasts/transcriptions/6.txt') as f:\n",
    "    text = f.read()"
   ]
  },
  {
   "cell_type": "markdown",
   "metadata": {},
   "source": [
    "## Cleaning data"
   ]
  },
  {
   "cell_type": "code",
   "execution_count": 3,
   "metadata": {},
   "outputs": [],
   "source": [
    "chars = []\n",
    "for c in text:\n",
    "    if not c.isalnum():\n",
    "        chars.append(c)"
   ]
  },
  {
   "cell_type": "code",
   "execution_count": 4,
   "metadata": {},
   "outputs": [],
   "source": [
    "characters = set(chars)"
   ]
  },
  {
   "cell_type": "code",
   "execution_count": 5,
   "metadata": {},
   "outputs": [],
   "source": [
    "with open('data/stopwords/spanish_stopwords.txt') as f:\n",
    "    sp_stopwords = list(set(map(str.strip, f.readlines())))\n",
    "\n",
    "with open('data/stopwords/my_stopwords.txt') as f:\n",
    "    my_stopwords = list(set(map(str.strip, f.readlines())))\n",
    "\n",
    "stop = stopwords.words('spanish') + sp_stopwords + my_stopwords + list(punctuation) + list(characters)"
   ]
  },
  {
   "cell_type": "code",
   "execution_count": 6,
   "metadata": {},
   "outputs": [],
   "source": [
    "def clean1(s):\n",
    "    r = s.lower().strip()\n",
    "    rs = [w for w in nltk.word_tokenize(r) if w not in stop and len(w) > 2]\n",
    "    r = ' '.join(rs)\n",
    "    return r"
   ]
  },
  {
   "cell_type": "code",
   "execution_count": 7,
   "metadata": {},
   "outputs": [],
   "source": [
    "cleaned_text = clean1(text)"
   ]
  },
  {
   "cell_type": "code",
   "execution_count": 8,
   "metadata": {},
   "outputs": [
    {
     "name": "stdout",
     "output_type": "stream",
     "text": [
      "  2113\n",
      ". 7\n"
     ]
    }
   ],
   "source": [
    "for c in characters:\n",
    "    if c in cleaned_text:\n",
    "        print(c, cleaned_text.count(c))"
   ]
  },
  {
   "cell_type": "code",
   "execution_count": 9,
   "metadata": {},
   "outputs": [],
   "source": [
    "def clean2(s):\n",
    "    r = s\n",
    "    r = r.replace('¿', '')\n",
    "    r = r.replace('‑', '-')\n",
    "    r = r.replace('¡', '')\n",
    "    r = r.replace('—', '')\n",
    "    r = r.replace('-', '-')\n",
    "    return r"
   ]
  },
  {
   "cell_type": "code",
   "execution_count": 10,
   "metadata": {},
   "outputs": [],
   "source": [
    "cleaned_text = clean2(cleaned_text)"
   ]
  },
  {
   "cell_type": "markdown",
   "metadata": {},
   "source": [
    "## Processing data"
   ]
  },
  {
   "cell_type": "code",
   "execution_count": 11,
   "metadata": {},
   "outputs": [],
   "source": [
    "counter = Counter(cleaned_text.split())"
   ]
  },
  {
   "cell_type": "code",
   "execution_count": 12,
   "metadata": {},
   "outputs": [
    {
     "data": {
      "text/plain": [
       "[('imaginación', 26),\n",
       " ('ciencia', 19),\n",
       " ('paz', 16),\n",
       " ('literatura', 14),\n",
       " ('problema', 12),\n",
       " ('cápsulas', 11),\n",
       " ('resulta', 10),\n",
       " ('veces', 10),\n",
       " ('ver', 10),\n",
       " ('puedes', 8),\n",
       " ('cuenta', 8),\n",
       " ('posibilidades', 8),\n",
       " ('límites', 8),\n",
       " ('momento', 8),\n",
       " ('vez', 8),\n",
       " ('maestros', 8),\n",
       " ('parece', 7),\n",
       " ('historia', 7),\n",
       " ('precisamente', 7),\n",
       " ('quiere', 7),\n",
       " ('creatividad', 7),\n",
       " ('posibilidad', 7),\n",
       " ('palabra', 7),\n",
       " ('siempre', 7),\n",
       " ('realidad', 7),\n",
       " ('importante', 7),\n",
       " ('grandes', 7),\n",
       " ('pasar', 6),\n",
       " ('mirada', 6),\n",
       " ('bueno', 6),\n",
       " ('quiero', 6),\n",
       " ('interesante', 6),\n",
       " ('plantear', 6),\n",
       " ('muchachos', 6),\n",
       " ('solares', 6),\n",
       " ('crisis', 6),\n",
       " ('ocasión', 6),\n",
       " ('carta', 6),\n",
       " ('niño', 5),\n",
       " ('papeles', 5),\n",
       " ('pasó', 5),\n",
       " ('trabajo', 5),\n",
       " ('crear', 5),\n",
       " ('sueño', 5),\n",
       " ('habla', 5),\n",
       " ('deseo', 5),\n",
       " ('hecho', 5),\n",
       " ('debe', 5),\n",
       " ('libro', 5),\n",
       " ('hablando', 5),\n",
       " ('inteligencia', 5),\n",
       " ('luego', 5),\n",
       " ('cultura', 5),\n",
       " ('mundo', 5),\n",
       " ('pasa', 5),\n",
       " ('energía', 5),\n",
       " ('maestra', 5),\n",
       " ('entender', 5),\n",
       " ('manera', 5),\n",
       " ('capacidad', 5),\n",
       " ('llama', 5),\n",
       " ('encontrar', 4),\n",
       " ('memoria', 4),\n",
       " ('universo', 4),\n",
       " ('galaxias', 4),\n",
       " ('diciendo', 4),\n",
       " ('justamente', 4),\n",
       " ('compartir', 4),\n",
       " ('fenómeno', 4),\n",
       " ('menos', 4),\n",
       " ('comunicación', 4),\n",
       " ('libros', 4),\n",
       " ('relato', 4),\n",
       " ('madre', 4),\n",
       " ('gran', 4),\n",
       " ('sentir', 4),\n",
       " ('siglo', 4),\n",
       " ('marco', 4),\n",
       " ('palabras', 4),\n",
       " ('abrazo', 4),\n",
       " ('conseguir', 4),\n",
       " ('ejemplo', 4),\n",
       " ('nivel', 4),\n",
       " ('pues', 4),\n",
       " ('educación', 4),\n",
       " ('repente', 4),\n",
       " ('caminos', 4),\n",
       " ('inconcebible', 4),\n",
       " ('pensamiento', 4),\n",
       " ('encuentro', 4),\n",
       " ('solar', 4),\n",
       " ('gracias', 4),\n",
       " ('información', 4),\n",
       " ('imaginar', 4),\n",
       " ('partes', 4),\n",
       " ('muchacho', 4),\n",
       " ('ocurre', 4),\n",
       " ('parte', 4),\n",
       " ('iba', 4),\n",
       " ('verdad', 4)]"
      ]
     },
     "execution_count": 12,
     "metadata": {},
     "output_type": "execute_result"
    }
   ],
   "source": [
    "counter.most_common(100)"
   ]
  },
  {
   "cell_type": "markdown",
   "metadata": {},
   "source": [
    "## Saving data"
   ]
  },
  {
   "cell_type": "code",
   "execution_count": 13,
   "metadata": {},
   "outputs": [],
   "source": [
    "with open('data/out/cleaned_podcast_6.txt', 'w') as f:\n",
    "    f.write(cleaned_text)"
   ]
  },
  {
   "cell_type": "code",
   "execution_count": null,
   "metadata": {},
   "outputs": [],
   "source": []
  }
 ],
 "metadata": {
  "kernelspec": {
   "display_name": "Python 3",
   "language": "python",
   "name": "python3"
  },
  "language_info": {
   "codemirror_mode": {
    "name": "ipython",
    "version": 3
   },
   "file_extension": ".py",
   "mimetype": "text/x-python",
   "name": "python",
   "nbconvert_exporter": "python",
   "pygments_lexer": "ipython3",
   "version": "3.5.2"
  }
 },
 "nbformat": 4,
 "nbformat_minor": 2
}
