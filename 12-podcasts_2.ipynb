{
 "cells": [
  {
   "cell_type": "markdown",
   "metadata": {},
   "source": [
    "# Podcast 2"
   ]
  },
  {
   "cell_type": "code",
   "execution_count": 1,
   "metadata": {},
   "outputs": [],
   "source": [
    "from collections import Counter\n",
    "from string import punctuation\n",
    "\n",
    "import nltk\n",
    "from nltk.corpus import stopwords"
   ]
  },
  {
   "cell_type": "markdown",
   "metadata": {},
   "source": [
    "## Loading data"
   ]
  },
  {
   "cell_type": "code",
   "execution_count": 2,
   "metadata": {},
   "outputs": [],
   "source": [
    "with open('data/aux/podcasts/transcriptions/2.txt') as f:\n",
    "    text = f.read()"
   ]
  },
  {
   "cell_type": "markdown",
   "metadata": {},
   "source": [
    "## Cleaning data"
   ]
  },
  {
   "cell_type": "code",
   "execution_count": 3,
   "metadata": {},
   "outputs": [],
   "source": [
    "chars = []\n",
    "for c in text:\n",
    "    if not c.isalnum():\n",
    "        chars.append(c)"
   ]
  },
  {
   "cell_type": "code",
   "execution_count": 4,
   "metadata": {},
   "outputs": [],
   "source": [
    "characters = set(chars)"
   ]
  },
  {
   "cell_type": "code",
   "execution_count": 5,
   "metadata": {},
   "outputs": [],
   "source": [
    "with open('data/stopwords/spanish_stopwords.txt') as f:\n",
    "    sp_stopwords = list(set(map(str.strip, f.readlines())))\n",
    "\n",
    "with open('data/stopwords/my_stopwords.txt') as f:\n",
    "    my_stopwords = list(set(map(str.strip, f.readlines())))\n",
    "\n",
    "stop = stopwords.words('spanish') + sp_stopwords + my_stopwords + list(punctuation) + list(characters)"
   ]
  },
  {
   "cell_type": "code",
   "execution_count": 6,
   "metadata": {},
   "outputs": [],
   "source": [
    "def clean1(s):\n",
    "    r = s.lower().strip()\n",
    "    rs = [w for w in nltk.word_tokenize(r) if w not in stop and len(w) > 2]\n",
    "    r = ' '.join(rs)\n",
    "    return r"
   ]
  },
  {
   "cell_type": "code",
   "execution_count": 7,
   "metadata": {},
   "outputs": [],
   "source": [
    "cleaned_text = clean1(text)"
   ]
  },
  {
   "cell_type": "code",
   "execution_count": 8,
   "metadata": {},
   "outputs": [
    {
     "name": "stdout",
     "output_type": "stream",
     "text": [
      "  950\n",
      ". 2\n"
     ]
    }
   ],
   "source": [
    "for c in characters:\n",
    "    if c in cleaned_text:\n",
    "        print(c, cleaned_text.count(c))"
   ]
  },
  {
   "cell_type": "code",
   "execution_count": 9,
   "metadata": {},
   "outputs": [],
   "source": [
    "def clean2(s):\n",
    "    r = s\n",
    "    r = r.replace('¿', '')\n",
    "    r = r.replace('‑', '-')\n",
    "    r = r.replace('¡', '')\n",
    "    r = r.replace('—', '')\n",
    "    r = r.replace('-', '-')\n",
    "    return r"
   ]
  },
  {
   "cell_type": "code",
   "execution_count": 10,
   "metadata": {},
   "outputs": [],
   "source": [
    "cleaned_text = clean2(cleaned_text)"
   ]
  },
  {
   "cell_type": "markdown",
   "metadata": {},
   "source": [
    "## Processing data"
   ]
  },
  {
   "cell_type": "code",
   "execution_count": 11,
   "metadata": {},
   "outputs": [],
   "source": [
    "counter = Counter(cleaned_text.split())"
   ]
  },
  {
   "cell_type": "code",
   "execution_count": 12,
   "metadata": {},
   "outputs": [
    {
     "data": {
      "text/plain": [
       "[('palabra', 20),\n",
       " ('paz', 13),\n",
       " ('palabras', 7),\n",
       " ('pájaro', 7),\n",
       " ('disputa', 6),\n",
       " ('comunidad', 6),\n",
       " ('país', 6),\n",
       " ('conocimiento', 6),\n",
       " ('gente', 6),\n",
       " ('seducción', 5),\n",
       " ('manera', 5),\n",
       " ('caminos', 5),\n",
       " ('mediadores', 5),\n",
       " ('partes', 4),\n",
       " ('agua', 4),\n",
       " ('personas', 4),\n",
       " ('restaurar', 4),\n",
       " ('oficio', 4),\n",
       " ('debe', 4),\n",
       " ('sociales', 4),\n",
       " ('conjunto', 4),\n",
       " ('hablar', 4),\n",
       " ('humanos', 4),\n",
       " ('wayúu', 4),\n",
       " ('social', 4),\n",
       " ('tradición', 4),\n",
       " ('mediador', 4),\n",
       " ('fuerza', 3),\n",
       " ('claro', 3),\n",
       " ('importante', 3),\n",
       " ('hombre', 3),\n",
       " ('pasado', 3),\n",
       " ('demasiado', 3),\n",
       " ('siempre', 3),\n",
       " ('ejemplo', 3),\n",
       " ('conflictos', 3),\n",
       " ('relaciones', 3),\n",
       " ('carpintero', 3),\n",
       " ('familias', 3),\n",
       " ('además', 3),\n",
       " ('decidió', 3),\n",
       " ('conflicto', 3),\n",
       " ('memoria', 3),\n",
       " ('peligros', 3),\n",
       " ('historia', 3),\n",
       " ('colombia', 3),\n",
       " ('llevar', 3),\n",
       " ('cuento', 3),\n",
       " ('crees', 3),\n",
       " ('equilibrio', 3),\n",
       " ('consigue', 3),\n",
       " ('solución', 3),\n",
       " ('proceso', 3),\n",
       " ('seres', 3),\n",
       " ('acuerdo', 3),\n",
       " ('murciélago', 3),\n",
       " ('parte', 3),\n",
       " ('mediación', 3),\n",
       " ('ultra', 2),\n",
       " ('amenazante', 2),\n",
       " ('república', 2),\n",
       " ('años', 2),\n",
       " ('pequeña', 2),\n",
       " ('ello', 2),\n",
       " ('tradicional', 2),\n",
       " ('pueblo', 2),\n",
       " ('trata', 2),\n",
       " ('forma', 2),\n",
       " ('humana', 2),\n",
       " ('momentos', 2),\n",
       " ('casa', 2),\n",
       " ('valor', 2),\n",
       " ('colón', 2),\n",
       " ('simplemente', 2),\n",
       " ('duro', 2),\n",
       " ('utah', 2),\n",
       " ('justamente', 2),\n",
       " ('buscar', 2),\n",
       " ('quiere', 2),\n",
       " ('animales', 2),\n",
       " ('humano', 2),\n",
       " ('siguen', 2),\n",
       " ('sensación', 2),\n",
       " ('jurídico', 2),\n",
       " ('ver', 2),\n",
       " ('nunca', 2),\n",
       " ('día', 2),\n",
       " ('entender', 2),\n",
       " ('vuelven', 2),\n",
       " ('arreglo', 2),\n",
       " ('eventos', 2),\n",
       " ('mujer', 2),\n",
       " ('relatos', 2),\n",
       " ('intrigante', 2),\n",
       " ('retórica', 2),\n",
       " ('inmerso', 2),\n",
       " ('miedo', 2),\n",
       " ('guerra', 2),\n",
       " ('disputas', 2),\n",
       " ('actualidad', 2)]"
      ]
     },
     "execution_count": 12,
     "metadata": {},
     "output_type": "execute_result"
    }
   ],
   "source": [
    "counter.most_common(100)"
   ]
  },
  {
   "cell_type": "markdown",
   "metadata": {},
   "source": [
    "## Saving data"
   ]
  },
  {
   "cell_type": "code",
   "execution_count": 13,
   "metadata": {},
   "outputs": [],
   "source": [
    "with open('data/out/cleaned_podcast_2.txt', 'w') as f:\n",
    "    f.write(cleaned_text)"
   ]
  },
  {
   "cell_type": "code",
   "execution_count": null,
   "metadata": {},
   "outputs": [],
   "source": []
  }
 ],
 "metadata": {
  "kernelspec": {
   "display_name": "Python 3",
   "language": "python",
   "name": "python3"
  },
  "language_info": {
   "codemirror_mode": {
    "name": "ipython",
    "version": 3
   },
   "file_extension": ".py",
   "mimetype": "text/x-python",
   "name": "python",
   "nbconvert_exporter": "python",
   "pygments_lexer": "ipython3",
   "version": "3.5.2"
  }
 },
 "nbformat": 4,
 "nbformat_minor": 2
}
