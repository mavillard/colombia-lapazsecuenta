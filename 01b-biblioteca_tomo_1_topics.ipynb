{
 "cells": [
  {
   "cell_type": "markdown",
   "metadata": {},
   "source": [
    "# Tomo 1"
   ]
  },
  {
   "cell_type": "code",
   "execution_count": 1,
   "metadata": {
    "collapsed": true
   },
   "outputs": [],
   "source": [
    "import os\n",
    "from collections import Counter, defaultdict\n",
    "from string import punctuation\n",
    "\n",
    "import nltk\n",
    "from gensim import corpora, models\n",
    "from nltk.corpus import stopwords"
   ]
  },
  {
   "cell_type": "markdown",
   "metadata": {},
   "source": [
    "## Loading data"
   ]
  },
  {
   "cell_type": "code",
   "execution_count": 2,
   "metadata": {},
   "outputs": [],
   "source": [
    "def key_sort_files(x):\n",
    "    return int(x[:-4].split('-')[0])\n",
    "\n",
    "path = 'data/aux/biblioteca/text_parts/1/'\n",
    "unsorted_file_list = [filename for filename in os.listdir(path) if filename.endswith('.txt')]\n",
    "file_list = sorted(unsorted_file_list, key=key_sort_files)\n",
    "\n",
    "raw_texts = []\n",
    "for filename in file_list:\n",
    "    with open(path + filename) as f:\n",
    "        raw_texts.append(f.read())"
   ]
  },
  {
   "cell_type": "markdown",
   "metadata": {},
   "source": [
    "## Cleaning data"
   ]
  },
  {
   "cell_type": "code",
   "execution_count": 3,
   "metadata": {
    "collapsed": true
   },
   "outputs": [],
   "source": [
    "chars = []\n",
    "for text in raw_texts:\n",
    "    for c in text:\n",
    "        if not c.isalnum():\n",
    "            chars.append(c)"
   ]
  },
  {
   "cell_type": "code",
   "execution_count": 4,
   "metadata": {
    "collapsed": true
   },
   "outputs": [],
   "source": [
    "characters = set(chars)"
   ]
  },
  {
   "cell_type": "code",
   "execution_count": 5,
   "metadata": {
    "collapsed": true
   },
   "outputs": [],
   "source": [
    "with open('data/stopwords/spanish_stopwords.txt') as f:\n",
    "    sp_stopwords = list(set(map(str.strip, f.readlines())))\n",
    "\n",
    "with open('data/stopwords/my_stopwords.txt') as f:\n",
    "    my_stopwords = list(set(map(str.strip, f.readlines())))\n",
    "\n",
    "stop = stopwords.words('spanish') + sp_stopwords + my_stopwords + list(punctuation) + list(characters)"
   ]
  },
  {
   "cell_type": "code",
   "execution_count": 6,
   "metadata": {
    "collapsed": true
   },
   "outputs": [],
   "source": [
    "def clean(s):\n",
    "    r = s.lower().strip()\n",
    "    for c in characters:\n",
    "        r = r.replace(c, ' ')\n",
    "    r = r.replace('farc ep', 'farc-ep')\n",
    "    r = r.replace('confianz a', 'confianza')\n",
    "    r = r.replace('cons trucción', 'construcción')\n",
    "    rs = [w for w in nltk.word_tokenize(r) if w not in stop and len(w) > 2 and not w.isdecimal()]\n",
    "    r = ' '.join(rs)\n",
    "    return r"
   ]
  },
  {
   "cell_type": "code",
   "execution_count": 7,
   "metadata": {
    "collapsed": true
   },
   "outputs": [],
   "source": [
    "cleaned_texts = [clean(text) for text in raw_texts]"
   ]
  },
  {
   "cell_type": "code",
   "execution_count": 8,
   "metadata": {},
   "outputs": [
    {
     "data": {
      "text/plain": [
       "defaultdict(int, {' ': 37776, '-': 417})"
      ]
     },
     "execution_count": 8,
     "metadata": {},
     "output_type": "execute_result"
    }
   ],
   "source": [
    "char_counter = defaultdict(int)\n",
    "for c in characters:\n",
    "    for text in cleaned_texts:\n",
    "        if c in text:\n",
    "            char_counter[c]+=text.count(c)\n",
    "char_counter"
   ]
  },
  {
   "cell_type": "markdown",
   "metadata": {},
   "source": [
    "## Preparing data"
   ]
  },
  {
   "cell_type": "code",
   "execution_count": 9,
   "metadata": {
    "collapsed": true
   },
   "outputs": [],
   "source": [
    "documents = cleaned_texts"
   ]
  },
  {
   "cell_type": "code",
   "execution_count": 10,
   "metadata": {
    "collapsed": true
   },
   "outputs": [],
   "source": [
    "document = ' '.join(documents)"
   ]
  },
  {
   "cell_type": "code",
   "execution_count": 11,
   "metadata": {
    "collapsed": true
   },
   "outputs": [],
   "source": [
    "# counter = Counter(document.split())\n",
    "\n",
    "# def is_too_common(word, n):\n",
    "#     return all(map(lambda x: x.count(word) >= n, documents))"
   ]
  },
  {
   "cell_type": "code",
   "execution_count": 12,
   "metadata": {
    "collapsed": true
   },
   "outputs": [],
   "source": [
    "# Only texts that contain MORE THAN or EQUALS TO 100 words\n",
    "texts = [[word for word in document.split()] for document in documents if len(document.split()) >= 100]"
   ]
  },
  {
   "cell_type": "code",
   "execution_count": 13,
   "metadata": {},
   "outputs": [
    {
     "data": {
      "text/plain": [
       "35"
      ]
     },
     "execution_count": 13,
     "metadata": {},
     "output_type": "execute_result"
    }
   ],
   "source": [
    "len(texts)"
   ]
  },
  {
   "cell_type": "code",
   "execution_count": 14,
   "metadata": {
    "collapsed": true
   },
   "outputs": [],
   "source": [
    "dictionary = corpora.Dictionary(texts)"
   ]
  },
  {
   "cell_type": "code",
   "execution_count": 15,
   "metadata": {},
   "outputs": [
    {
     "data": {
      "text/plain": [
       "8832"
      ]
     },
     "execution_count": 15,
     "metadata": {},
     "output_type": "execute_result"
    }
   ],
   "source": [
    "len(dictionary)"
   ]
  },
  {
   "cell_type": "code",
   "execution_count": 16,
   "metadata": {},
   "outputs": [],
   "source": [
    "min_df = 5\n",
    "max_df = 0.6\n",
    "max_features = 8832\n",
    "dictionary.filter_extremes(no_below=min_df, no_above=max_df, keep_n=max_features)"
   ]
  },
  {
   "cell_type": "code",
   "execution_count": 17,
   "metadata": {},
   "outputs": [
    {
     "name": "stdout",
     "output_type": "stream",
     "text": [
      "Dictionary(984 unique tokens: ['segunda', 'veces', 'fuerzas', 'mil', 'número']...)\n"
     ]
    }
   ],
   "source": [
    "print(dictionary)"
   ]
  },
  {
   "cell_type": "code",
   "execution_count": 18,
   "metadata": {
    "collapsed": true
   },
   "outputs": [],
   "source": [
    "corpus = [dictionary.doc2bow(text) for text in texts]"
   ]
  },
  {
   "cell_type": "code",
   "execution_count": 19,
   "metadata": {
    "collapsed": true
   },
   "outputs": [],
   "source": [
    "tfidf = models.TfidfModel(corpus)"
   ]
  },
  {
   "cell_type": "code",
   "execution_count": 20,
   "metadata": {},
   "outputs": [
    {
     "name": "stdout",
     "output_type": "stream",
     "text": [
      "TfidfModel(num_docs=35, num_nnz=8357)\n"
     ]
    }
   ],
   "source": [
    "print(tfidf)"
   ]
  },
  {
   "cell_type": "code",
   "execution_count": 21,
   "metadata": {
    "collapsed": true
   },
   "outputs": [],
   "source": [
    "corpus_tfidf = tfidf[corpus]"
   ]
  },
  {
   "cell_type": "markdown",
   "metadata": {},
   "source": [
    "## Topic analysis"
   ]
  },
  {
   "cell_type": "markdown",
   "metadata": {},
   "source": [
    "### LSI"
   ]
  },
  {
   "cell_type": "code",
   "execution_count": 22,
   "metadata": {
    "collapsed": true
   },
   "outputs": [],
   "source": [
    "N_TOPICS = 35"
   ]
  },
  {
   "cell_type": "code",
   "execution_count": 23,
   "metadata": {
    "collapsed": true
   },
   "outputs": [],
   "source": [
    "lsi = models.LsiModel(corpus_tfidf, id2word=dictionary, num_topics=N_TOPICS) # initialize an LSI transformation\n",
    "corpus_lsi = lsi[corpus_tfidf]"
   ]
  },
  {
   "cell_type": "code",
   "execution_count": 24,
   "metadata": {},
   "outputs": [
    {
     "data": {
      "text/plain": [
       "35"
      ]
     },
     "execution_count": 24,
     "metadata": {},
     "output_type": "execute_result"
    }
   ],
   "source": [
    "lsi.num_topics"
   ]
  },
  {
   "cell_type": "code",
   "execution_count": 25,
   "metadata": {},
   "outputs": [
    {
     "data": {
      "text/plain": [
       "[(0,\n",
       "  '0.155*\"mesa\" + 0.120*\"farc\" + 0.113*\"fase\" + 0.105*\"agenda\" + 0.103*\"delegados\" + 0.101*\"programas\" + 0.094*\"exploratorio\" + 0.093*\"general\" + 0.089*\"víctimas\" + 0.079*\"participación\"'),\n",
       " (1,\n",
       "  '-0.267*\"delegados\" + -0.196*\"pablo\" + 0.182*\"programas\" + -0.175*\"traslado\" + -0.167*\"cicr\" + -0.157*\"acta\" + -0.142*\"catatumbo\" + -0.125*\"secreto\" + -0.123*\"plenipotenciario\" + -0.123*\"farc\"'),\n",
       " (2,\n",
       "  '0.230*\"plenipotenciario\" + -0.225*\"pablo\" + 0.176*\"acta\" + 0.172*\"exploratorio\" + -0.160*\"catatumbo\" + -0.142*\"abrazo\" + -0.140*\"carta\" + 0.135*\"actasyacuerdos\" + -0.131*\"amigo\" + 0.130*\"delegado\"'),\n",
       " (3,\n",
       "  '-0.340*\"programas\" + 0.159*\"sergio\" + -0.148*\"acceso\" + -0.139*\"mecanismos\" + 0.139*\"jaramillo\" + 0.132*\"doctor\" + -0.127*\"pablo\" + 0.118*\"presidencia\" + -0.118*\"planes\" + -0.114*\"regionales\"'),\n",
       " (4,\n",
       "  '-0.170*\"farc\" + -0.163*\"traslado\" + 0.147*\"mesa\" + -0.145*\"mundo\" + -0.145*\"orchila\" + 0.143*\"pablo\" + 0.141*\"estable\" + 0.140*\"duradera\" + 0.139*\"delegaciones\" + -0.132*\"cicr\"'),\n",
       " (5,\n",
       "  '0.392*\"presidencia\" + 0.284*\"sergio\" + 0.247*\"comisionado\" + 0.244*\"alto\" + 0.172*\"farc\" + 0.170*\"doctor\" + 0.135*\"departamento\" + 0.112*\"zona\" + 0.106*\"jaramillo\" + 0.105*\"cargo\"'),\n",
       " (6,\n",
       "  '0.203*\"comandante\" + 0.197*\"abril\" + -0.184*\"sergio\" + 0.163*\"pueblo\" + 0.153*\"alfonso\" + -0.152*\"presidencia\" + 0.147*\"combate\" + -0.146*\"doctor\" + -0.145*\"paso\" + 0.144*\"mayo\"'),\n",
       " (7,\n",
       "  '-0.273*\"farc\" + 0.216*\"plenipotenciario\" + -0.193*\"fase\" + -0.152*\"zona\" + -0.137*\"abril\" + 0.132*\"mesa\" + -0.121*\"agenda\" + 0.113*\"actasyacuerdos\" + 0.113*\"patria\" + -0.108*\"tres\"'),\n",
       " (8,\n",
       "  '-0.238*\"comandante\" + 0.207*\"mesa\" + 0.183*\"plenipotenciario\" + 0.182*\"farc\" + -0.158*\"alfonso\" + -0.151*\"combate\" + -0.148*\"timoleón\" + -0.137*\"jiménez\" + 0.133*\"actasyacuerdos\" + -0.120*\"programas\"'),\n",
       " (9,\n",
       "  '-0.250*\"dolor\" + -0.208*\"llamado\" + -0.206*\"supone\" + -0.175*\"décadas\" + 0.154*\"agenda\" + 0.153*\"mesa\" + -0.144*\"requiere\" + -0.139*\"programas\" + -0.133*\"estable\" + -0.129*\"duradera\"'),\n",
       " (10,\n",
       "  '-0.249*\"mesa\" + 0.160*\"plenipotenciario\" + -0.145*\"combate\" + -0.141*\"presidencia\" + 0.131*\"salida\" + -0.124*\"solución\" + 0.120*\"interno\" + 0.120*\"exploratorio\" + -0.118*\"comandante\" + 0.115*\"paso\"'),\n",
       " (11,\n",
       "  '-0.231*\"abril\" + -0.195*\"dela\" + -0.176*\"paso\" + -0.153*\"doctor\" + -0.150*\"congreso\" + 0.149*\"debería\" + -0.137*\"mayo\" + 0.129*\"presidencia\" + -0.126*\"reforma\" + 0.114*\"actores\"'),\n",
       " (12,\n",
       "  '-0.147*\"febrero\" + -0.139*\"mensajes\" + -0.135*\"ricardo\" + -0.132*\"mauricio\" + -0.131*\"encuentros\" + 0.123*\"dela\" + -0.115*\"comandante\" + 0.111*\"carta\" + 0.110*\"ley\" + 0.110*\"iniciativa\"'),\n",
       " (13,\n",
       "  '-0.152*\"abril\" + -0.146*\"presidencia\" + -0.130*\"mayo\" + -0.123*\"dela\" + 0.110*\"exploratorias\" + -0.110*\"ver\" + 0.109*\"fase\" + -0.107*\"caguán\" + 0.105*\"farc\" + 0.100*\"diferente\"'),\n",
       " (14,\n",
       "  '-0.176*\"debería\" + 0.167*\"mundo\" + 0.152*\"víctimas\" + -0.150*\"secreto\" + -0.143*\"asamblea\" + 0.139*\"exploratorio\" + 0.136*\"farc\" + 0.129*\"plenipotenciario\" + -0.116*\"traslado\" + -0.115*\"supone\"'),\n",
       " (15,\n",
       "  '0.194*\"iniciativa\" + 0.191*\"alfonso\" + 0.136*\"respuesta\" + 0.125*\"cano\" + 0.112*\"respeto\" + -0.108*\"debería\" + 0.103*\"generar\" + -0.099*\"lograr\" + 0.098*\"puerto\" + 0.098*\"caso\"'),\n",
       " (16,\n",
       "  '-0.196*\"cicr\" + -0.155*\"encuentros\" + 0.137*\"contacto\" + -0.135*\"febrero\" + 0.133*\"seriedad\" + 0.130*\"zona\" + 0.129*\"comandantes\" + 0.128*\"esperamos\" + 0.121*\"bolivariano\" + -0.115*\"mensajes\"'),\n",
       " (17,\n",
       "  '0.220*\"presidencia\" + -0.147*\"equipo\" + 0.142*\"plenipotenciario\" + 0.131*\"alto\" + -0.130*\"buena\" + 0.122*\"sergio\" + 0.116*\"alfonso\" + -0.115*\"negociadores\" + -0.110*\"presidencial\" + 0.110*\"hablar\"'),\n",
       " (18,\n",
       "  '-0.164*\"ley\" + 0.164*\"paso\" + -0.163*\"presidencia\" + -0.153*\"reparación\" + 0.129*\"plenipotenciario\" + 0.116*\"farc\" + -0.114*\"carlos\" + 0.111*\"doctor\" + -0.109*\"delegado\" + -0.107*\"mesa\"'),\n",
       " (19,\n",
       "  '0.150*\"presidencia\" + -0.137*\"zona\" + -0.125*\"paso\" + -0.122*\"luis\" + 0.119*\"carta\" + 0.113*\"abril\" + -0.113*\"actores\" + -0.111*\"mensaje\" + -0.107*\"uribe\" + 0.106*\"cicr\"'),\n",
       " (20,\n",
       "  '-0.175*\"mauricio\" + 0.148*\"presidencia\" + 0.144*\"secreto\" + -0.140*\"mesa\" + 0.124*\"estable\" + 0.119*\"cierre\" + 0.114*\"duradera\" + -0.114*\"atención\" + -0.105*\"zona\" + -0.104*\"delegación\"'),\n",
       " (21,\n",
       "  '-0.248*\"ley\" + -0.172*\"secreto\" + -0.159*\"víctimas\" + -0.147*\"reparación\" + -0.124*\"paso\" + 0.121*\"mundo\" + -0.114*\"combate\" + -0.110*\"comandante\" + 0.104*\"dejar\" + 0.101*\"presidencia\"'),\n",
       " (22,\n",
       "  '0.145*\"hablar\" + 0.144*\"exploratorias\" + -0.132*\"ministerio\" + -0.128*\"realmente\" + -0.123*\"guerrilla\" + 0.123*\"equipo\" + 0.122*\"diferente\" + -0.113*\"negociación\" + 0.105*\"doctor\" + -0.103*\"mando\"'),\n",
       " (23,\n",
       "  '-0.368*\"secreto\" + 0.217*\"cicr\" + -0.173*\"exploratorio\" + 0.141*\"delegado\" + -0.130*\"brasil\" + 0.130*\"febrero\" + 0.116*\"mensajes\" + 0.105*\"traslado\" + 0.103*\"consecuencias\" + -0.102*\"catatumbo\"'),\n",
       " (24,\n",
       "  '-0.302*\"secreto\" + 0.149*\"exploratorio\" + 0.147*\"presidencia\" + -0.123*\"relaciones\" + 0.122*\"abrazo\" + 0.120*\"gran\" + 0.118*\"mando\" + -0.115*\"información\" + -0.115*\"delegado\" + 0.113*\"permiso\"'),\n",
       " (25,\n",
       "  '0.218*\"paso\" + -0.182*\"negociadores\" + -0.149*\"patria\" + 0.128*\"mesa\" + -0.125*\"presidencia\" + -0.118*\"equipo\" + -0.103*\"grandes\" + -0.099*\"trabajo\" + -0.091*\"fase\" + -0.087*\"trata\"'),\n",
       " (26,\n",
       "  '-0.187*\"plenipotenciario\" + -0.179*\"cicr\" + -0.146*\"fase\" + -0.110*\"reconocer\" + -0.105*\"delegado\" + 0.103*\"cierre\" + 0.100*\"garantes\" + -0.099*\"siguientes\" + -0.098*\"ejemplo\" + 0.097*\"objetivo\"'),\n",
       " (27,\n",
       "  '-0.226*\"negociación\" + 0.200*\"mundo\" + -0.169*\"naciones\" + 0.141*\"zona\" + -0.135*\"zonas\" + 0.134*\"delegado\" + -0.127*\"farc\" + 0.098*\"traslado\" + 0.098*\"enero\" + -0.095*\"visión\"'),\n",
       " (28,\n",
       "  '-0.203*\"cicr\" + -0.182*\"delegado\" + -0.126*\"traslado\" + 0.118*\"oslo\" + 0.116*\"garantes\" + 0.113*\"farc\" + -0.112*\"construir\" + 0.109*\"ley\" + 0.101*\"regreso\" + -0.099*\"programas\"'),\n",
       " (29,\n",
       "  '-0.132*\"enero\" + 0.130*\"estable\" + -0.128*\"mando\" + 0.110*\"duradera\" + 0.109*\"ejemplo\" + -0.107*\"marzo\" + -0.104*\"agenda\" + -0.103*\"alejandro\" + -0.101*\"pública\" + -0.095*\"año\"'),\n",
       " (30,\n",
       "  '0.149*\"general\" + 0.133*\"cierre\" + -0.129*\"plenipotenciario\" + 0.128*\"negociadores\" + -0.125*\"exploratorio\" + 0.113*\"enrique\" + 0.102*\"delegado\" + 0.102*\"delegaciones\" + 0.095*\"estable\" + -0.094*\"sector\"'),\n",
       " (31,\n",
       "  '-0.173*\"exploratorio\" + 0.168*\"diálogo\" + 0.137*\"facilitar\" + 0.128*\"agosto\" + -0.125*\"preparatoria\" + 0.120*\"acta\" + -0.119*\"actas\" + -0.119*\"plenipotenciario\" + 0.118*\"delegaciones\" + 0.114*\"marzo\"'),\n",
       " (32,\n",
       "  '-0.203*\"exploratorio\" + 0.194*\"agosto\" + -0.147*\"dela\" + -0.124*\"delegado\" + 0.123*\"acercamientos\" + -0.118*\"diálogo\" + 0.114*\"orchila\" + -0.113*\"diálogos\" + -0.098*\"enorme\" + -0.098*\"definitiva\"'),\n",
       " (33,\n",
       "  '0.212*\"traslado\" + -0.193*\"delegado\" + 0.175*\"interior\" + 0.168*\"mecanismo\" + -0.161*\"partes\" + 0.158*\"interno\" + 0.156*\"confidencialidad\" + -0.153*\"escrito\" + -0.142*\"febrero\" + -0.141*\"venezuela\"'),\n",
       " (34,\n",
       "  '0.256*\"cumplimiento\" + 0.185*\"medidas\" + -0.169*\"mujeres\" + 0.148*\"correspondientes\" + 0.139*\"cronograma\" + 0.137*\"partidos\" + -0.119*\"social\" + -0.117*\"necesidad\" + 0.111*\"vida\" + -0.110*\"decisiones\"')]"
      ]
     },
     "execution_count": 25,
     "metadata": {},
     "output_type": "execute_result"
    }
   ],
   "source": [
    "lsi.print_topics(lsi.num_topics)"
   ]
  },
  {
   "cell_type": "code",
   "execution_count": 26,
   "metadata": {},
   "outputs": [
    {
     "data": {
      "text/plain": [
       "[(0, 15),\n",
       " (1, 3),\n",
       " (2, 3),\n",
       " (3, 2),\n",
       " (12, 2),\n",
       " (5, 1),\n",
       " (6, 1),\n",
       " (7, 1),\n",
       " (8, 1),\n",
       " (9, 1),\n",
       " (11, 1),\n",
       " (14, 1),\n",
       " (15, 1),\n",
       " (16, 1),\n",
       " (23, 1)]"
      ]
     },
     "execution_count": 26,
     "metadata": {},
     "output_type": "execute_result"
    }
   ],
   "source": [
    "def get_predominant_topic(doc):\n",
    "    return sorted(doc, key=lambda x: abs(x[1]), reverse=True)[0][0]\n",
    "\n",
    "predominant_topics = []\n",
    "for doc in corpus_lsi: # both bow->tfidf and tfidf->lsi transformations are actually executed here, on the fly\n",
    "    predominant_topics.append(get_predominant_topic(doc))\n",
    "Counter(predominant_topics).most_common()\n",
    "# result: (topic_id, number of documents)"
   ]
  },
  {
   "cell_type": "markdown",
   "metadata": {},
   "source": [
    "### LDA"
   ]
  },
  {
   "cell_type": "code",
   "execution_count": 44,
   "metadata": {
    "collapsed": true
   },
   "outputs": [],
   "source": [
    "N_TOPICS = 6"
   ]
  },
  {
   "cell_type": "code",
   "execution_count": 45,
   "metadata": {
    "collapsed": true
   },
   "outputs": [],
   "source": [
    "lda = models.LdaModel(corpus, id2word=dictionary, num_topics=N_TOPICS)\n",
    "corpus_lda = lda[corpus]"
   ]
  },
  {
   "cell_type": "code",
   "execution_count": 46,
   "metadata": {},
   "outputs": [
    {
     "data": {
      "text/plain": [
       "6"
      ]
     },
     "execution_count": 46,
     "metadata": {},
     "output_type": "execute_result"
    }
   ],
   "source": [
    "lda.num_topics"
   ]
  },
  {
   "cell_type": "code",
   "execution_count": 47,
   "metadata": {},
   "outputs": [
    {
     "data": {
      "text/plain": [
       "[(0,\n",
       "  '0.007*\"participación\" + 0.007*\"víctimas\" + 0.007*\"años\" + 0.007*\"mesa\" + 0.007*\"final\" + 0.006*\"desarrollo\" + 0.006*\"agenda\" + 0.006*\"fase\" + 0.006*\"marco\" + 0.006*\"general\"'),\n",
       " (1,\n",
       "  '0.010*\"mesa\" + 0.008*\"general\" + 0.007*\"desarrollo\" + 0.007*\"farc\" + 0.006*\"delegados\" + 0.005*\"participación\" + 0.005*\"agenda\" + 0.005*\"marco\" + 0.005*\"noruega\" + 0.005*\"conversaciones\"'),\n",
       " (2,\n",
       "  '0.013*\"delegados\" + 0.010*\"farc\" + 0.009*\"venezuela\" + 0.009*\"partes\" + 0.007*\"negociación\" + 0.006*\"noruega\" + 0.006*\"exploratorio\" + 0.006*\"mesa\" + 0.006*\"agenda\" + 0.006*\"víctimas\"'),\n",
       " (3,\n",
       "  '0.008*\"farc\" + 0.007*\"mesa\" + 0.007*\"agenda\" + 0.006*\"social\" + 0.006*\"exploratorio\" + 0.006*\"pueblo\" + 0.006*\"marco\" + 0.006*\"participación\" + 0.006*\"desarrollo\" + 0.006*\"general\"'),\n",
       " (4,\n",
       "  '0.016*\"farc\" + 0.006*\"hoy\" + 0.006*\"fase\" + 0.006*\"exploratorio\" + 0.005*\"zona\" + 0.005*\"colombianos\" + 0.005*\"mesa\" + 0.005*\"general\" + 0.005*\"seguridad\" + 0.005*\"víctimas\"'),\n",
       " (5,\n",
       "  '0.013*\"víctimas\" + 0.007*\"seguridad\" + 0.007*\"farc\" + 0.007*\"ley\" + 0.007*\"agenda\" + 0.006*\"desarrollo\" + 0.006*\"conversaciones\" + 0.005*\"delegados\" + 0.005*\"colombianos\" + 0.005*\"internacional\"')]"
      ]
     },
     "execution_count": 47,
     "metadata": {},
     "output_type": "execute_result"
    }
   ],
   "source": [
    "sorted(lda.print_topics(N_TOPICS))"
   ]
  },
  {
   "cell_type": "code",
   "execution_count": 31,
   "metadata": {},
   "outputs": [
    {
     "data": {
      "text/plain": [
       "[(2, 16), (3, 10), (1, 5), (0, 4)]"
      ]
     },
     "execution_count": 31,
     "metadata": {},
     "output_type": "execute_result"
    }
   ],
   "source": [
    "def get_predominant_topic(doc):\n",
    "    return sorted(doc, key=lambda x: abs(x[1]), reverse=True)[0][0]\n",
    "\n",
    "predominant_topics = []\n",
    "for doc in corpus_lda: # both bow->tfidf and tfidf->lsi transformations are actually executed here, on the fly\n",
    "    predominant_topics.append(get_predominant_topic(doc))\n",
    "Counter(predominant_topics).most_common()\n",
    "# result: (topic_id, number of documents)"
   ]
  },
  {
   "cell_type": "markdown",
   "metadata": {},
   "source": [
    "### HDP"
   ]
  },
  {
   "cell_type": "code",
   "execution_count": 32,
   "metadata": {
    "collapsed": true
   },
   "outputs": [],
   "source": [
    "# N_TOPICS = 4"
   ]
  },
  {
   "cell_type": "code",
   "execution_count": 33,
   "metadata": {
    "collapsed": true
   },
   "outputs": [],
   "source": [
    "hdp = models.HdpModel(corpus, id2word=dictionary)\n",
    "corpus_hdp = hdp[corpus]"
   ]
  },
  {
   "cell_type": "code",
   "execution_count": 34,
   "metadata": {
    "scrolled": false
   },
   "outputs": [
    {
     "data": {
      "text/plain": [
       "[(0,\n",
       "  '0.007*fase + 0.007*agosto + 0.006*general + 0.006*primera + 0.006*jaramillo + 0.006*comandante + 0.006*marzo + 0.006*armado + 0.006*exploratorio + 0.006*conversaciones'),\n",
       " (1,\n",
       "  '0.014*negociación + 0.013*farc + 0.010*víctimas + 0.005*sistema + 0.005*especial + 0.005*apoyo + 0.005*posible + 0.005*general + 0.005*menos + 0.005*paso'),\n",
       " (2,\n",
       "  '0.012*mesa + 0.008*diálogo + 0.007*desarrollo + 0.006*años + 0.006*guerra + 0.006*presidencia + 0.005*ley + 0.005*diálogos + 0.005*armas + 0.004*miembros'),\n",
       " (3,\n",
       "  '0.008*gran + 0.008*hoy + 0.007*colombianos + 0.006*día + 0.006*social + 0.005*nuevo + 0.005*mundo + 0.005*trabajo + 0.005*fuerzas + 0.005*desarrollo'),\n",
       " (4,\n",
       "  '0.007*fase + 0.006*equipo + 0.006*hoy + 0.005*colombianos + 0.005*quiero + 0.005*trabajo + 0.005*conversaciones + 0.005*víctimas + 0.005*general + 0.004*gracias'),\n",
       " (5,\n",
       "  '0.011*mesa + 0.006*colombiano + 0.006*secreto + 0.005*tema + 0.005*jaramillo + 0.005*farc + 0.005*mauricio + 0.005*opinión + 0.005*ahora + 0.005*hablar'),\n",
       " (6,\n",
       "  '0.010*agenda + 0.007*creación + 0.007*temas + 0.006*objetivo + 0.005*partes + 0.005*seguridad + 0.005*venezuela + 0.005*años + 0.004*equipo + 0.004*armado'),\n",
       " (7,\n",
       "  '0.013*programas + 0.011*desarrollo + 0.009*participación + 0.009*mecanismos + 0.008*marco + 0.007*social + 0.006*acceso + 0.006*final + 0.005*derechos + 0.005*guerra'),\n",
       " (8,\n",
       "  '0.021*víctimas + 0.015*ley + 0.009*reparación + 0.009*hoy + 0.006*sociedad + 0.005*tierras + 0.005*reto + 0.005*través + 0.005*día + 0.005*unidad'),\n",
       " (9,\n",
       "  '0.006*internacional + 0.005*armada + 0.005*años + 0.005*histórica + 0.005*ver + 0.004*necesitamos + 0.004*violencia + 0.004*ejemplo + 0.004*calidad + 0.004*seguridad')]"
      ]
     },
     "execution_count": 34,
     "metadata": {},
     "output_type": "execute_result"
    }
   ],
   "source": [
    "hdp.print_topics(10)"
   ]
  },
  {
   "cell_type": "code",
   "execution_count": 35,
   "metadata": {},
   "outputs": [
    {
     "data": {
      "text/plain": [
       "[(0, 3),\n",
       " (5, 3),\n",
       " (4, 2),\n",
       " (7, 2),\n",
       " (11, 2),\n",
       " (13, 2),\n",
       " (24, 2),\n",
       " (1, 1),\n",
       " (2, 1),\n",
       " (3, 1),\n",
       " (6, 1),\n",
       " (8, 1),\n",
       " (9, 1),\n",
       " (10, 1),\n",
       " (12, 1),\n",
       " (14, 1),\n",
       " (15, 1),\n",
       " (16, 1),\n",
       " (17, 1),\n",
       " (18, 1),\n",
       " (19, 1),\n",
       " (20, 1),\n",
       " (21, 1),\n",
       " (22, 1),\n",
       " (23, 1),\n",
       " (42, 1)]"
      ]
     },
     "execution_count": 35,
     "metadata": {},
     "output_type": "execute_result"
    }
   ],
   "source": [
    "def get_predominant_topic(doc):\n",
    "    return sorted(doc, key=lambda x: abs(x[1]), reverse=True)[0][0]\n",
    "\n",
    "predominant_topics = []\n",
    "for doc in corpus_hdp: # both bow->tfidf and tfidf->lsi transformations are actually executed here, on the fly\n",
    "    predominant_topics.append(get_predominant_topic(doc))\n",
    "Counter(predominant_topics).most_common()\n",
    "# result: (topic_id, number of documents)"
   ]
  },
  {
   "cell_type": "code",
   "execution_count": null,
   "metadata": {
    "collapsed": true
   },
   "outputs": [],
   "source": []
  },
  {
   "cell_type": "code",
   "execution_count": null,
   "metadata": {
    "collapsed": true
   },
   "outputs": [],
   "source": []
  },
  {
   "cell_type": "code",
   "execution_count": null,
   "metadata": {
    "collapsed": true
   },
   "outputs": [],
   "source": []
  }
 ],
 "metadata": {
  "kernelspec": {
   "display_name": "Python 3",
   "language": "python",
   "name": "python3"
  },
  "language_info": {
   "codemirror_mode": {
    "name": "ipython",
    "version": 3
   },
   "file_extension": ".py",
   "mimetype": "text/x-python",
   "name": "python",
   "nbconvert_exporter": "python",
   "pygments_lexer": "ipython3",
   "version": "3.5.2"
  }
 },
 "nbformat": 4,
 "nbformat_minor": 2
}
