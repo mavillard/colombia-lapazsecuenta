{
 "cells": [
  {
   "cell_type": "markdown",
   "metadata": {},
   "source": [
    "# Tomo 5A"
   ]
  },
  {
   "cell_type": "code",
   "execution_count": 1,
   "metadata": {
    "collapsed": true
   },
   "outputs": [],
   "source": [
    "from collections import Counter\n",
    "from string import punctuation\n",
    "\n",
    "import nltk\n",
    "from nltk.corpus import stopwords"
   ]
  },
  {
   "cell_type": "markdown",
   "metadata": {},
   "source": [
    "## Loading data"
   ]
  },
  {
   "cell_type": "code",
   "execution_count": 2,
   "metadata": {},
   "outputs": [],
   "source": [
    "with open('data/aux/biblioteca/texts/5a.txt') as f:\n",
    "    text = f.read()"
   ]
  },
  {
   "cell_type": "markdown",
   "metadata": {},
   "source": [
    "## Cleaning data"
   ]
  },
  {
   "cell_type": "code",
   "execution_count": 3,
   "metadata": {
    "collapsed": true
   },
   "outputs": [],
   "source": [
    "chars = []\n",
    "for c in text:\n",
    "    if not c.isalnum():\n",
    "        chars.append(c)"
   ]
  },
  {
   "cell_type": "code",
   "execution_count": 4,
   "metadata": {
    "collapsed": true
   },
   "outputs": [],
   "source": [
    "characters = set(chars)"
   ]
  },
  {
   "cell_type": "code",
   "execution_count": 5,
   "metadata": {
    "collapsed": true
   },
   "outputs": [],
   "source": [
    "with open('data/stopwords/spanish_stopwords.txt') as f:\n",
    "    sp_stopwords = list(set(map(str.strip, f.readlines())))\n",
    "\n",
    "with open('data/stopwords/my_stopwords.txt') as f:\n",
    "    my_stopwords = list(set(map(str.strip, f.readlines())))\n",
    "\n",
    "stop = stopwords.words('spanish') + sp_stopwords + my_stopwords + list(punctuation) + list(characters)"
   ]
  },
  {
   "cell_type": "code",
   "execution_count": 6,
   "metadata": {
    "collapsed": true
   },
   "outputs": [],
   "source": [
    "def clean(s):\n",
    "    r = s.lower().strip()\n",
    "    for c in characters:\n",
    "        r = r.replace(c, ' ')\n",
    "    r = r.replace('farc ep', 'farc-ep')\n",
    "    r = r.replace('confianz a', 'confianza')\n",
    "    r = r.replace('cons trucción', 'construcción')\n",
    "    rs = [w for w in nltk.word_tokenize(r) if w not in stop and len(w) > 2 and not w.isdecimal()]\n",
    "    r = ' '.join(rs)\n",
    "    return r"
   ]
  },
  {
   "cell_type": "code",
   "execution_count": 7,
   "metadata": {
    "collapsed": true
   },
   "outputs": [],
   "source": [
    "cleaned_text = clean(text)"
   ]
  },
  {
   "cell_type": "code",
   "execution_count": 8,
   "metadata": {},
   "outputs": [
    {
     "name": "stdout",
     "output_type": "stream",
     "text": [
      "- 400\n",
      "  49515\n"
     ]
    }
   ],
   "source": [
    "for c in characters:\n",
    "    if c in cleaned_text:\n",
    "        print(c, cleaned_text.count(c))"
   ]
  },
  {
   "cell_type": "markdown",
   "metadata": {},
   "source": [
    "## Processing data"
   ]
  },
  {
   "cell_type": "code",
   "execution_count": 9,
   "metadata": {
    "collapsed": true
   },
   "outputs": [],
   "source": [
    "counter = Counter(cleaned_text.split())"
   ]
  },
  {
   "cell_type": "code",
   "execution_count": 10,
   "metadata": {},
   "outputs": [
    {
     "data": {
      "text/plain": [
       "[('víctimas', 931),\n",
       " ('paz', 687),\n",
       " ('conflicto', 602),\n",
       " ('farc-ep', 400),\n",
       " ('gobierno', 367),\n",
       " ('proceso', 342),\n",
       " ('ciclo', 327),\n",
       " ('mesa', 309),\n",
       " ('colombia', 305),\n",
       " ('derechos', 303),\n",
       " ('delegación', 293),\n",
       " ('conversaciones', 284),\n",
       " ('habana', 281),\n",
       " ('nacional', 277),\n",
       " ('acuerdo', 237),\n",
       " ('verdad', 214),\n",
       " ('fin', 175),\n",
       " ('justicia', 173),\n",
       " ('comisión', 173),\n",
       " ('delegaciones', 169),\n",
       " ('general', 167),\n",
       " ('país', 156),\n",
       " ('medidas', 152),\n",
       " ('manera', 150),\n",
       " ('parte', 140),\n",
       " ('participación', 140),\n",
       " ('cuba', 136),\n",
       " ('hoy', 130),\n",
       " ('construcción', 128),\n",
       " ('mujeres', 123),\n",
       " ('acuerdos', 121),\n",
       " ('reconocimiento', 119),\n",
       " ('derecho', 119),\n",
       " ('personas', 116),\n",
       " ('años', 116),\n",
       " ('reparación', 115),\n",
       " ('subcomisión', 113),\n",
       " ('guerra', 112),\n",
       " ('confianza', 111),\n",
       " ('armado', 109),\n",
       " ('colombianos', 108),\n",
       " ('partes', 107),\n",
       " ('debe', 98),\n",
       " ('presidente', 98),\n",
       " ('internacional', 97),\n",
       " ('propuestas', 94),\n",
       " ('comunicado', 93),\n",
       " ('sociedad', 92),\n",
       " ('política', 91),\n",
       " ('naciones', 91),\n",
       " ('puntos', 90),\n",
       " ('humanos', 88),\n",
       " ('unidas', 88),\n",
       " ('grupo', 87),\n",
       " ('reconciliación', 86),\n",
       " ('organizaciones', 85),\n",
       " ('histórica', 85),\n",
       " ('responsabilidad', 84),\n",
       " ('hecho', 84),\n",
       " ('especial', 83),\n",
       " ('discusión', 83),\n",
       " ('agenda', 82),\n",
       " ('posible', 82),\n",
       " ('compromiso', 81),\n",
       " ('trabajo', 79),\n",
       " ('social', 79),\n",
       " ('organización', 79),\n",
       " ('integral', 77),\n",
       " ('género', 77),\n",
       " ('violencia', 77),\n",
       " ('primera', 76),\n",
       " ('desarrollo', 76),\n",
       " ('mecanismos', 75),\n",
       " ('tres', 75),\n",
       " ('conjunto', 74),\n",
       " ('armas', 73),\n",
       " ('repetición', 71),\n",
       " ('colombiano', 71),\n",
       " ('centro', 71),\n",
       " ('calle', 69),\n",
       " ('vez', 69),\n",
       " ('mayor', 68),\n",
       " ('ejemplo', 67),\n",
       " ('humberto', 66),\n",
       " ('final', 66),\n",
       " ('reunión', 64),\n",
       " ('declaración', 64),\n",
       " ('forma', 63),\n",
       " ('mundo', 62),\n",
       " ('militares', 62),\n",
       " ('diferentes', 62),\n",
       " ('miembros', 62),\n",
       " ('garantías', 61),\n",
       " ('vida', 61),\n",
       " ('región', 61),\n",
       " ('importante', 61),\n",
       " ('marco', 60),\n",
       " ('frente', 60),\n",
       " ('santos', 60),\n",
       " ('seguridad', 60)]"
      ]
     },
     "execution_count": 10,
     "metadata": {},
     "output_type": "execute_result"
    }
   ],
   "source": [
    "counter.most_common(100)"
   ]
  },
  {
   "cell_type": "markdown",
   "metadata": {},
   "source": [
    "## Saving data"
   ]
  },
  {
   "cell_type": "code",
   "execution_count": 11,
   "metadata": {
    "collapsed": true
   },
   "outputs": [],
   "source": [
    "with open('data/out/cleaned_tomo_5a.txt', 'w') as f:\n",
    "    f.write(cleaned_text)"
   ]
  },
  {
   "cell_type": "code",
   "execution_count": null,
   "metadata": {
    "collapsed": true
   },
   "outputs": [],
   "source": []
  }
 ],
 "metadata": {
  "kernelspec": {
   "display_name": "Python 3",
   "language": "python",
   "name": "python3"
  },
  "language_info": {
   "codemirror_mode": {
    "name": "ipython",
    "version": 3
   },
   "file_extension": ".py",
   "mimetype": "text/x-python",
   "name": "python",
   "nbconvert_exporter": "python",
   "pygments_lexer": "ipython3",
   "version": "3.5.2"
  }
 },
 "nbformat": 4,
 "nbformat_minor": 2
}
