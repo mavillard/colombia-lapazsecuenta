{
 "cells": [
  {
   "cell_type": "markdown",
   "metadata": {},
   "source": [
    "# Tópicos"
   ]
  },
  {
   "cell_type": "code",
   "execution_count": 1,
   "metadata": {},
   "outputs": [],
   "source": [
    "from collections import Counter\n",
    "\n",
    "from sklearn.feature_extraction.text import TfidfVectorizer, CountVectorizer\n",
    "from sklearn.decomposition import LatentDirichletAllocation as LDA"
   ]
  },
  {
   "cell_type": "markdown",
   "metadata": {},
   "source": [
    "## Loading data"
   ]
  },
  {
   "cell_type": "code",
   "execution_count": 2,
   "metadata": {},
   "outputs": [],
   "source": [
    "with open('data/out/cleaned_tomo_1.txt') as f:\n",
    "    text1 = f.read()\n",
    "\n",
    "with open('data/out/cleaned_tomo_5a.txt') as f:\n",
    "    text5a = f.read()\n",
    "\n",
    "with open('data/out/cleaned_tomo_5b.txt') as f:\n",
    "    text5b = f.read()\n",
    "\n",
    "with open('data/out/cleaned_tomo_7.txt') as f:\n",
    "    text7 = f.read()"
   ]
  },
  {
   "cell_type": "markdown",
   "metadata": {},
   "source": [
    "## Processing data"
   ]
  },
  {
   "cell_type": "code",
   "execution_count": 3,
   "metadata": {},
   "outputs": [],
   "source": [
    "all_texts = text1 + ' ' + text5a + ' ' + text5b + ' ' + text7"
   ]
  },
  {
   "cell_type": "code",
   "execution_count": 4,
   "metadata": {},
   "outputs": [],
   "source": [
    "general_counter = Counter(all_texts.split())"
   ]
  },
  {
   "cell_type": "code",
   "execution_count": 13,
   "metadata": {},
   "outputs": [],
   "source": [
    "all_words = set(all_texts.split())"
   ]
  },
  {
   "cell_type": "code",
   "execution_count": 14,
   "metadata": {},
   "outputs": [
    {
     "data": {
      "text/plain": [
       "19617"
      ]
     },
     "execution_count": 14,
     "metadata": {},
     "output_type": "execute_result"
    }
   ],
   "source": [
    "len(all_words)"
   ]
  },
  {
   "cell_type": "code",
   "execution_count": 5,
   "metadata": {},
   "outputs": [],
   "source": [
    "data = [text1, text5a, text5b, text7]"
   ]
  },
  {
   "cell_type": "code",
   "execution_count": 6,
   "metadata": {},
   "outputs": [],
   "source": [
    "def get_topic(topic, feature_names, n_top_words):\n",
    "    return [feature_names[i] for i in topic.argsort()[:-n_top_words - 1:-1]]\n",
    "\n",
    "def get_topics(model, feature_names, n_top_words):\n",
    "    topics = []\n",
    "    for topic in model.components_:\n",
    "        topics.append(get_topic(topic, feature_names, n_top_words))\n",
    "    return topics"
   ]
  },
  {
   "cell_type": "code",
   "execution_count": 7,
   "metadata": {},
   "outputs": [],
   "source": [
    "def weight(topic):\n",
    "    return sum(general_counter[w] for w in topic)"
   ]
  },
  {
   "cell_type": "code",
   "execution_count": 29,
   "metadata": {},
   "outputs": [],
   "source": [
    "N_FEATURES = 1000\n",
    "N_TOP_WORDS = 10"
   ]
  },
  {
   "cell_type": "code",
   "execution_count": 30,
   "metadata": {},
   "outputs": [],
   "source": [
    "data_samples = data"
   ]
  },
  {
   "cell_type": "code",
   "execution_count": 34,
   "metadata": {},
   "outputs": [
    {
     "name": "stdout",
     "output_type": "stream",
     "text": [
      "4\n",
      "CPU times: user 408 ms, sys: 48 ms, total: 456 ms\n",
      "Wall time: 718 ms\n"
     ]
    }
   ],
   "source": [
    "%%time\n",
    "\n",
    "tf_vectorizer = CountVectorizer(\n",
    "    max_df=0.95,\n",
    "    min_df=2,\n",
    "    max_features=N_FEATURES,\n",
    "#     stop_words='english',\n",
    ")\n",
    "tf = tf_vectorizer.fit_transform(data_samples)\n",
    "tf_feature_names = tf_vectorizer.get_feature_names()\n",
    "\n",
    "topics_list = []\n",
    "for N_TOPICS in list(range(4, 5)):\n",
    "    print(N_TOPICS)\n",
    "    lda = LDA(\n",
    "        n_components=N_TOPICS,\n",
    "        learning_method='online',\n",
    "        learning_offset=50.,\n",
    "        random_state=0,\n",
    "        n_jobs=2,\n",
    "    )\n",
    "    lda.fit(tf)\n",
    "    topics = get_topics(lda, tf_feature_names, N_TOP_WORDS)\n",
    "    topics_aux = [(weight(topic), topic, len(topics)) for topic in topics]\n",
    "    topics_list.extend(topics_aux)\n",
    "topics_list.sort(reverse=True)"
   ]
  },
  {
   "cell_type": "code",
   "execution_count": 35,
   "metadata": {},
   "outputs": [
    {
     "data": {
      "text/plain": [
       "4"
      ]
     },
     "execution_count": 35,
     "metadata": {},
     "output_type": "execute_result"
    }
   ],
   "source": [
    "len(topics_list)"
   ]
  },
  {
   "cell_type": "code",
   "execution_count": 36,
   "metadata": {},
   "outputs": [
    {
     "data": {
      "text/plain": [
       "[(1076,\n",
       "  ['sexual',\n",
       "   'mesas',\n",
       "   'visita',\n",
       "   'informes',\n",
       "   'pensamiento',\n",
       "   'desescalamiento',\n",
       "   'cons',\n",
       "   'confianz',\n",
       "   'reúne',\n",
       "   'trucción'],\n",
       "  4),\n",
       " (1040,\n",
       "  ['sexual',\n",
       "   'mesas',\n",
       "   'pensamiento',\n",
       "   'jep',\n",
       "   'trucción',\n",
       "   'confianz',\n",
       "   'desescalamiento',\n",
       "   'cons',\n",
       "   'informes',\n",
       "   'diferencial'],\n",
       "  4),\n",
       " (956,\n",
       "  ['informes',\n",
       "   'reúne',\n",
       "   'afrodescendientes',\n",
       "   'menores',\n",
       "   'cicr',\n",
       "   'trucción',\n",
       "   'visita',\n",
       "   'desescalamiento',\n",
       "   'sexual',\n",
       "   'confianz'],\n",
       "  4),\n",
       " (574,\n",
       "  ['exploratorio',\n",
       "   'henry',\n",
       "   'usted',\n",
       "   'acercamientos',\n",
       "   'timoleón',\n",
       "   'creo',\n",
       "   'actas',\n",
       "   'dije',\n",
       "   'acta',\n",
       "   'cicr'],\n",
       "  4)]"
      ]
     },
     "execution_count": 36,
     "metadata": {},
     "output_type": "execute_result"
    }
   ],
   "source": [
    "topics_list"
   ]
  },
  {
   "cell_type": "code",
   "execution_count": 21,
   "metadata": {},
   "outputs": [],
   "source": [
    "ccc=Counter([z for x, y, z in topics_list[:100]])"
   ]
  },
  {
   "cell_type": "code",
   "execution_count": 22,
   "metadata": {},
   "outputs": [
    {
     "data": {
      "text/plain": [
       "[(10, 6),\n",
       " (11, 6),\n",
       " (9, 6),\n",
       " (12, 5),\n",
       " (13, 5),\n",
       " (14, 5),\n",
       " (18, 5),\n",
       " (19, 5),\n",
       " (8, 5),\n",
       " (7, 4),\n",
       " (15, 4),\n",
       " (17, 4),\n",
       " (20, 4),\n",
       " (4, 3),\n",
       " (5, 3),\n",
       " (6, 3),\n",
       " (80, 3),\n",
       " (16, 3),\n",
       " (100, 3),\n",
       " (40, 3),\n",
       " (120, 3),\n",
       " (2, 2),\n",
       " (3, 2),\n",
       " (200, 2),\n",
       " (160, 2),\n",
       " (1, 1),\n",
       " (140, 1),\n",
       " (180, 1),\n",
       " (60, 1)]"
      ]
     },
     "execution_count": 22,
     "metadata": {},
     "output_type": "execute_result"
    }
   ],
   "source": [
    "ccc.most_common()"
   ]
  },
  {
   "cell_type": "code",
   "execution_count": null,
   "metadata": {},
   "outputs": [],
   "source": []
  }
 ],
 "metadata": {
  "kernelspec": {
   "display_name": "Python 3",
   "language": "python",
   "name": "python3"
  },
  "language_info": {
   "codemirror_mode": {
    "name": "ipython",
    "version": 3
   },
   "file_extension": ".py",
   "mimetype": "text/x-python",
   "name": "python",
   "nbconvert_exporter": "python",
   "pygments_lexer": "ipython3",
   "version": "3.5.2"
  }
 },
 "nbformat": 4,
 "nbformat_minor": 2
}
