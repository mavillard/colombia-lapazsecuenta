{
 "cells": [
  {
   "cell_type": "markdown",
   "metadata": {},
   "source": [
    "# Tomo 5B"
   ]
  },
  {
   "cell_type": "code",
   "execution_count": 1,
   "metadata": {
    "collapsed": true
   },
   "outputs": [],
   "source": [
    "from collections import Counter\n",
    "from string import punctuation\n",
    "\n",
    "import nltk\n",
    "from nltk.corpus import stopwords"
   ]
  },
  {
   "cell_type": "markdown",
   "metadata": {},
   "source": [
    "## Loading data"
   ]
  },
  {
   "cell_type": "code",
   "execution_count": 2,
   "metadata": {},
   "outputs": [],
   "source": [
    "with open('data/aux/biblioteca/texts/5b.txt') as f:\n",
    "    text = f.read()"
   ]
  },
  {
   "cell_type": "markdown",
   "metadata": {},
   "source": [
    "## Cleaning data"
   ]
  },
  {
   "cell_type": "code",
   "execution_count": 3,
   "metadata": {
    "collapsed": true
   },
   "outputs": [],
   "source": [
    "chars = []\n",
    "for c in text:\n",
    "    if not c.isalnum():\n",
    "        chars.append(c)"
   ]
  },
  {
   "cell_type": "code",
   "execution_count": 4,
   "metadata": {
    "collapsed": true
   },
   "outputs": [],
   "source": [
    "characters = set(chars)"
   ]
  },
  {
   "cell_type": "code",
   "execution_count": 5,
   "metadata": {
    "collapsed": true
   },
   "outputs": [],
   "source": [
    "with open('data/stopwords/spanish_stopwords.txt') as f:\n",
    "    sp_stopwords = list(set(map(str.strip, f.readlines())))\n",
    "\n",
    "with open('data/stopwords/my_stopwords.txt') as f:\n",
    "    my_stopwords = list(set(map(str.strip, f.readlines())))\n",
    "\n",
    "stop = stopwords.words('spanish') + sp_stopwords + my_stopwords + list(punctuation) + list(characters)"
   ]
  },
  {
   "cell_type": "code",
   "execution_count": 6,
   "metadata": {
    "collapsed": true
   },
   "outputs": [],
   "source": [
    "def clean(s):\n",
    "    r = s.lower().strip()\n",
    "    for c in characters:\n",
    "        r = r.replace(c, ' ')\n",
    "    r = r.replace('farc ep', 'farc-ep')\n",
    "    r = r.replace('confianz a', 'confianza')\n",
    "    r = r.replace('cons trucción', 'construcción')\n",
    "    rs = [w for w in nltk.word_tokenize(r) if w not in stop and len(w) > 2 and not w.isdecimal()]\n",
    "    r = ' '.join(rs)\n",
    "    return r"
   ]
  },
  {
   "cell_type": "code",
   "execution_count": 7,
   "metadata": {
    "collapsed": true
   },
   "outputs": [],
   "source": [
    "cleaned_text = clean(text)"
   ]
  },
  {
   "cell_type": "code",
   "execution_count": 8,
   "metadata": {},
   "outputs": [
    {
     "name": "stdout",
     "output_type": "stream",
     "text": [
      "  65431\n",
      "- 567\n"
     ]
    }
   ],
   "source": [
    "for c in characters:\n",
    "    if c in cleaned_text:\n",
    "        print(c, cleaned_text.count(c))"
   ]
  },
  {
   "cell_type": "markdown",
   "metadata": {},
   "source": [
    "## Processing data"
   ]
  },
  {
   "cell_type": "code",
   "execution_count": 9,
   "metadata": {
    "collapsed": true
   },
   "outputs": [],
   "source": [
    "counter = Counter(cleaned_text.split())"
   ]
  },
  {
   "cell_type": "code",
   "execution_count": 10,
   "metadata": {},
   "outputs": [
    {
     "data": {
      "text/plain": [
       "[('paz', 1056),\n",
       " ('conflicto', 776),\n",
       " ('víctimas', 732),\n",
       " ('gobierno', 576),\n",
       " ('farc-ep', 567),\n",
       " ('acuerdo', 485),\n",
       " ('verdad', 424),\n",
       " ('ciclo', 396),\n",
       " ('proceso', 386),\n",
       " ('justicia', 377),\n",
       " ('comisión', 353),\n",
       " ('colombia', 352),\n",
       " ('delegación', 342),\n",
       " ('reparación', 336),\n",
       " ('nacional', 299),\n",
       " ('conversaciones', 290),\n",
       " ('derechos', 286),\n",
       " ('mesa', 275),\n",
       " ('especial', 271),\n",
       " ('fin', 260),\n",
       " ('repetición', 251),\n",
       " ('habana', 242),\n",
       " ('medidas', 227),\n",
       " ('personas', 212),\n",
       " ('construcción', 208),\n",
       " ('presidente', 207),\n",
       " ('país', 202),\n",
       " ('guerra', 198),\n",
       " ('parte', 196),\n",
       " ('armado', 192),\n",
       " ('colombianos', 189),\n",
       " ('general', 186),\n",
       " ('cese', 182),\n",
       " ('manera', 176),\n",
       " ('años', 169),\n",
       " ('sistema', 168),\n",
       " ('integral', 166),\n",
       " ('confianza', 161),\n",
       " ('declaración', 155),\n",
       " ('fuego', 151),\n",
       " ('acuerdos', 150),\n",
       " ('trabajo', 149),\n",
       " ('final', 143),\n",
       " ('hoy', 135),\n",
       " ('jurisdicción', 135),\n",
       " ('calle', 134),\n",
       " ('subcomisión', 131),\n",
       " ('responsabilidad', 131),\n",
       " ('reconocimiento', 130),\n",
       " ('santos', 126),\n",
       " ('humanos', 126),\n",
       " ('derecho', 126),\n",
       " ('humberto', 126),\n",
       " ('fuerzas', 125),\n",
       " ('república', 125),\n",
       " ('violencia', 122),\n",
       " ('sociedad', 122),\n",
       " ('comunicado', 122),\n",
       " ('juan', 119),\n",
       " ('búsqueda', 119),\n",
       " ('seguridad', 118),\n",
       " ('internacional', 118),\n",
       " ('esclarecimiento', 115),\n",
       " ('debe', 115),\n",
       " ('implementación', 113),\n",
       " ('participación', 111),\n",
       " ('desaparecidas', 110),\n",
       " ('convivencia', 110),\n",
       " ('compromiso', 109),\n",
       " ('manuel', 108),\n",
       " ('medida', 107),\n",
       " ('puntos', 106),\n",
       " ('posible', 106),\n",
       " ('mecanismos', 105),\n",
       " ('cuba', 104),\n",
       " ('frente', 103),\n",
       " ('lugar', 101),\n",
       " ('proyecto', 101),\n",
       " ('tres', 101),\n",
       " ('desarrollo', 100),\n",
       " ('miembros', 99),\n",
       " ('contribuir', 99),\n",
       " ('marcha', 96),\n",
       " ('colombiano', 96),\n",
       " ('política', 95),\n",
       " ('desminado', 95),\n",
       " ('vez', 94),\n",
       " ('conjunto', 93),\n",
       " ('tema', 93),\n",
       " ('propósito', 92),\n",
       " ('graves', 92),\n",
       " ('razón', 91),\n",
       " ('militares', 91),\n",
       " ('vida', 91),\n",
       " ('grupo', 91),\n",
       " ('procesos', 90),\n",
       " ('información', 89),\n",
       " ('importante', 89),\n",
       " ('condiciones', 88),\n",
       " ('marco', 87)]"
      ]
     },
     "execution_count": 10,
     "metadata": {},
     "output_type": "execute_result"
    }
   ],
   "source": [
    "counter.most_common(100)"
   ]
  },
  {
   "cell_type": "markdown",
   "metadata": {},
   "source": [
    "## Saving data"
   ]
  },
  {
   "cell_type": "code",
   "execution_count": 11,
   "metadata": {
    "collapsed": true
   },
   "outputs": [],
   "source": [
    "with open('data/out/cleaned_tomo_5b.txt', 'w') as f:\n",
    "    f.write(cleaned_text)"
   ]
  },
  {
   "cell_type": "code",
   "execution_count": null,
   "metadata": {
    "collapsed": true
   },
   "outputs": [],
   "source": []
  }
 ],
 "metadata": {
  "kernelspec": {
   "display_name": "Python 3",
   "language": "python",
   "name": "python3"
  },
  "language_info": {
   "codemirror_mode": {
    "name": "ipython",
    "version": 3
   },
   "file_extension": ".py",
   "mimetype": "text/x-python",
   "name": "python",
   "nbconvert_exporter": "python",
   "pygments_lexer": "ipython3",
   "version": "3.5.2"
  }
 },
 "nbformat": 4,
 "nbformat_minor": 2
}
