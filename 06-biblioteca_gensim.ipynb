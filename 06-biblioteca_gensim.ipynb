{
 "cells": [
  {
   "cell_type": "markdown",
   "metadata": {},
   "source": [
    "# Tópicos"
   ]
  },
  {
   "cell_type": "code",
   "execution_count": 1,
   "metadata": {
    "collapsed": true
   },
   "outputs": [],
   "source": [
    "# import logging\n",
    "# logging.basicConfig(format='%(asctime)s : %(levelname)s : %(message)s', level=logging.INFO)"
   ]
  },
  {
   "cell_type": "code",
   "execution_count": 2,
   "metadata": {
    "collapsed": true
   },
   "outputs": [],
   "source": [
    "from collections import Counter\n",
    "\n",
    "from gensim import corpora, models"
   ]
  },
  {
   "cell_type": "markdown",
   "metadata": {},
   "source": [
    "## Loading data"
   ]
  },
  {
   "cell_type": "code",
   "execution_count": 3,
   "metadata": {
    "collapsed": true
   },
   "outputs": [],
   "source": [
    "with open('data/out/cleaned_tomo_1.txt') as f:\n",
    "    doc1 = f.read()\n",
    "\n",
    "with open('data/out/cleaned_tomo_5a.txt') as f:\n",
    "    doc5a = f.read()\n",
    "\n",
    "with open('data/out/cleaned_tomo_5b.txt') as f:\n",
    "    doc5b = f.read()\n",
    "\n",
    "with open('data/out/cleaned_tomo_7.txt') as f:\n",
    "    doc7 = f.read()"
   ]
  },
  {
   "cell_type": "markdown",
   "metadata": {},
   "source": [
    "## Cleaning data"
   ]
  },
  {
   "cell_type": "code",
   "execution_count": 4,
   "metadata": {
    "collapsed": true
   },
   "outputs": [],
   "source": [
    "documents = [doc1, doc5a, doc5b, doc7]"
   ]
  },
  {
   "cell_type": "code",
   "execution_count": 5,
   "metadata": {
    "collapsed": true
   },
   "outputs": [],
   "source": [
    "document = ' '.join(documents)"
   ]
  },
  {
   "cell_type": "code",
   "execution_count": 6,
   "metadata": {
    "collapsed": true
   },
   "outputs": [],
   "source": [
    "counter = Counter(document.split())"
   ]
  },
  {
   "cell_type": "code",
   "execution_count": 7,
   "metadata": {
    "collapsed": true
   },
   "outputs": [],
   "source": [
    "texts = [[word for word in document.split() if counter[word] > 1] for document in documents]"
   ]
  },
  {
   "cell_type": "markdown",
   "metadata": {},
   "source": [
    "## Processing data"
   ]
  },
  {
   "cell_type": "markdown",
   "metadata": {},
   "source": [
    "### LSI"
   ]
  },
  {
   "cell_type": "code",
   "execution_count": 8,
   "metadata": {
    "collapsed": true
   },
   "outputs": [],
   "source": [
    "dictionary = corpora.Dictionary(texts)"
   ]
  },
  {
   "cell_type": "code",
   "execution_count": 9,
   "metadata": {},
   "outputs": [
    {
     "name": "stdout",
     "output_type": "stream",
     "text": [
      "Dictionary(10541 unique tokens: ['miseria', 'ucrós', 'destrucción', 'enfrentamiento', 'agradecer']...)\n"
     ]
    }
   ],
   "source": [
    "print(dictionary)"
   ]
  },
  {
   "cell_type": "code",
   "execution_count": 10,
   "metadata": {
    "collapsed": true
   },
   "outputs": [],
   "source": [
    "corpus = [dictionary.doc2bow(text) for text in texts]"
   ]
  },
  {
   "cell_type": "code",
   "execution_count": 11,
   "metadata": {
    "collapsed": true
   },
   "outputs": [],
   "source": [
    "tfidf = models.TfidfModel(corpus)"
   ]
  },
  {
   "cell_type": "code",
   "execution_count": 12,
   "metadata": {},
   "outputs": [
    {
     "name": "stdout",
     "output_type": "stream",
     "text": [
      "TfidfModel(num_docs=4, num_nnz=26861)\n"
     ]
    }
   ],
   "source": [
    "print(tfidf)"
   ]
  },
  {
   "cell_type": "code",
   "execution_count": 13,
   "metadata": {
    "collapsed": true
   },
   "outputs": [],
   "source": [
    "corpus_tfidf = tfidf[corpus]"
   ]
  },
  {
   "cell_type": "code",
   "execution_count": 14,
   "metadata": {
    "collapsed": true
   },
   "outputs": [],
   "source": [
    "N_TOPICS = 4"
   ]
  },
  {
   "cell_type": "code",
   "execution_count": 15,
   "metadata": {
    "collapsed": true
   },
   "outputs": [],
   "source": [
    "lsi = models.LsiModel(corpus_tfidf, id2word=dictionary, num_topics=N_TOPICS) # initialize an LSI transformation\n",
    "corpus_lsi = lsi[corpus_tfidf]"
   ]
  },
  {
   "cell_type": "code",
   "execution_count": 16,
   "metadata": {},
   "outputs": [
    {
     "data": {
      "text/plain": [
       "4"
      ]
     },
     "execution_count": 16,
     "metadata": {},
     "output_type": "execute_result"
    }
   ],
   "source": [
    "lsi.num_topics"
   ]
  },
  {
   "cell_type": "code",
   "execution_count": 17,
   "metadata": {},
   "outputs": [
    {
     "data": {
      "text/plain": [
       "[(0,\n",
       "  '0.262*\"cbm\" + 0.126*\"piloto\" + 0.118*\"exploratorio\" + 0.108*\"descontaminación\" + 0.102*\"ubpd\" + 0.098*\"panel\" + 0.096*\"sexual\" + 0.095*\"orejón\" + 0.089*\"informes\" + 0.084*\"esclarecer\"'),\n",
       " (1,\n",
       "  '0.382*\"exploratorio\" + 0.240*\"henry\" + 0.217*\"epa\" + 0.201*\"secreto\" + -0.171*\"panel\" + 0.145*\"preparatorio\" + 0.137*\"dígales\" + 0.137*\"calarcá\" + -0.135*\"paneles\" + 0.121*\"exploratorias\"'),\n",
       " (2,\n",
       "  '-0.230*\"panel\" + -0.228*\"exploratorio\" + -0.181*\"paneles\" + -0.147*\"henry\" + -0.134*\"mesas\" + -0.131*\"epa\" + -0.129*\"socialización\" + -0.121*\"secreto\" + -0.121*\"gráfico\" + 0.120*\"cbm\"'),\n",
       " (3,\n",
       "  '0.405*\"cbm\" + -0.137*\"piloto\" + -0.135*\"descontaminación\" + -0.122*\"sentencias\" + -0.116*\"hdc\" + 0.115*\"cdv\" + -0.109*\"ubpd\" + -0.108*\"orejón\" + -0.103*\"apn\" + 0.103*\"victimizante\"')]"
      ]
     },
     "execution_count": 17,
     "metadata": {},
     "output_type": "execute_result"
    }
   ],
   "source": [
    "lsi.print_topics(lsi.num_topics)"
   ]
  },
  {
   "cell_type": "code",
   "execution_count": 18,
   "metadata": {},
   "outputs": [
    {
     "name": "stdout",
     "output_type": "stream",
     "text": [
      "[(0, 0.34204791329787609), (1, 0.81477063176363063), (2, -0.46733697479608949), (3, 0.027353146300071757)]\n",
      "[(0, 0.74145425742050486), (1, -0.11152117545813098), (2, 0.23379310000824158), (3, 0.61899062833455898)]\n",
      "[(0, 0.70775978189230526), (1, 0.059047027532580176), (2, 0.41165320402068289), (3, -0.57107896064801955)]\n",
      "[(0, 0.43531499353014075), (1, -0.54625698387884414), (2, -0.70029022373322314), (3, -0.14730161748982434)]\n"
     ]
    }
   ],
   "source": [
    "for doc in corpus_lsi: # both bow->tfidf and tfidf->lsi transformations are actually executed here, on the fly\n",
    "    print(doc)"
   ]
  },
  {
   "cell_type": "code",
   "execution_count": 19,
   "metadata": {},
   "outputs": [
    {
     "data": {
      "text/plain": [
       "[(0, 0.34204791329787609),\n",
       " (1, 0.81477063176363063),\n",
       " (2, -0.46733697479608949),\n",
       " (3, 0.027353146300071757)]"
      ]
     },
     "execution_count": 19,
     "metadata": {},
     "output_type": "execute_result"
    }
   ],
   "source": [
    "corpus_lsi[0]"
   ]
  },
  {
   "cell_type": "markdown",
   "metadata": {},
   "source": [
    "### RP"
   ]
  },
  {
   "cell_type": "code",
   "execution_count": 20,
   "metadata": {
    "collapsed": true
   },
   "outputs": [],
   "source": [
    "N_TOPICS = 4"
   ]
  },
  {
   "cell_type": "code",
   "execution_count": 21,
   "metadata": {
    "collapsed": true
   },
   "outputs": [],
   "source": [
    "rp = models.RpModel(corpus_tfidf, num_topics=N_TOPICS)\n",
    "corpus_rp = rp[corpus_tfidf]"
   ]
  },
  {
   "cell_type": "code",
   "execution_count": 22,
   "metadata": {},
   "outputs": [
    {
     "data": {
      "text/plain": [
       "4"
      ]
     },
     "execution_count": 22,
     "metadata": {},
     "output_type": "execute_result"
    }
   ],
   "source": [
    "rp.num_topics"
   ]
  },
  {
   "cell_type": "code",
   "execution_count": 23,
   "metadata": {},
   "outputs": [
    {
     "data": {
      "text/plain": [
       "array([[-1., -1., -1., ...,  1.,  1., -1.],\n",
       "       [ 1., -1.,  1., ...,  1.,  1., -1.],\n",
       "       [ 1.,  1., -1., ..., -1., -1.,  1.],\n",
       "       [ 1.,  1.,  1., ..., -1., -1., -1.]], dtype=float32)"
      ]
     },
     "execution_count": 23,
     "metadata": {},
     "output_type": "execute_result"
    }
   ],
   "source": [
    "rp.projection"
   ]
  },
  {
   "cell_type": "code",
   "execution_count": 24,
   "metadata": {
    "scrolled": true
   },
   "outputs": [
    {
     "name": "stdout",
     "output_type": "stream",
     "text": [
      "[(0, -0.49495112895965576), (1, 0.017419002950191498), (2, -0.8641291260719299), (3, -0.6086920499801636)]\n",
      "[(0, -0.20614978671073914), (1, -0.15201213955879211), (2, 0.22678709030151367), (3, 0.7231939435005188)]\n",
      "[(0, -0.7200427055358887), (1, 0.11906775832176208), (2, -0.7675713300704956), (3, 0.2852909564971924)]\n",
      "[(0, 0.3205200433731079), (1, 0.3057404160499573), (2, 1.2161310911178589), (3, 0.20154863595962524)]\n"
     ]
    }
   ],
   "source": [
    "for doc in corpus_rp:\n",
    "    print(doc)"
   ]
  },
  {
   "cell_type": "markdown",
   "metadata": {},
   "source": [
    "### LDA"
   ]
  },
  {
   "cell_type": "code",
   "execution_count": 25,
   "metadata": {
    "collapsed": true
   },
   "outputs": [],
   "source": [
    "N_TOPICS = 2"
   ]
  },
  {
   "cell_type": "code",
   "execution_count": 26,
   "metadata": {
    "collapsed": true
   },
   "outputs": [],
   "source": [
    "lda = models.LdaModel(corpus, id2word=dictionary, num_topics=N_TOPICS)\n",
    "corpus_lda = lda[corpus]"
   ]
  },
  {
   "cell_type": "code",
   "execution_count": 27,
   "metadata": {},
   "outputs": [
    {
     "data": {
      "text/plain": [
       "2"
      ]
     },
     "execution_count": 27,
     "metadata": {},
     "output_type": "execute_result"
    }
   ],
   "source": [
    "lda.num_topics"
   ]
  },
  {
   "cell_type": "code",
   "execution_count": 28,
   "metadata": {},
   "outputs": [
    {
     "data": {
      "text/plain": [
       "[(0,\n",
       "  '0.016*\"paz\" + 0.011*\"víctimas\" + 0.009*\"conflicto\" + 0.009*\"gobierno\" + 0.008*\"farc-ep\" + 0.007*\"proceso\" + 0.007*\"acuerdo\" + 0.007*\"nacional\" + 0.006*\"mesa\" + 0.005*\"participación\"'),\n",
       " (1,\n",
       "  '0.015*\"paz\" + 0.010*\"víctimas\" + 0.009*\"conflicto\" + 0.007*\"farc-ep\" + 0.007*\"gobierno\" + 0.007*\"nacional\" + 0.006*\"acuerdo\" + 0.006*\"colombia\" + 0.006*\"mujeres\" + 0.006*\"conversaciones\"')]"
      ]
     },
     "execution_count": 28,
     "metadata": {},
     "output_type": "execute_result"
    }
   ],
   "source": [
    "lda.print_topics()"
   ]
  },
  {
   "cell_type": "code",
   "execution_count": 29,
   "metadata": {
    "scrolled": true
   },
   "outputs": [
    {
     "name": "stdout",
     "output_type": "stream",
     "text": [
      "[(0, 0.63620955), (1, 0.36379039)]\n",
      "[(0, 0.50800985), (1, 0.49199018)]\n",
      "[(0, 0.74987602), (1, 0.25012398)]\n",
      "[(0, 0.27493426), (1, 0.72506577)]\n"
     ]
    }
   ],
   "source": [
    "for doc in corpus_lda:\n",
    "    print(doc)"
   ]
  },
  {
   "cell_type": "markdown",
   "metadata": {},
   "source": [
    "### HDP"
   ]
  },
  {
   "cell_type": "code",
   "execution_count": 30,
   "metadata": {
    "collapsed": true
   },
   "outputs": [],
   "source": [
    "N_TOPICS = 4"
   ]
  },
  {
   "cell_type": "code",
   "execution_count": 31,
   "metadata": {
    "collapsed": true
   },
   "outputs": [],
   "source": [
    "hdp = models.HdpModel(corpus, id2word=dictionary)\n",
    "corpus_hdp = hdp[corpus]"
   ]
  },
  {
   "cell_type": "code",
   "execution_count": 32,
   "metadata": {},
   "outputs": [
    {
     "data": {
      "text/plain": [
       "[(0,\n",
       "  '0.017*paz + 0.012*conflicto + 0.012*víctimas + 0.009*gobierno + 0.009*farc-ep + 0.008*acuerdo + 0.007*verdad + 0.006*ciclo + 0.006*proceso + 0.006*justicia'),\n",
       " (1,\n",
       "  '0.019*paz + 0.015*mujeres + 0.012*nacional + 0.011*participación + 0.009*mesa + 0.009*organizaciones + 0.009*género + 0.008*foro + 0.007*conversaciones + 0.007*acuerdo'),\n",
       " (2,\n",
       "  '0.019*víctimas + 0.014*paz + 0.013*conflicto + 0.008*farc-ep + 0.008*gobierno + 0.007*proceso + 0.007*ciclo + 0.006*mesa + 0.006*colombia + 0.006*derechos'),\n",
       " (3,\n",
       "  '0.013*gobierno + 0.012*paz + 0.012*farc-ep + 0.008*acuerdo + 0.008*conflicto + 0.007*colombia + 0.007*proceso + 0.006*presidente + 0.006*encuentro + 0.005*país'),\n",
       " (4,\n",
       "  '0.001*uniforme + 0.001*exper + 0.001*medición + 0.001*étnica + 0.000*surgir + 0.000*fácilmente + 0.000*promoción + 0.000*elige + 0.000*benedetti + 0.000*inimaginables'),\n",
       " (5,\n",
       "  '0.001*ferviente + 0.001*definido + 0.001*relatores + 0.001*aproximaciones + 0.000*ejecutiva + 0.000*pnis + 0.000*capacitar + 0.000*global + 0.000*previos + 0.000*regímenes'),\n",
       " (6,\n",
       "  '0.001*pnud + 0.001*trabaje + 0.001*nelson + 0.001*larga + 0.001*regresaran + 0.001*internacionalmente + 0.000*maestro + 0.000*casi + 0.000*camargo + 0.000*inteligente'),\n",
       " (7,\n",
       "  '0.001*lucas + 0.001*precisado + 0.000*símbolos + 0.000*propias + 0.000*utilicen + 0.000*guerrillas + 0.000*instancia + 0.000*demos + 0.000*esperábamos + 0.000*solidaridad'),\n",
       " (8,\n",
       "  '0.001*velará + 0.001*tabla + 0.001*prematuros + 0.001*resistir + 0.001*vinasco + 0.000*secuestro + 0.000*preparamos + 0.000*chantaje + 0.000*carecen + 0.000*difícilmente'),\n",
       " (9,\n",
       "  '0.001*divididas + 0.001*asistirán + 0.000*buena + 0.000*repite + 0.000*recurrentes + 0.000*exponiendo + 0.000*papá + 0.000*asumido + 0.000*ana + 0.000*pretendan'),\n",
       " (10,\n",
       "  '0.001*sufrieron + 0.001*apliquen + 0.001*subrepresentados + 0.001*administrativa + 0.001*carta + 0.001*johanna + 0.000*exguerrilleras + 0.000*antecedentes + 0.000*persisten + 0.000*positivo'),\n",
       " (11,\n",
       "  '0.001*progresivos + 0.001*desigualdad + 0.001*refleje + 0.001*entreguen + 0.001*deficiencias + 0.000*sobreviviente + 0.000*afectó + 0.000*silvia + 0.000*armonizar + 0.000*aval'),\n",
       " (12,\n",
       "  '0.001*comparó + 0.001*duradera + 0.001*expresarse + 0.001*imponiendo + 0.001*exactores + 0.000*afrocolombiano + 0.000*sistemática + 0.000*acompañamos + 0.000*raizal + 0.000*duras'),\n",
       " (13,\n",
       "  '0.001*párrafo + 0.001*rumbos + 0.001*confirmar + 0.001*mismas + 0.001*iniciara + 0.000*designan + 0.000*santana + 0.000*poseídos + 0.000*aparentemente + 0.000*ponernos'),\n",
       " (14,\n",
       "  '0.001*sentadas + 0.001*décimo + 0.001*ejércitos + 0.001*incorporación + 0.001*productividad + 0.000*cerros + 0.000*confirmadas + 0.000*venciendo + 0.000*emprendimiento + 0.000*tratadas'),\n",
       " (15,\n",
       "  '0.001*diplomático + 0.001*estrato + 0.001*sensato + 0.001*didh + 0.000*visita + 0.000*occidental + 0.000*dejación + 0.000*casa + 0.000*proscribimos + 0.000*retaguardia'),\n",
       " (16,\n",
       "  '0.001*inspiradora + 0.001*dispongan + 0.001*intersectorial + 0.001*retirar + 0.000*promovido + 0.000*sagrados + 0.000*respetarse + 0.000*agravante + 0.000*énfasis + 0.000*sedes'),\n",
       " (17,\n",
       "  '0.001*quería + 0.001*complejos + 0.001*alape + 0.001*etnia + 0.000*pulido + 0.000*veintisiete + 0.000*diversos + 0.000*avances + 0.000*emboscada + 0.000*pararnos'),\n",
       " (18,\n",
       "  '0.001*comu + 0.000*llamadas + 0.000*orjuela + 0.000*reversar + 0.000*sentar + 0.000*funcionarios + 0.000*llamado + 0.000*identidad + 0.000*facilitó + 0.000*henry'),\n",
       " (19,\n",
       "  '0.001*gais + 0.001*roy + 0.001*alma + 0.001*pagando + 0.000*profundización + 0.000*regresa + 0.000*procuraduría + 0.000*sorpresa + 0.000*anterioridad + 0.000*querida')]"
      ]
     },
     "execution_count": 32,
     "metadata": {},
     "output_type": "execute_result"
    }
   ],
   "source": [
    "hdp.print_topics()"
   ]
  },
  {
   "cell_type": "code",
   "execution_count": 33,
   "metadata": {
    "scrolled": true
   },
   "outputs": [
    {
     "name": "stdout",
     "output_type": "stream",
     "text": [
      "[(3, 0.99996327660929818)]\n",
      "[(2, 0.99985605339839179)]\n",
      "[(0, 0.99995984986946496)]\n",
      "[(1, 0.99998297201473074)]\n"
     ]
    }
   ],
   "source": [
    "for doc in corpus_hdp:\n",
    "    print(doc)"
   ]
  },
  {
   "cell_type": "code",
   "execution_count": null,
   "metadata": {
    "collapsed": true
   },
   "outputs": [],
   "source": []
  }
 ],
 "metadata": {
  "kernelspec": {
   "display_name": "Python 3",
   "language": "python",
   "name": "python3"
  },
  "language_info": {
   "codemirror_mode": {
    "name": "ipython",
    "version": 3
   },
   "file_extension": ".py",
   "mimetype": "text/x-python",
   "name": "python",
   "nbconvert_exporter": "python",
   "pygments_lexer": "ipython3",
   "version": "3.5.2"
  }
 },
 "nbformat": 4,
 "nbformat_minor": 2
}
