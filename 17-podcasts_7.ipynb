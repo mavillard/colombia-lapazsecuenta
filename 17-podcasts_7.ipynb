{
 "cells": [
  {
   "cell_type": "markdown",
   "metadata": {},
   "source": [
    "# Podcast 7"
   ]
  },
  {
   "cell_type": "code",
   "execution_count": 1,
   "metadata": {},
   "outputs": [],
   "source": [
    "from collections import Counter\n",
    "from string import punctuation\n",
    "\n",
    "import nltk\n",
    "from nltk.corpus import stopwords"
   ]
  },
  {
   "cell_type": "markdown",
   "metadata": {},
   "source": [
    "## Loading data"
   ]
  },
  {
   "cell_type": "code",
   "execution_count": 2,
   "metadata": {},
   "outputs": [],
   "source": [
    "with open('data/aux/podcasts/transcriptions/7.txt') as f:\n",
    "    text = f.read()"
   ]
  },
  {
   "cell_type": "markdown",
   "metadata": {},
   "source": [
    "## Cleaning data"
   ]
  },
  {
   "cell_type": "code",
   "execution_count": 3,
   "metadata": {},
   "outputs": [],
   "source": [
    "chars = []\n",
    "for c in text:\n",
    "    if not c.isalnum():\n",
    "        chars.append(c)"
   ]
  },
  {
   "cell_type": "code",
   "execution_count": 4,
   "metadata": {},
   "outputs": [],
   "source": [
    "characters = set(chars)"
   ]
  },
  {
   "cell_type": "code",
   "execution_count": 5,
   "metadata": {},
   "outputs": [],
   "source": [
    "with open('data/stopwords/spanish_stopwords.txt') as f:\n",
    "    sp_stopwords = list(set(map(str.strip, f.readlines())))\n",
    "\n",
    "with open('data/stopwords/my_stopwords.txt') as f:\n",
    "    my_stopwords = list(set(map(str.strip, f.readlines())))\n",
    "\n",
    "stop = stopwords.words('spanish') + sp_stopwords + my_stopwords + list(punctuation) + list(characters)"
   ]
  },
  {
   "cell_type": "code",
   "execution_count": 6,
   "metadata": {},
   "outputs": [],
   "source": [
    "def clean1(s):\n",
    "    r = s.lower().strip()\n",
    "    rs = [w for w in nltk.word_tokenize(r) if w not in stop and len(w) > 2]\n",
    "    r = ' '.join(rs)\n",
    "    return r"
   ]
  },
  {
   "cell_type": "code",
   "execution_count": 7,
   "metadata": {},
   "outputs": [],
   "source": [
    "cleaned_text = clean1(text)"
   ]
  },
  {
   "cell_type": "code",
   "execution_count": 8,
   "metadata": {},
   "outputs": [
    {
     "name": "stdout",
     "output_type": "stream",
     "text": [
      "  1808\n",
      ". 8\n"
     ]
    }
   ],
   "source": [
    "for c in characters:\n",
    "    if c in cleaned_text:\n",
    "        print(c, cleaned_text.count(c))"
   ]
  },
  {
   "cell_type": "code",
   "execution_count": 9,
   "metadata": {},
   "outputs": [],
   "source": [
    "def clean2(s):\n",
    "    r = s\n",
    "    r = r.replace('¿', '')\n",
    "    r = r.replace('‑', '-')\n",
    "    r = r.replace('¡', '')\n",
    "    r = r.replace('—', '')\n",
    "    r = r.replace('-', '-')\n",
    "    return r"
   ]
  },
  {
   "cell_type": "code",
   "execution_count": 10,
   "metadata": {},
   "outputs": [],
   "source": [
    "cleaned_text = clean2(cleaned_text)"
   ]
  },
  {
   "cell_type": "markdown",
   "metadata": {},
   "source": [
    "## Processing data"
   ]
  },
  {
   "cell_type": "code",
   "execution_count": 11,
   "metadata": {},
   "outputs": [],
   "source": [
    "counter = Counter(cleaned_text.split())"
   ]
  },
  {
   "cell_type": "code",
   "execution_count": 12,
   "metadata": {},
   "outputs": [
    {
     "data": {
      "text/plain": [
       "[('niños', 57),\n",
       " ('niño', 20),\n",
       " ('paz', 18),\n",
       " ('silencio', 17),\n",
       " ('siempre', 16),\n",
       " ('palabras', 15),\n",
       " ('años', 13),\n",
       " ('adultos', 12),\n",
       " ('mundo', 11),\n",
       " ('hablar', 10),\n",
       " ('libro', 10),\n",
       " ('alguien', 9),\n",
       " ('fuerza', 9),\n",
       " ('quiero', 9),\n",
       " ('veces', 9),\n",
       " ('país', 8),\n",
       " ('taller', 8),\n",
       " ('piensa', 8),\n",
       " ('escuchar', 7),\n",
       " ('bien', 7),\n",
       " ('diciendo', 6),\n",
       " ('bueno', 6),\n",
       " ('javier', 6),\n",
       " ('respuestas', 6),\n",
       " ('etc', 6),\n",
       " ('familia', 6),\n",
       " ('cuento', 6),\n",
       " ('mal', 6),\n",
       " ('hecho', 6),\n",
       " ('realidad', 6),\n",
       " ('pues', 6),\n",
       " ('manera', 6),\n",
       " ('quiere', 6),\n",
       " ('trabajo', 5),\n",
       " ('conversaciones', 5),\n",
       " ('conversación', 5),\n",
       " ('dicen', 5),\n",
       " ('conversar', 5),\n",
       " ('países', 5),\n",
       " ('tristeza', 5),\n",
       " ('colombia', 5),\n",
       " ('vida', 5),\n",
       " ('mamá', 5),\n",
       " ('sentir', 5),\n",
       " ('testimonios', 5),\n",
       " ('proyecto', 5),\n",
       " ('laura', 5),\n",
       " ('casi', 5),\n",
       " ('digamos', 4),\n",
       " ('seguir', 4),\n",
       " ('mejor', 4),\n",
       " ('caza', 4),\n",
       " ('respuesta', 4),\n",
       " ('talleres', 4),\n",
       " ('pregunta', 4),\n",
       " ('dolor', 4),\n",
       " ('carmen', 4),\n",
       " ('pasa', 4),\n",
       " ('miedos', 4),\n",
       " ('emociones', 4),\n",
       " ('preguntas', 4),\n",
       " ('ahí', 4),\n",
       " ('escucha', 4),\n",
       " ('partes', 4),\n",
       " ('siento', 4),\n",
       " ('padres', 4),\n",
       " ('historia', 4),\n",
       " ('cuenta', 4),\n",
       " ('vez', 4),\n",
       " ('gracias', 4),\n",
       " ('estrellas', 4),\n",
       " ('niña', 4),\n",
       " ('chicos', 4),\n",
       " ('habla', 4),\n",
       " ('digo', 4),\n",
       " ('allí', 4),\n",
       " ('temas', 4),\n",
       " ('sucede', 4),\n",
       " ('amor', 4),\n",
       " ('importante', 4),\n",
       " ('parece', 3),\n",
       " ('encontrado', 3),\n",
       " ('voz', 3),\n",
       " ('posibilidades', 3),\n",
       " ('violencia', 3),\n",
       " ('empieza', 3),\n",
       " ('decirnos', 3),\n",
       " ('piensan', 3),\n",
       " ('diálogo', 3),\n",
       " ('parte', 3),\n",
       " ('enorme', 3),\n",
       " ('ver', 3),\n",
       " ('recuerdo', 3),\n",
       " ('juego', 3),\n",
       " ('abajo', 3),\n",
       " ('aún', 3),\n",
       " ('tantas', 3),\n",
       " ('página', 3),\n",
       " ('dan', 3),\n",
       " ('diferentes', 3)]"
      ]
     },
     "execution_count": 12,
     "metadata": {},
     "output_type": "execute_result"
    }
   ],
   "source": [
    "counter.most_common(100)"
   ]
  },
  {
   "cell_type": "markdown",
   "metadata": {},
   "source": [
    "## Saving data"
   ]
  },
  {
   "cell_type": "code",
   "execution_count": 13,
   "metadata": {},
   "outputs": [],
   "source": [
    "with open('data/out/cleaned_podcast_7.txt', 'w') as f:\n",
    "    f.write(cleaned_text)"
   ]
  },
  {
   "cell_type": "code",
   "execution_count": null,
   "metadata": {},
   "outputs": [],
   "source": []
  }
 ],
 "metadata": {
  "kernelspec": {
   "display_name": "Python 3",
   "language": "python",
   "name": "python3"
  },
  "language_info": {
   "codemirror_mode": {
    "name": "ipython",
    "version": 3
   },
   "file_extension": ".py",
   "mimetype": "text/x-python",
   "name": "python",
   "nbconvert_exporter": "python",
   "pygments_lexer": "ipython3",
   "version": "3.5.2"
  }
 },
 "nbformat": 4,
 "nbformat_minor": 2
}
